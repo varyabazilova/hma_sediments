{
 "cells": [
  {
   "cell_type": "code",
   "execution_count": 1,
   "id": "96bdeaf9-acab-4ea2-83bf-f5fb93245cd5",
   "metadata": {},
   "outputs": [],
   "source": [
    "import pandas as pd\n",
    "import matplotlib.pyplot as plt\n",
    "from SedCas_glacier_sed import SedCas\n",
    "\n"
   ]
  },
  {
   "cell_type": "code",
   "execution_count": 2,
   "id": "073c6571-a385-49b9-b8f4-0d68d1939767",
   "metadata": {},
   "outputs": [],
   "source": [
    "#testing different sediment scenarious for sediment input for the system \n"
   ]
  },
  {
   "cell_type": "code",
   "execution_count": 3,
   "id": "7b55b1db-9e84-4dc2-8861-719f464e10ee",
   "metadata": {},
   "outputs": [],
   "source": [
    "#load class\n",
    "model = SedCas()"
   ]
  },
  {
   "cell_type": "code",
   "execution_count": 4,
   "id": "01453220-3263-444a-a0ff-0868562d1fbf",
   "metadata": {},
   "outputs": [],
   "source": [
    "# print parameters\n",
    "model.load_params()\n"
   ]
  },
  {
   "cell_type": "code",
   "execution_count": 5,
   "id": "4dace78e-9989-4a97-9ca6-de9718b9cd59",
   "metadata": {},
   "outputs": [
    {
     "name": "stdout",
     "output_type": "stream",
     "text": [
      "running sediment module...\n"
     ]
    },
    {
     "name": "stderr",
     "output_type": "stream",
     "text": [
      "  0%|                                                     | 0/1 [00:00<?, ?it/s]\n"
     ]
    },
    {
     "ename": "ValueError",
     "evalue": "setting an array element with a sequence.",
     "output_type": "error",
     "traceback": [
      "\u001b[0;31m---------------------------------------------------------------------------\u001b[0m",
      "\u001b[0;31mTypeError\u001b[0m                                 Traceback (most recent call last)",
      "\u001b[0;31mTypeError\u001b[0m: float() argument must be a string or a number, not 'list'",
      "\nThe above exception was the direct cause of the following exception:\n",
      "\u001b[0;31mValueError\u001b[0m                                Traceback (most recent call last)",
      "\u001b[0;32m/var/folders/31/xdyntby945q7564txk4rqyh40000gp/T/ipykernel_93057/1200150787.py\u001b[0m in \u001b[0;36m<module>\u001b[0;34m\u001b[0m\n\u001b[1;32m      2\u001b[0m \u001b[0;31m# model.load_params()\u001b[0m\u001b[0;34m\u001b[0m\u001b[0;34m\u001b[0m\u001b[0m\n\u001b[1;32m      3\u001b[0m \u001b[0mmodel\u001b[0m\u001b[0;34m.\u001b[0m\u001b[0mrun_hydro\u001b[0m\u001b[0;34m(\u001b[0m\u001b[0;34m)\u001b[0m\u001b[0;34m\u001b[0m\u001b[0;34m\u001b[0m\u001b[0m\n\u001b[0;32m----> 4\u001b[0;31m \u001b[0mmodel\u001b[0m\u001b[0;34m.\u001b[0m\u001b[0mrun_sediment\u001b[0m\u001b[0;34m(\u001b[0m\u001b[0;34m)\u001b[0m\u001b[0;34m\u001b[0m\u001b[0;34m\u001b[0m\u001b[0m\n\u001b[0m\u001b[1;32m      5\u001b[0m \u001b[0mmodel\u001b[0m\u001b[0;34m.\u001b[0m\u001b[0msave_output\u001b[0m\u001b[0;34m(\u001b[0m\u001b[0;34m)\u001b[0m\u001b[0;34m\u001b[0m\u001b[0;34m\u001b[0m\u001b[0m\n\u001b[1;32m      6\u001b[0m \u001b[0mmodel\u001b[0m\u001b[0;34m.\u001b[0m\u001b[0mplot_sedyield_monthly\u001b[0m\u001b[0;34m(\u001b[0m\u001b[0;34m)\u001b[0m\u001b[0;34m\u001b[0m\u001b[0;34m\u001b[0m\u001b[0m\n",
      "\u001b[0;32m~/Desktop/paper2/sediment_scenarios/SedCas_glacier_sed.py\u001b[0m in \u001b[0;36mrun_sediment\u001b[0;34m(self)\u001b[0m\n\u001b[1;32m    133\u001b[0m         \u001b[0mseed\u001b[0m \u001b[0;34m=\u001b[0m \u001b[0;36m0\u001b[0m\u001b[0;34m\u001b[0m\u001b[0;34m\u001b[0m\u001b[0m\n\u001b[1;32m    134\u001b[0m         \u001b[0;32mfor\u001b[0m \u001b[0mm\u001b[0m \u001b[0;32min\u001b[0m \u001b[0mtqdm\u001b[0m\u001b[0;34m(\u001b[0m\u001b[0mrange\u001b[0m\u001b[0;34m(\u001b[0m\u001b[0mself\u001b[0m\u001b[0;34m.\u001b[0m\u001b[0mM\u001b[0m\u001b[0;34m)\u001b[0m\u001b[0;34m)\u001b[0m\u001b[0;34m:\u001b[0m\u001b[0;34m\u001b[0m\u001b[0;34m\u001b[0m\u001b[0m\n\u001b[0;32m--> 135\u001b[0;31m             \u001b[0mlrgls\u001b[0m \u001b[0;34m=\u001b[0m \u001b[0mmod\u001b[0m\u001b[0;34m.\u001b[0m\u001b[0mlarge_ls\u001b[0m\u001b[0;34m(\u001b[0m\u001b[0mself\u001b[0m\u001b[0;34m.\u001b[0m\u001b[0mTa\u001b[0m\u001b[0;34m,\u001b[0m \u001b[0mself\u001b[0m\u001b[0;34m.\u001b[0m\u001b[0mPr\u001b[0m\u001b[0;34m,\u001b[0m \u001b[0mself\u001b[0m\u001b[0;34m.\u001b[0m\u001b[0mhydro\u001b[0m\u001b[0;34m.\u001b[0m\u001b[0msnow\u001b[0m\u001b[0;34m,\u001b[0m \u001b[0mself\u001b[0m\u001b[0;34m.\u001b[0m\u001b[0mTsd\u001b[0m\u001b[0;34m,\u001b[0m \u001b[0mself\u001b[0m\u001b[0;34m.\u001b[0m\u001b[0mTpr\u001b[0m\u001b[0;34m,\u001b[0m \u001b[0mself\u001b[0m\u001b[0;34m.\u001b[0m\u001b[0mTsa\u001b[0m\u001b[0;34m,\u001b[0m \u001b[0mself\u001b[0m\u001b[0;34m.\u001b[0m\u001b[0mls_xmin\u001b[0m\u001b[0;34m,\u001b[0m \u001b[0mself\u001b[0m\u001b[0;34m.\u001b[0m\u001b[0mls_alpha\u001b[0m\u001b[0;34m,\u001b[0m \u001b[0mself\u001b[0m\u001b[0;34m.\u001b[0m\u001b[0mls_cutoff\u001b[0m\u001b[0;34m,\u001b[0m \u001b[0mself\u001b[0m\u001b[0;34m.\u001b[0m\u001b[0mTfreeze\u001b[0m\u001b[0;34m,\u001b[0m \u001b[0mself\u001b[0m\u001b[0;34m.\u001b[0m\u001b[0mLStrig\u001b[0m\u001b[0;34m,\u001b[0m \u001b[0mself\u001b[0m\u001b[0;34m.\u001b[0m\u001b[0marea\u001b[0m\u001b[0;34m,\u001b[0m \u001b[0mseed\u001b[0m\u001b[0;34m=\u001b[0m\u001b[0mseed\u001b[0m\u001b[0;34m)\u001b[0m                \u001b[0;31m# large landslided\u001b[0m\u001b[0;34m\u001b[0m\u001b[0;34m\u001b[0m\u001b[0m\n\u001b[0m\u001b[1;32m    136\u001b[0m             \u001b[0mN\u001b[0m \u001b[0;34m=\u001b[0m \u001b[0mlen\u001b[0m\u001b[0;34m(\u001b[0m\u001b[0mlrgls\u001b[0m\u001b[0;34m[\u001b[0m\u001b[0mlrgls\u001b[0m\u001b[0;34m.\u001b[0m\u001b[0mmag\u001b[0m \u001b[0;34m>\u001b[0m \u001b[0;36m0\u001b[0m\u001b[0;34m]\u001b[0m\u001b[0;34m)\u001b[0m\u001b[0;34m\u001b[0m\u001b[0;34m\u001b[0m\u001b[0m\n\u001b[1;32m    137\u001b[0m             \u001b[0msls\u001b[0m \u001b[0;34m=\u001b[0m \u001b[0mmod\u001b[0m\u001b[0;34m.\u001b[0m\u001b[0msmall_ls\u001b[0m\u001b[0;34m(\u001b[0m\u001b[0mn_days\u001b[0m\u001b[0;34m,\u001b[0m \u001b[0mN\u001b[0m\u001b[0;34m,\u001b[0m \u001b[0mself\u001b[0m\u001b[0;34m.\u001b[0m\u001b[0mls_xmin\u001b[0m\u001b[0;34m,\u001b[0m \u001b[0mself\u001b[0m\u001b[0;34m.\u001b[0m\u001b[0marea\u001b[0m\u001b[0;34m,\u001b[0m \u001b[0mseed\u001b[0m\u001b[0;34m=\u001b[0m\u001b[0mseed\u001b[0m\u001b[0;34m)\u001b[0m                         \u001b[0;31m# small landslides\u001b[0m\u001b[0;34m\u001b[0m\u001b[0;34m\u001b[0m\u001b[0m\n",
      "\u001b[0;32m~/Desktop/paper2/sediment_scenarios/modules.py\u001b[0m in \u001b[0;36mlarge_ls\u001b[0;34m(T, Pr, snow, Tsd, Tpr, Tsa, xmin, alpha, cutoff, Tfreeze, LStrig, area, seed)\u001b[0m\n\u001b[1;32m    811\u001b[0m \u001b[0;34m\u001b[0m\u001b[0m\n\u001b[1;32m    812\u001b[0m     \u001b[0;31m#output\u001b[0m\u001b[0;34m\u001b[0m\u001b[0;34m\u001b[0m\u001b[0m\n\u001b[0;32m--> 813\u001b[0;31m     \u001b[0mlrg_ls\u001b[0m\u001b[0;34m[\u001b[0m\u001b[0mlsdays\u001b[0m\u001b[0;34m]\u001b[0m \u001b[0;34m=\u001b[0m \u001b[0mmags\u001b[0m\u001b[0;34m\u001b[0m\u001b[0;34m\u001b[0m\u001b[0m\n\u001b[0m\u001b[1;32m    814\u001b[0m     \u001b[0mlrg_ls\u001b[0m \u001b[0;34m=\u001b[0m \u001b[0mlrg_ls\u001b[0m \u001b[0;34m/\u001b[0m \u001b[0marea\u001b[0m \u001b[0;34m*\u001b[0m \u001b[0;36m10.\u001b[0m\u001b[0;34m**\u001b[0m\u001b[0;34m-\u001b[0m\u001b[0;36m3\u001b[0m        \u001b[0;31m# convert m3 to mm\u001b[0m\u001b[0;34m\u001b[0m\u001b[0;34m\u001b[0m\u001b[0m\n\u001b[1;32m    815\u001b[0m     \u001b[0mdata\u001b[0m \u001b[0;34m=\u001b[0m \u001b[0;34m{\u001b[0m\u001b[0;34m'mag'\u001b[0m\u001b[0;34m:\u001b[0m \u001b[0mlrg_ls\u001b[0m\u001b[0;34m}\u001b[0m\u001b[0;34m\u001b[0m\u001b[0;34m\u001b[0m\u001b[0m\n",
      "\u001b[0;31mValueError\u001b[0m: setting an array element with a sequence."
     ]
    }
   ],
   "source": [
    "model.load_climate()\n",
    "# model.load_params()\n",
    "model.run_hydro()\n",
    "model.run_sediment()\n",
    "model.save_output()\n",
    "model.plot_sedyield_monthly()"
   ]
  },
  {
   "cell_type": "code",
   "execution_count": null,
   "id": "9ece01ba-3678-4206-a35d-bc43acce96b7",
   "metadata": {},
   "outputs": [],
   "source": []
  },
  {
   "cell_type": "code",
   "execution_count": null,
   "id": "77e60868-7aff-4a1a-9ba2-50bb3131a47f",
   "metadata": {},
   "outputs": [],
   "source": []
  },
  {
   "cell_type": "code",
   "execution_count": null,
   "id": "99b85078-fa24-48ae-989f-71d42a95153a",
   "metadata": {},
   "outputs": [],
   "source": [
    "\n"
   ]
  },
  {
   "cell_type": "code",
   "execution_count": null,
   "id": "1cde07c4-4303-4383-a64a-a5e94d020879",
   "metadata": {},
   "outputs": [],
   "source": [
    "hydro_out = pd.read_csv('/Users/varyabazilova/Desktop/paper2/sediment_scenarios/Hydro.out')\n",
    "sed_out = pd.read_csv('/Users/varyabazilova/Desktop/paper2/sediment_scenarios/Sediment.out')\n",
    "\n"
   ]
  },
  {
   "cell_type": "code",
   "execution_count": null,
   "id": "a2fefaf5-7022-4664-89eb-c095c8d85b20",
   "metadata": {},
   "outputs": [],
   "source": [
    "# hydro_out\n",
    "sed_out.head()"
   ]
  },
  {
   "cell_type": "code",
   "execution_count": null,
   "id": "b195d609-9594-47e9-9fbc-a5ee28b6e6ec",
   "metadata": {},
   "outputs": [],
   "source": [
    "sed_out.ls.plot()"
   ]
  },
  {
   "cell_type": "code",
   "execution_count": null,
   "id": "145b49ff-e979-4003-806e-d6576e3bac5d",
   "metadata": {},
   "outputs": [],
   "source": [
    "sed_out1 = sed_out.set_index('D')"
   ]
  },
  {
   "cell_type": "code",
   "execution_count": null,
   "id": "2373d278-4a48-45f0-bf8d-e7df5a3a4d81",
   "metadata": {},
   "outputs": [],
   "source": [
    "\n",
    "plt.figure(figsize = (25, 5))\n",
    "sed_out1.sc.plot(color = 'green', label = 'channel sed storage')\n",
    "# sed_out1.Qstl.plot(color = 'blue', label = 'Qstl')\n",
    "# sed_out1.Qdftl.plot(color = 'orange', label = 'Qdftl') # [mm/h]\n",
    "sed_out1.ls.plot(label = 'ls (landslides)')\n",
    "\n",
    "\n",
    "plt.legend()"
   ]
  },
  {
   "cell_type": "code",
   "execution_count": null,
   "id": "9802bcea-4fc5-45e7-bf63-2f60f0be5d0e",
   "metadata": {},
   "outputs": [],
   "source": [
    "\n",
    "plt.figure(figsize = (25, 5))\n",
    "# sed_out1.Qstl.plot(color = 'blue', label = 'Qdftl')\n",
    "hydro_out.Q.plot(color = 'green', label = 'Q', alpha = 0.7)\n",
    "sed_out1.Qdftl.plot(color = 'orange', label = 'Qdftl')\n",
    "\n",
    "plt.legend()"
   ]
  },
  {
   "cell_type": "code",
   "execution_count": null,
   "id": "cb217768-6735-493f-93bd-fc69e17a9f20",
   "metadata": {},
   "outputs": [],
   "source": [
    "plt.figure(figsize = (25, 5))\n",
    "sed_out1.Q100.plot()"
   ]
  },
  {
   "cell_type": "code",
   "execution_count": null,
   "id": "e6ce961d-98ce-4fe2-967b-23eebb81aa21",
   "metadata": {},
   "outputs": [],
   "source": []
  },
  {
   "cell_type": "code",
   "execution_count": null,
   "id": "a83765a7-02fc-4396-adf7-6e28fd4a7ed5",
   "metadata": {},
   "outputs": [],
   "source": [
    "import pandas as pd\n",
    "\n",
    "# Create a sample DataFrame\n",
    "data = {'Column X': [1, 2, 3, 4, 5]}\n",
    "df = pd.DataFrame(data)\n",
    "\n",
    "# Set the constant 'c'\n",
    "c = 2\n",
    "\n",
    "# Add a new column with the cumulative sum based on the formula X(t) = X(t-1) + c\n",
    "df['X(t)'] = df['Column X'].cumsum() + c\n",
    "\n",
    "# Display the DataFrame\n",
    "print(df)\n"
   ]
  },
  {
   "cell_type": "code",
   "execution_count": null,
   "id": "0a3591b7-423f-47e5-8b3e-481174d4e230",
   "metadata": {},
   "outputs": [],
   "source": [
    "import pandas as pd\n",
    "\n",
    "# Create a sample DataFrame\n",
    "data = {'Column X': [1, 2, 3, 4, 5]}\n",
    "df = pd.DataFrame(data)\n",
    "\n",
    "# Set the constant 'c'\n",
    "c = 20\n",
    "\n",
    "# Add a new column 'X(t-1)' by shifting 'Column X'\n",
    "df['X(t-1)'] = df['Column X'].shift(1, fill_value=0)\n",
    "\n",
    "# Add a new column 'X(t)' using the formula X(t) = X(t-1) + c\n",
    "df['X(t)'] = df['X(t-1)'].cumsum() + c\n",
    "\n",
    "# Display the DataFrame\n",
    "print(df)\n"
   ]
  },
  {
   "cell_type": "code",
   "execution_count": null,
   "id": "699d88e5-5355-4aa3-874d-288190a351b4",
   "metadata": {},
   "outputs": [],
   "source": [
    "df['X(t)'].plot(label = 'x(t)')\n",
    "df['X(t-1)'].plot(label = 'x(t-1)')\n",
    "\n",
    "plt.legend()"
   ]
  },
  {
   "cell_type": "code",
   "execution_count": null,
   "id": "78fd1045-040d-4937-82fd-f56c65617e1d",
   "metadata": {},
   "outputs": [],
   "source": []
  }
 ],
 "metadata": {
  "kernelspec": {
   "display_name": "Python [conda env:sedcas] *",
   "language": "python",
   "name": "conda-env-sedcas-py"
  },
  "language_info": {
   "codemirror_mode": {
    "name": "ipython",
    "version": 3
   },
   "file_extension": ".py",
   "mimetype": "text/x-python",
   "name": "python",
   "nbconvert_exporter": "python",
   "pygments_lexer": "ipython3",
   "version": "3.9.7"
  }
 },
 "nbformat": 4,
 "nbformat_minor": 5
}
