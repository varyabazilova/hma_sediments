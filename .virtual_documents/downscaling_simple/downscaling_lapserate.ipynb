


import xarray as xr
import pandas as pd
import matplotlib.pyplot as plt


geopotential = xr.open_dataset('/Users/varyabazilova/Desktop/paper2/Thesisfiles_Varya/climate/elevation/geopotential.nc')


geopotential.z.plot()


langtang_elevation = pd.read_csv('/Users/varyabazilova/Desktop/paper2/Thesisfiles_Varya/climate/elevation/geopotential_langtang.csv')


era5land = xr.open_dataset('/Users/varyabazilova/Desktop/paper2/Thesisfiles_Varya/climate/Era5/langtang/temp/2022.nc')


era5land.t2m.isel(time = 1).plot()


plt.figure(figsize=(13,10))
era5land.t2m.isel(time = 1).plot(alpha = 0.5)
plt.scatter(x = langtang_elevation.Longitude, y = langtang_elevation.Latitude)


# langtang dem - alluvial fans dem part 9
dempath = '/Users/varyabazilova/Desktop/alluvial_fans/dem_all/new_points_catchmetns/all_points/1_dem/'

dem_hma = xr.open_dataset(dempath + 'dem_clip.tif')
# clip using the langtang-ish bbox


min_lon = era5land.longitude.values.min()
min_lat = era5land.latitude.values.min()
max_lon = era5land.longitude.values.max()
max_lat = era5land.latitude.values.max()

dem = dem_hma.rio.clip_box(minx=85, miny=28, maxx=86, maxy=29)



longitudes = langtang_elevation.Longitude
latitudes = langtang_elevation.Latitude

selected = dem.sel(x = longitudes, y = latitudes, method = 'nearest')


dem.band_data.plot()


df = selected.to_dataframe()
df = df.reset_index()
df = df.drop_duplicates()
df = df.rename(columns = {'x':'Longitude', 'y':'Latitude'})



df


plt.figure(figsize=(13,10))
era5land.t2m.isel(time = 1).plot(alpha = 0.5)
# plt.scatter(x = df.x, y = df.y, c = df.band_data, cmap = 'magma', marker = 'x')
plt.scatter(x = langtang_elevation.Longitude, y = langtang_elevation.Latitude)
plt.colorbar()


langtang_elevation = langtang_elevation.round(3)
df = df.round(3)


merged = langtang_elevation.merge(df, on = ['Longitude', 'Latitude'])









# z - geopotential 
# band_data = dem data 
# delts H = difference between geopotential and DEM info
merged['delta_H'] = merged.z - merged.band_data 





merged['delta_t'] = merged.delta_H * 6.5/1000















