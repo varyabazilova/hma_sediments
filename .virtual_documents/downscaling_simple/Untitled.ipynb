


import xarray as xr
import pandas as pd
import matplotlib.pyplot as plt


geopotential = xr.open_dataset('/Users/varyabazilova/Desktop/paper2/Thesisfiles_Varya/climate/elevation/geopotential.nc')



