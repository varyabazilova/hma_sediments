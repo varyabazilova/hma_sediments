{
 "cells": [
  {
   "cell_type": "code",
   "execution_count": 1,
   "id": "221b8a8a-2c83-4630-81e5-61c6d412df80",
   "metadata": {},
   "outputs": [],
   "source": [
    "# Load libraries\n",
    "\n",
    "from TopoPyScale import topoclass as tc\n",
    "from TopoPyScale import topo_plot as plot\n",
    "import matplotlib.pyplot as plt\n",
    "\n",
    "import pprint\n",
    "\n",
    "import xarray as xr"
   ]
  },
  {
   "cell_type": "code",
   "execution_count": 2,
   "id": "f8bc999d-8eb7-4d2f-b087-6afcf8d696b2",
   "metadata": {},
   "outputs": [],
   "source": [
    "# make config file\n",
    "# load dem\n",
    "# do dem things\n",
    "# cluster\n",
    "# then use that clusters to downscale\n",
    "# map back\n"
   ]
  },
  {
   "cell_type": "code",
   "execution_count": null,
   "id": "646f287a-1d61-4c31-9210-12067b27d49c",
   "metadata": {
    "jp-MarkdownHeadingCollapsed": true
   },
   "outputs": [
    {
     "name": "stdout",
     "output_type": "stream",
     "text": [
      "---> Output directory cleaned\n",
      "---> no FSM directory to clean\n",
      "---> no ensemble directory to clean\n",
      "\n",
      "---> DEM file found\n",
      "{'latN': 28, 'latS': 28, 'lonW': 85, 'lonE': 86}\n",
      "Project lat/lon extent:\n",
      "\n",
      "\t------------------------------\n",
      "\t|        North:28          |\n",
      "\t|West:85          East:86|\n",
      "\t|        South:28          |\n",
      "\t------------------------------\n",
      "\n",
      "\n",
      "---> Loading ERA5 surf climate forcing\n",
      "Start =  2004-Dec\n",
      "End =  2023-Dec\n",
      "ECWMF SURF data found:\n",
      "0      SURF_200412.nc\n",
      "1      SURF_200501.nc\n",
      "2      SURF_200502.nc\n",
      "3      SURF_200503.nc\n",
      "4      SURF_200504.nc\n",
      "            ...      \n",
      "224    SURF_202308.nc\n",
      "225    SURF_202309.nc\n",
      "226    SURF_202310.nc\n",
      "227    SURF_202311.nc\n",
      "228    SURF_202312.nc\n",
      "Name: target_file, Length: 229, dtype: object\n",
      "\n",
      "\n",
      "---> Loading ERA5 plev climate forcing\n",
      "Start =  2004-Dec\n",
      "End =  2023-Dec\n",
      "ECWMF PLEV data found:\n",
      "0      PLEV_200412.nc\n",
      "1      PLEV_200501.nc\n",
      "2      PLEV_200502.nc\n",
      "3      PLEV_200503.nc\n",
      "4      PLEV_200504.nc\n",
      "            ...      \n",
      "137    PLEV_201605.nc\n",
      "139    PLEV_201607.nc\n",
      "143    PLEV_201611.nc\n",
      "145    PLEV_201701.nc\n",
      "149    PLEV_201705.nc\n",
      "Name: target_file, Length: 124, dtype: object\n",
      "Downloading PLEV from ECWMF:\n",
      "51     PLEV_200903.nc\n",
      "69     PLEV_201009.nc\n",
      "80     PLEV_201108.nc\n",
      "88     PLEV_201204.nc\n",
      "100    PLEV_201304.nc\n",
      "            ...      \n",
      "224    PLEV_202308.nc\n",
      "225    PLEV_202309.nc\n",
      "226    PLEV_202310.nc\n",
      "227    PLEV_202311.nc\n",
      "228    PLEV_202312.nc\n",
      "Name: target_file, Length: 105, dtype: object\n"
     ]
    },
    {
     "name": "stderr",
     "output_type": "stream",
     "text": [
      "2024-03-22 19:18:28,619 INFO Welcome to the CDS\n",
      "2024-03-22 19:18:28,622 INFO Welcome to the CDS\n",
      "2024-03-22 19:18:28,624 INFO Sending request to https://cds.climate.copernicus.eu/api/v2/resources/reanalysis-era5-pressure-levels\n",
      "2024-03-22 19:18:28,627 INFO Welcome to the CDS\n",
      "2024-03-22 19:18:28,628 INFO Welcome to the CDS\n",
      "2024-03-22 19:18:28,628 INFO Sending request to https://cds.climate.copernicus.eu/api/v2/resources/reanalysis-era5-pressure-levels\n",
      "2024-03-22 19:18:28,637 INFO Welcome to the CDS\n",
      "2024-03-22 19:18:28,637 INFO Sending request to https://cds.climate.copernicus.eu/api/v2/resources/reanalysis-era5-pressure-levels\n",
      "2024-03-22 19:18:28,639 INFO Welcome to the CDS\n",
      "2024-03-22 19:18:28,640 INFO Welcome to the CDS\n",
      "2024-03-22 19:18:28,642 INFO Sending request to https://cds.climate.copernicus.eu/api/v2/resources/reanalysis-era5-pressure-levels\n",
      "2024-03-22 19:18:28,643 INFO Welcome to the CDS\n",
      "2024-03-22 19:18:28,645 INFO Welcome to the CDS\n",
      "2024-03-22 19:18:28,648 INFO Sending request to https://cds.climate.copernicus.eu/api/v2/resources/reanalysis-era5-pressure-levels\n",
      "2024-03-22 19:18:28,654 INFO Welcome to the CDS\n",
      "2024-03-22 19:18:28,655 INFO Welcome to the CDS\n",
      "2024-03-22 19:18:28,655 INFO Sending request to https://cds.climate.copernicus.eu/api/v2/resources/reanalysis-era5-pressure-levels\n",
      "2024-03-22 19:18:28,657 INFO Sending request to https://cds.climate.copernicus.eu/api/v2/resources/reanalysis-era5-pressure-levels\n",
      "2024-03-22 19:18:28,661 INFO Welcome to the CDS\n",
      "2024-03-22 19:18:28,662 INFO Sending request to https://cds.climate.copernicus.eu/api/v2/resources/reanalysis-era5-pressure-levels\n",
      "2024-03-22 19:18:28,663 INFO Sending request to https://cds.climate.copernicus.eu/api/v2/resources/reanalysis-era5-pressure-levels\n",
      "2024-03-22 19:18:28,664 INFO Welcome to the CDS\n",
      "2024-03-22 19:18:28,667 INFO Welcome to the CDS\n",
      "2024-03-22 19:18:28,672 INFO Welcome to the CDS\n",
      "2024-03-22 19:18:28,672 INFO Sending request to https://cds.climate.copernicus.eu/api/v2/resources/reanalysis-era5-pressure-levels\n",
      "2024-03-22 19:18:28,676 INFO Welcome to the CDS\n",
      "2024-03-22 19:18:28,677 INFO Sending request to https://cds.climate.copernicus.eu/api/v2/resources/reanalysis-era5-pressure-levels\n",
      "2024-03-22 19:18:28,680 INFO Welcome to the CDS\n",
      "2024-03-22 19:18:28,683 INFO Welcome to the CDS\n",
      "2024-03-22 19:18:28,686 INFO Sending request to https://cds.climate.copernicus.eu/api/v2/resources/reanalysis-era5-pressure-levels\n",
      "2024-03-22 19:18:28,689 INFO Welcome to the CDS\n",
      "2024-03-22 19:18:28,691 INFO Welcome to the CDS\n",
      "2024-03-22 19:18:28,694 INFO Welcome to the CDS\n",
      "2024-03-22 19:18:28,694 INFO Sending request to https://cds.climate.copernicus.eu/api/v2/resources/reanalysis-era5-pressure-levels\n",
      "2024-03-22 19:18:28,695 INFO Sending request to https://cds.climate.copernicus.eu/api/v2/resources/reanalysis-era5-pressure-levels\n",
      "2024-03-22 19:18:28,696 INFO Sending request to https://cds.climate.copernicus.eu/api/v2/resources/reanalysis-era5-pressure-levels\n",
      "2024-03-22 19:18:28,697 INFO Welcome to the CDS\n",
      "2024-03-22 19:18:28,698 INFO Sending request to https://cds.climate.copernicus.eu/api/v2/resources/reanalysis-era5-pressure-levels\n",
      "2024-03-22 19:18:28,701 INFO Sending request to https://cds.climate.copernicus.eu/api/v2/resources/reanalysis-era5-pressure-levels\n",
      "2024-03-22 19:18:28,702 INFO Sending request to https://cds.climate.copernicus.eu/api/v2/resources/reanalysis-era5-pressure-levels\n",
      "2024-03-22 19:18:28,703 INFO Welcome to the CDS\n",
      "2024-03-22 19:18:28,703 INFO Welcome to the CDS\n",
      "2024-03-22 19:18:28,705 INFO Sending request to https://cds.climate.copernicus.eu/api/v2/resources/reanalysis-era5-pressure-levels\n",
      "2024-03-22 19:18:28,706 INFO Sending request to https://cds.climate.copernicus.eu/api/v2/resources/reanalysis-era5-pressure-levels\n",
      "2024-03-22 19:18:28,707 INFO Sending request to https://cds.climate.copernicus.eu/api/v2/resources/reanalysis-era5-pressure-levels\n",
      "2024-03-22 19:18:28,707 INFO Welcome to the CDS\n",
      "2024-03-22 19:18:28,712 INFO Welcome to the CDS\n",
      "2024-03-22 19:18:28,713 INFO Sending request to https://cds.climate.copernicus.eu/api/v2/resources/reanalysis-era5-pressure-levels\n",
      "2024-03-22 19:18:28,715 INFO Welcome to the CDS\n",
      "2024-03-22 19:18:28,721 INFO Welcome to the CDS\n",
      "2024-03-22 19:18:28,722 INFO Sending request to https://cds.climate.copernicus.eu/api/v2/resources/reanalysis-era5-pressure-levels\n",
      "2024-03-22 19:18:28,723 INFO Sending request to https://cds.climate.copernicus.eu/api/v2/resources/reanalysis-era5-pressure-levels\n",
      "2024-03-22 19:18:28,724 INFO Welcome to the CDS\n",
      "2024-03-22 19:18:28,726 INFO Welcome to the CDS\n",
      "2024-03-22 19:18:28,729 INFO Sending request to https://cds.climate.copernicus.eu/api/v2/resources/reanalysis-era5-pressure-levels\n",
      "2024-03-22 19:18:28,730 INFO Sending request to https://cds.climate.copernicus.eu/api/v2/resources/reanalysis-era5-pressure-levels\n",
      "2024-03-22 19:18:28,732 INFO Sending request to https://cds.climate.copernicus.eu/api/v2/resources/reanalysis-era5-pressure-levels\n",
      "2024-03-22 19:18:28,733 INFO Sending request to https://cds.climate.copernicus.eu/api/v2/resources/reanalysis-era5-pressure-levels\n",
      "2024-03-22 19:18:28,738 INFO Sending request to https://cds.climate.copernicus.eu/api/v2/resources/reanalysis-era5-pressure-levels\n",
      "2024-03-22 19:18:28,741 INFO Sending request to https://cds.climate.copernicus.eu/api/v2/resources/reanalysis-era5-pressure-levels\n",
      "2024-03-22 19:18:28,804 INFO Request is queued\n",
      "2024-03-22 19:18:28,813 INFO Request is queued\n",
      "2024-03-22 19:18:28,828 INFO Request is queued\n",
      "2024-03-22 19:18:28,844 INFO Request is queued\n",
      "2024-03-22 19:18:28,863 INFO Request is queued\n",
      "2024-03-22 19:18:28,873 INFO Request is queued\n",
      "2024-03-22 19:18:28,885 INFO Request is queued\n",
      "2024-03-22 19:18:28,890 INFO Request is queued\n",
      "2024-03-22 19:18:28,907 INFO Request is queued\n",
      "2024-03-22 19:18:28,922 INFO Request is queued\n",
      "2024-03-22 19:18:28,947 INFO Request is queued\n",
      "2024-03-22 19:18:28,958 INFO Request is queued\n",
      "2024-03-22 19:18:28,960 INFO Request is queued\n",
      "2024-03-22 19:18:28,980 INFO Request is queued\n",
      "2024-03-22 19:18:28,995 INFO Request is queued\n",
      "2024-03-22 19:18:29,015 INFO Request is queued\n",
      "2024-03-22 19:18:29,026 INFO Request is queued\n",
      "2024-03-22 19:18:29,029 INFO Request is queued\n",
      "2024-03-22 19:18:29,033 INFO Request is queued\n",
      "2024-03-22 19:18:29,069 INFO Request is queued\n",
      "2024-03-22 19:18:29,073 INFO Request is queued\n",
      "2024-03-22 19:18:29,081 INFO Request is queued\n",
      "2024-03-22 19:18:29,093 INFO Request is queued\n",
      "2024-03-22 19:18:29,097 INFO Request is queued\n",
      "2024-03-22 19:18:29,107 INFO Request is queued\n",
      "2024-03-22 19:18:29,137 INFO Request is queued\n",
      "2024-03-22 19:18:29,491 INFO Request is queued\n",
      "2024-03-22 19:18:29,526 INFO Request is queued\n",
      "2024-03-22 19:18:29,564 INFO Request is queued\n",
      "2024-03-22 19:18:29,596 INFO Request is queued\n",
      "2024-03-22 19:40:26,176 WARNING Connection error: [('Connection aborted.', TimeoutError(60, 'Operation timed out'))]. Attempt 1 of 500.\n",
      "2024-03-22 19:40:26,179 WARNING Retrying in 120 seconds\n",
      "2024-03-22 19:40:27,264 WARNING Connection error: [('Connection aborted.', TimeoutError(60, 'Operation timed out'))]. Attempt 1 of 500.\n",
      "2024-03-22 19:40:27,266 WARNING Retrying in 120 seconds\n",
      "2024-03-22 19:40:29,307 WARNING Connection error: [('Connection aborted.', TimeoutError(60, 'Operation timed out'))]. Attempt 1 of 500.\n",
      "2024-03-22 19:40:29,310 WARNING Retrying in 120 seconds\n",
      "2024-03-22 19:40:30,333 WARNING Connection error: [('Connection aborted.', TimeoutError(60, 'Operation timed out'))]. Attempt 1 of 500.\n",
      "2024-03-22 19:40:30,335 WARNING Retrying in 120 seconds\n",
      "2024-03-22 19:40:30,431 WARNING Connection error: [('Connection aborted.', TimeoutError(60, 'Operation timed out'))]. Attempt 1 of 500.\n",
      "2024-03-22 19:40:30,434 WARNING Retrying in 120 seconds\n",
      "2024-03-22 19:40:30,958 WARNING Connection error: [('Connection aborted.', TimeoutError(60, 'Operation timed out'))]. Attempt 1 of 500.\n",
      "2024-03-22 19:40:30,960 WARNING Retrying in 120 seconds\n",
      "2024-03-22 19:40:31,350 WARNING Connection error: [('Connection aborted.', TimeoutError(60, 'Operation timed out'))]. Attempt 1 of 500.\n",
      "2024-03-22 19:40:31,352 WARNING Retrying in 120 seconds\n",
      "2024-03-22 19:40:33,068 WARNING Connection error: [('Connection aborted.', TimeoutError(60, 'Operation timed out'))]. Attempt 1 of 500.\n",
      "2024-03-22 19:40:33,071 WARNING Retrying in 120 seconds\n",
      "2024-03-22 19:40:34,607 WARNING Connection error: [('Connection aborted.', TimeoutError(60, 'Operation timed out'))]. Attempt 1 of 500.\n",
      "2024-03-22 19:40:34,610 WARNING Retrying in 120 seconds\n",
      "2024-03-22 19:40:35,657 WARNING Connection error: [('Connection aborted.', TimeoutError(60, 'Operation timed out'))]. Attempt 1 of 500.\n",
      "2024-03-22 19:40:35,659 WARNING Retrying in 120 seconds\n",
      "2024-03-22 19:42:26,180 INFO Retrying now...\n",
      "2024-03-22 19:42:27,269 INFO Retrying now...\n",
      "2024-03-22 19:42:29,315 INFO Retrying now...\n",
      "2024-03-22 19:42:30,340 INFO Retrying now...\n",
      "2024-03-22 19:42:30,441 INFO Retrying now...\n",
      "2024-03-22 19:42:30,962 INFO Retrying now...\n",
      "2024-03-22 19:42:31,358 INFO Retrying now...\n",
      "2024-03-22 19:42:33,075 INFO Retrying now...\n",
      "2024-03-22 19:42:34,611 INFO Retrying now...\n",
      "2024-03-22 19:42:35,659 INFO Retrying now...\n",
      "2024-03-22 20:00:22,977 WARNING Connection error: [('Connection aborted.', TimeoutError(60, 'Operation timed out'))]. Attempt 1 of 500.\n",
      "2024-03-22 20:00:22,982 WARNING Retrying in 120 seconds\n",
      "2024-03-22 20:00:30,068 WARNING Connection error: [('Connection aborted.', TimeoutError(60, 'Operation timed out'))]. Attempt 1 of 500.\n",
      "2024-03-22 20:00:30,070 WARNING Retrying in 120 seconds\n",
      "2024-03-22 20:00:37,353 WARNING Connection error: [('Connection aborted.', TimeoutError(60, 'Operation timed out'))]. Attempt 1 of 500.\n",
      "2024-03-22 20:00:37,354 WARNING Retrying in 120 seconds\n",
      "2024-03-22 20:00:37,862 WARNING Connection error: [('Connection aborted.', TimeoutError(60, 'Operation timed out'))]. Attempt 1 of 500.\n",
      "2024-03-22 20:00:37,864 WARNING Retrying in 120 seconds\n",
      "2024-03-22 20:00:39,396 WARNING Connection error: [('Connection aborted.', TimeoutError(60, 'Operation timed out'))]. Attempt 1 of 500.\n",
      "2024-03-22 20:00:39,398 WARNING Retrying in 120 seconds\n",
      "2024-03-22 20:00:41,470 WARNING Connection error: [('Connection aborted.', TimeoutError(60, 'Operation timed out'))]. Attempt 1 of 500.\n",
      "2024-03-22 20:00:41,473 WARNING Retrying in 120 seconds\n",
      "2024-03-22 20:00:47,059 WARNING Connection error: [('Connection aborted.', TimeoutError(60, 'Operation timed out'))]. Attempt 1 of 500.\n",
      "2024-03-22 20:00:47,061 WARNING Retrying in 120 seconds\n",
      "2024-03-22 20:00:48,498 WARNING Connection error: [('Connection aborted.', TimeoutError(60, 'Operation timed out'))]. Attempt 1 of 500.\n",
      "2024-03-22 20:00:48,500 WARNING Retrying in 120 seconds\n",
      "2024-03-22 20:00:48,567 WARNING Connection error: [('Connection aborted.', TimeoutError(60, 'Operation timed out'))]. Attempt 1 of 500.\n",
      "2024-03-22 20:00:48,569 WARNING Retrying in 120 seconds\n",
      "2024-03-22 20:00:48,600 WARNING Connection error: [('Connection aborted.', TimeoutError(60, 'Operation timed out'))]. Attempt 1 of 500.\n",
      "2024-03-22 20:00:48,602 WARNING Retrying in 120 seconds\n",
      "2024-03-22 20:02:22,990 INFO Retrying now...\n",
      "2024-03-22 20:02:30,075 INFO Retrying now...\n",
      "2024-03-22 20:02:37,361 INFO Retrying now...\n",
      "2024-03-22 20:02:37,871 INFO Retrying now...\n",
      "2024-03-22 20:02:39,405 INFO Retrying now...\n",
      "2024-03-22 20:02:41,484 INFO Retrying now...\n",
      "2024-03-22 20:02:47,069 INFO Retrying now...\n",
      "2024-03-22 20:02:48,508 INFO Retrying now...\n",
      "2024-03-22 20:02:48,578 INFO Retrying now...\n",
      "2024-03-22 20:02:48,610 INFO Retrying now...\n",
      "2024-03-22 20:32:09,543 WARNING Connection error: [('Connection aborted.', TimeoutError(60, 'Operation timed out'))]. Attempt 1 of 500.\n",
      "2024-03-22 20:32:09,548 WARNING Retrying in 120 seconds\n",
      "2024-03-22 20:33:15,346 WARNING Connection error: [('Connection aborted.', TimeoutError(60, 'Operation timed out'))]. Attempt 1 of 500.\n",
      "2024-03-22 20:33:15,349 WARNING Retrying in 120 seconds\n",
      "2024-03-22 20:33:25,111 WARNING Connection error: [('Connection aborted.', TimeoutError(60, 'Operation timed out'))]. Attempt 1 of 500.\n",
      "2024-03-22 20:33:25,114 WARNING Retrying in 120 seconds\n",
      "2024-03-22 20:33:26,667 WARNING Connection error: [('Connection aborted.', TimeoutError(60, 'Operation timed out'))]. Attempt 1 of 500.\n",
      "2024-03-22 20:33:26,670 WARNING Retrying in 120 seconds\n",
      "2024-03-22 20:33:27,178 WARNING Connection error: [('Connection aborted.', TimeoutError(60, 'Operation timed out'))]. Attempt 1 of 500.\n",
      "2024-03-22 20:33:27,180 WARNING Retrying in 120 seconds\n",
      "2024-03-22 20:33:28,659 WARNING Connection error: [('Connection aborted.', TimeoutError(60, 'Operation timed out'))]. Attempt 1 of 500.\n",
      "2024-03-22 20:33:28,661 WARNING Retrying in 120 seconds\n",
      "2024-03-22 20:33:29,692 WARNING Connection error: [('Connection aborted.', TimeoutError(60, 'Operation timed out'))]. Attempt 1 of 500.\n",
      "2024-03-22 20:33:29,695 WARNING Retrying in 120 seconds\n",
      "2024-03-22 20:33:31,216 WARNING Connection error: [('Connection aborted.', TimeoutError(60, 'Operation timed out'))]. Attempt 1 of 500.\n",
      "2024-03-22 20:33:31,218 WARNING Retrying in 120 seconds\n",
      "2024-03-22 20:33:31,699 WARNING Connection error: [('Connection aborted.', TimeoutError(60, 'Operation timed out'))]. Attempt 1 of 500.\n",
      "2024-03-22 20:33:31,701 WARNING Retrying in 120 seconds\n",
      "2024-03-22 20:33:33,259 WARNING Connection error: [('Connection aborted.', TimeoutError(60, 'Operation timed out'))]. Attempt 1 of 500.\n",
      "2024-03-22 20:33:33,262 WARNING Retrying in 120 seconds\n",
      "2024-03-22 20:34:09,555 INFO Retrying now...\n",
      "2024-03-22 20:35:15,357 INFO Retrying now...\n",
      "2024-03-22 20:35:25,121 INFO Retrying now...\n",
      "2024-03-22 20:35:26,678 INFO Retrying now...\n",
      "2024-03-22 20:35:27,188 INFO Retrying now...\n",
      "2024-03-22 20:35:28,666 INFO Retrying now...\n",
      "2024-03-22 20:35:29,703 INFO Retrying now...\n",
      "2024-03-22 20:35:31,227 INFO Retrying now...\n",
      "2024-03-22 20:35:31,707 INFO Retrying now...\n",
      "2024-03-22 20:35:33,270 INFO Retrying now...\n",
      "2024-03-23 03:21:54,220 INFO Request is running\n",
      "2024-03-23 04:17:52,764 INFO Request is running\n",
      "2024-03-23 04:17:56,690 INFO Request is completed\n",
      "2024-03-23 04:17:56,693 INFO Downloading https://download-0016.copernicus-climate.eu/cache-compute-0016/cache/data6/adaptor.mars.internal-1711163695.9858246-2917-7-f1f659f1-1979-48b2-89fa-056f1e0261a0.nc to .//inputs/climate/PLEV_201508.nc (4.6M)\n",
      "2024-03-23 04:17:59,790 INFO Download rate 1.5M/s                               \n",
      "2024-03-23 04:17:59,949 INFO Welcome to the CDS\n",
      "2024-03-23 04:17:59,952 INFO Sending request to https://cds.climate.copernicus.eu/api/v2/resources/reanalysis-era5-pressure-levels\n"
     ]
    },
    {
     "name": "stdout",
     "output_type": "stream",
     "text": [
      ".//inputs/climate/PLEV_201508.nc complete\n"
     ]
    },
    {
     "name": "stderr",
     "output_type": "stream",
     "text": [
      "2024-03-23 04:18:00,086 INFO Request is queued\n",
      "2024-03-23 06:41:59,199 INFO Request is completed\n",
      "2024-03-23 06:41:59,202 INFO Downloading https://download-0005-clone.copernicus-climate.eu/cache-compute-0005/cache/data8/adaptor.mars.internal-1711172315.9702513-9748-1-b183f4ec-357f-43fa-9efa-b206db499542.nc to .//inputs/climate/PLEV_201108.nc (4.6M)\n",
      " 93%|███████████████████████████████████▏  | 4.30M/4.64M [00:02<00:00, 2.19MB/s]2024-03-23 06:42:02,086 INFO Request is running\n",
      "2024-03-23 06:42:02,234 INFO Download rate 1.5M/s                               \n",
      "2024-03-23 06:42:02,389 INFO Welcome to the CDS\n",
      "2024-03-23 06:42:02,392 INFO Sending request to https://cds.climate.copernicus.eu/api/v2/resources/reanalysis-era5-pressure-levels\n"
     ]
    },
    {
     "name": "stdout",
     "output_type": "stream",
     "text": [
      ".//inputs/climate/PLEV_201108.nc complete\n"
     ]
    },
    {
     "name": "stderr",
     "output_type": "stream",
     "text": [
      "2024-03-23 06:42:02,538 INFO Request is queued\n",
      "2024-03-23 08:38:01,873 INFO Request is running\n",
      "2024-03-23 08:38:07,409 INFO Request is completed\n",
      "2024-03-23 08:38:07,411 INFO Downloading https://download-0002-clone.copernicus-climate.eu/cache-compute-0002/cache/data4/adaptor.mars.internal-1711179249.026674-17184-7-86982d82-f064-438d-bdef-37dc869ecca0.nc to .//inputs/climate/PLEV_201704.nc (4.5M)\n",
      "2024-03-23 08:38:10,282 INFO Download rate 1.6M/s                               \n",
      "2024-03-23 08:38:10,437 INFO Welcome to the CDS\n",
      "2024-03-23 08:38:10,439 INFO Sending request to https://cds.climate.copernicus.eu/api/v2/resources/reanalysis-era5-pressure-levels\n"
     ]
    },
    {
     "name": "stdout",
     "output_type": "stream",
     "text": [
      ".//inputs/climate/PLEV_201704.nc complete\n"
     ]
    },
    {
     "name": "stderr",
     "output_type": "stream",
     "text": [
      "2024-03-23 08:38:10,588 INFO Request is queued\n",
      "2024-03-23 09:28:04,428 INFO Request is completed\n",
      "2024-03-23 09:28:04,430 INFO Downloading https://download-0008-clone.copernicus-climate.eu/cache-compute-0008/cache/data6/adaptor.mars.internal-1711182242.332053-20038-16-0562aecc-5846-46c1-a97d-5154b0355850.nc to .//inputs/climate/PLEV_201506.nc (4.5M)\n",
      " 69%|██████████████████████████▊            | 3.09M/4.49M [00:02<00:02, 726kB/s]2024-03-23 09:28:07,628 INFO Request is running\n",
      "2024-03-23 09:28:14,491 INFO Download rate 456.9K/s                             \n",
      "2024-03-23 09:28:14,635 INFO Welcome to the CDS\n",
      "2024-03-23 09:28:14,637 INFO Sending request to https://cds.climate.copernicus.eu/api/v2/resources/reanalysis-era5-pressure-levels\n",
      "2024-03-23 09:28:14,754 INFO Request is queued\n"
     ]
    },
    {
     "name": "stdout",
     "output_type": "stream",
     "text": [
      ".//inputs/climate/PLEV_201506.nc complete\n"
     ]
    },
    {
     "name": "stderr",
     "output_type": "stream",
     "text": [
      "2024-03-23 10:18:09,535 INFO Request is running\n",
      "2024-03-23 10:18:09,744 INFO Request is completed\n",
      "2024-03-23 10:18:09,746 INFO Downloading https://download-0020.copernicus-climate.eu/cache-compute-0020/cache/data9/adaptor.mars.internal-1711185303.3111563-26803-18-11010eed-aba3-47ef-974f-20f5dfeb787f.nc to .//inputs/climate/PLEV_201412.nc (4.6M)\n",
      "2024-03-23 10:18:12,647 INFO Download rate 1.6M/s                               \n",
      "2024-03-23 10:18:12,799 INFO Welcome to the CDS\n",
      "2024-03-23 10:18:12,801 INFO Sending request to https://cds.climate.copernicus.eu/api/v2/resources/reanalysis-era5-pressure-levels\n"
     ]
    },
    {
     "name": "stdout",
     "output_type": "stream",
     "text": [
      ".//inputs/climate/PLEV_201412.nc complete\n"
     ]
    },
    {
     "name": "stderr",
     "output_type": "stream",
     "text": [
      "2024-03-23 10:18:12,954 INFO Request is queued\n",
      "2024-03-23 11:00:11,480 WARNING Connection error: [('Connection aborted.', RemoteDisconnected('Remote end closed connection without response'))]. Attempt 1 of 500.\n",
      "2024-03-23 11:00:11,482 WARNING Retrying in 120 seconds\n",
      "2024-03-23 11:02:11,494 INFO Retrying now...\n",
      "2024-03-23 11:07:57,969 INFO Request is running\n",
      "2024-03-23 11:08:13,028 INFO Request is completed\n",
      "2024-03-23 11:08:13,031 INFO Downloading https://download-0001-clone.copernicus-climate.eu/cache-compute-0001/cache/data1/adaptor.mars.internal-1711188287.6426966-27265-1-60ba6318-aa4d-407a-be45-f72bcbea191f.nc to .//inputs/climate/PLEV_201505.nc (4.6M)\n",
      "2024-03-23 11:08:15,997 INFO Download rate 1.6M/s                               \n",
      "2024-03-23 11:08:16,155 INFO Welcome to the CDS\n",
      "2024-03-23 11:08:16,157 INFO Sending request to https://cds.climate.copernicus.eu/api/v2/resources/reanalysis-era5-pressure-levels\n"
     ]
    },
    {
     "name": "stdout",
     "output_type": "stream",
     "text": [
      ".//inputs/climate/PLEV_201505.nc complete\n"
     ]
    },
    {
     "name": "stderr",
     "output_type": "stream",
     "text": [
      "2024-03-23 11:08:16,308 INFO Request is queued\n",
      "2024-03-23 12:08:17,742 INFO Request is running\n",
      "2024-03-23 12:10:02,183 INFO Request is completed\n",
      "2024-03-23 12:10:02,188 INFO Downloading https://download-0018.copernicus-climate.eu/cache-compute-0018/cache/data5/adaptor.mars.internal-1711191941.1833193-32733-16-c8fc8b93-c09e-4410-a32d-67109bb347af.nc to .//inputs/climate/PLEV_201610.nc (4.6M)\n",
      "2024-03-23 12:10:05,014 INFO Download rate 1.6M/s                               \n",
      "2024-03-23 12:10:05,164 INFO Welcome to the CDS\n",
      "2024-03-23 12:10:05,166 INFO Sending request to https://cds.climate.copernicus.eu/api/v2/resources/reanalysis-era5-pressure-levels\n",
      "2024-03-23 12:10:05,274 INFO Request is queued\n"
     ]
    },
    {
     "name": "stdout",
     "output_type": "stream",
     "text": [
      ".//inputs/climate/PLEV_201610.nc complete\n"
     ]
    },
    {
     "name": "stderr",
     "output_type": "stream",
     "text": [
      "2024-03-23 13:32:20,624 INFO Request is running\n",
      "2024-03-23 13:32:22,250 INFO Request is completed\n",
      "2024-03-23 13:32:22,252 INFO Downloading https://download-0005-clone.copernicus-climate.eu/cache-compute-0005/cache/data7/adaptor.mars.internal-1711196969.9614332-28035-17-ddeafd02-019c-451f-8808-e88840fe2d74.nc to .//inputs/climate/PLEV_201204.nc (4.5M)\n",
      "2024-03-23 13:32:25,139 INFO Download rate 1.6M/s                               \n",
      "2024-03-23 13:32:25,286 INFO Welcome to the CDS\n",
      "2024-03-23 13:32:25,289 INFO Sending request to https://cds.climate.copernicus.eu/api/v2/resources/reanalysis-era5-pressure-levels\n"
     ]
    },
    {
     "name": "stdout",
     "output_type": "stream",
     "text": [
      ".//inputs/climate/PLEV_201204.nc complete\n"
     ]
    },
    {
     "name": "stderr",
     "output_type": "stream",
     "text": [
      "2024-03-23 13:32:25,432 INFO Request is queued\n",
      "2024-03-23 14:20:20,693 INFO Request is running\n",
      "2024-03-23 14:20:23,033 INFO Request is completed\n",
      "2024-03-23 14:20:23,035 INFO Downloading https://download-0017.copernicus-climate.eu/cache-compute-0017/cache/data0/adaptor.mars.internal-1711199848.7285268-17039-1-beb72b8f-a04b-49f7-8acd-5d9dc5e1194e.nc to .//inputs/climate/PLEV_201702.nc (4.2M)\n",
      "2024-03-23 14:20:26,489 INFO Download rate 1.2M/s                               \n",
      "2024-03-23 14:20:26,735 INFO Welcome to the CDS\n",
      "2024-03-23 14:20:26,738 INFO Sending request to https://cds.climate.copernicus.eu/api/v2/resources/reanalysis-era5-pressure-levels\n"
     ]
    },
    {
     "name": "stdout",
     "output_type": "stream",
     "text": [
      ".//inputs/climate/PLEV_201702.nc complete\n"
     ]
    },
    {
     "name": "stderr",
     "output_type": "stream",
     "text": [
      "2024-03-23 14:20:26,905 INFO Request is queued\n",
      "2024-03-23 14:50:22,450 INFO Request is completed\n",
      "2024-03-23 14:50:22,452 INFO Downloading https://download-0019.copernicus-climate.eu/cache-compute-0019/cache/data0/adaptor.mars.internal-1711201622.3373487-19080-4-761246cb-66a2-4de1-ae5e-ed96b6732519.nc to .//inputs/climate/PLEV_201307.nc (4.6M)\n",
      " 25%|█████████▋                             | 1.15M/4.64M [00:03<00:15, 230kB/s]2024-03-23 14:50:26,420 INFO Request is completed\n",
      "2024-03-23 14:50:26,423 INFO Downloading https://download-0011-clone.copernicus-climate.eu/cache-compute-0011/cache/data0/adaptor.mars.internal-1711038102.8795102-5839-6-420709b5-1247-48c6-a933-697aa0a7db35.nc to .//inputs/climate/PLEV_201603.nc (4.6M)\n",
      " 27%|██████████▍                            | 1.25M/4.64M [00:03<00:16, 212kB/s]\n",
      " 28%|██████████▊                            | 1.28M/4.64M [00:04<00:15, 233kB/s]\u001b[A\n",
      " 28%|███████████                            | 1.31M/4.64M [00:04<00:14, 241kB/s]\u001b[A\n",
      "  4%|█▌                                     | 184k/4.64M [00:00<00:04, 1.03MB/s]\u001b[A\n",
      "  6%|██▍                                    | 293k/4.64M [00:00<00:04, 1.07MB/s]\u001b[A\n",
      " 29%|███████████▏                           | 1.33M/4.64M [00:04<00:23, 146kB/s]\u001b[A\n",
      " 13%|█████▎                                 | 640k/4.64M [00:00<00:02, 1.49MB/s]\u001b[A\n",
      " 30%|███████████▌                           | 1.38M/4.64M [00:04<00:17, 194kB/s]\u001b[A\n",
      " 30%|███████████▉                           | 1.41M/4.64M [00:04<00:16, 210kB/s]\u001b[A\n",
      " 31%|████████████▏                          | 1.44M/4.64M [00:04<00:14, 226kB/s]\u001b[A\n",
      " 32%|████████████▍                          | 1.47M/4.64M [00:05<00:14, 236kB/s]\u001b[A\n",
      " 32%|████████████▋                          | 1.51M/4.64M [00:05<00:12, 253kB/s]\u001b[A\n",
      " 35%|█████████████▎                        | 1.62M/4.64M [00:01<00:01, 1.74MB/s]\u001b[A\n",
      " 33%|████████████▉                          | 1.54M/4.64M [00:05<00:11, 272kB/s]\u001b[A\n",
      " 34%|█████████████▎                         | 1.58M/4.64M [00:05<00:10, 303kB/s]\u001b[A\n",
      " 35%|█████████████▋                         | 1.62M/4.64M [00:05<00:09, 325kB/s]\u001b[A\n",
      " 36%|█████████████▉                         | 1.66M/4.64M [00:05<00:09, 331kB/s]\u001b[A\n",
      " 37%|██████████████▎                        | 1.70M/4.64M [00:05<00:08, 343kB/s]\u001b[A\n",
      " 38%|██████████████▋                        | 1.75M/4.64M [00:05<00:08, 356kB/s]\u001b[A\n",
      " 61%|███████████████████████▎              | 2.84M/4.64M [00:01<00:01, 1.78MB/s]\u001b[A\n",
      " 39%|███████████████▏                       | 1.80M/4.64M [00:05<00:07, 379kB/s]\u001b[A\n",
      " 40%|███████████████▌                       | 1.86M/4.64M [00:06<00:07, 395kB/s]\u001b[A\n",
      " 41%|████████████████                       | 1.91M/4.64M [00:06<00:06, 437kB/s]\u001b[A\n",
      " 42%|████████████████▍                      | 1.96M/4.64M [00:06<00:06, 432kB/s]\u001b[A\n",
      " 43%|████████████████▊                      | 2.01M/4.64M [00:06<00:06, 455kB/s]\u001b[A\n",
      " 44%|█████████████████▏                     | 2.05M/4.64M [00:06<00:06, 448kB/s]\u001b[A\n",
      " 45%|█████████████████▋                     | 2.10M/4.64M [00:06<00:05, 466kB/s]\u001b[A\n",
      " 46%|██████████████████                     | 2.15M/4.64M [00:06<00:05, 469kB/s]\u001b[A\n",
      " 47%|██████████████████▌                    | 2.20M/4.64M [00:06<00:05, 496kB/s]\u001b[A\n",
      " 49%|██████████████████▉                    | 2.26M/4.64M [00:06<00:05, 486kB/s]\u001b[A\n",
      "                                                                                \u001b[A2024-03-23 14:50:29,866 INFO Download rate 1.3M/s\n",
      " 50%|███████████████████▋                   | 2.33M/4.64M [00:07<00:04, 560kB/s]2024-03-23 14:50:30,013 INFO Welcome to the CDS\n",
      "2024-03-23 14:50:30,014 INFO Sending request to https://cds.climate.copernicus.eu/api/v2/resources/reanalysis-era5-pressure-levels\n",
      " 52%|████████████████████▏                  | 2.40M/4.64M [00:07<00:03, 603kB/s]"
     ]
    },
    {
     "name": "stdout",
     "output_type": "stream",
     "text": [
      ".//inputs/climate/PLEV_201603.nc complete\n"
     ]
    },
    {
     "name": "stderr",
     "output_type": "stream",
     "text": [
      "2024-03-23 14:50:30,156 INFO Request is queued\n",
      "2024-03-23 14:50:33,653 INFO Download rate 424K/s                               \n",
      "2024-03-23 14:50:33,728 INFO Welcome to the CDS\n",
      "2024-03-23 14:50:33,730 INFO Sending request to https://cds.climate.copernicus.eu/api/v2/resources/reanalysis-era5-pressure-levels\n"
     ]
    },
    {
     "name": "stdout",
     "output_type": "stream",
     "text": [
      ".//inputs/climate/PLEV_201307.nc complete\n"
     ]
    },
    {
     "name": "stderr",
     "output_type": "stream",
     "text": [
      "2024-03-23 14:50:33,860 INFO Request is queued\n",
      "2024-03-23 14:50:39,731 INFO Request is running\n",
      "2024-03-23 14:51:05,369 INFO Request is completed\n",
      "2024-03-23 14:51:05,371 INFO Downloading https://download-0014-clone.copernicus-climate.eu/cache-compute-0014/cache/data5/adaptor.mars.internal-1711145089.808206-14504-1-9f384a2c-884e-4c52-8761-1ddfc48a75fc.nc to .//inputs/climate/PLEV_201604.nc (4.5M)\n",
      "2024-03-23 14:51:09,483 INFO Download rate 1.1M/s                               \n",
      "2024-03-23 14:51:09,650 INFO Welcome to the CDS\n",
      "2024-03-23 14:51:09,652 INFO Sending request to https://cds.climate.copernicus.eu/api/v2/resources/reanalysis-era5-pressure-levels\n",
      "2024-03-23 14:51:09,774 INFO Request is queued\n"
     ]
    },
    {
     "name": "stdout",
     "output_type": "stream",
     "text": [
      ".//inputs/climate/PLEV_201604.nc complete\n"
     ]
    },
    {
     "name": "stderr",
     "output_type": "stream",
     "text": [
      "2024-03-23 15:34:11,367 INFO Request is running\n",
      "2024-03-23 15:34:42,160 INFO Request is completed\n",
      "2024-03-23 15:34:42,162 INFO Downloading https://download-0003-clone.copernicus-climate.eu/cache-compute-0003/cache/data1/adaptor.mars.internal-1711204274.5421443-7975-1-ab9f0bc6-0841-4a43-8627-5603b0b80bde.nc to .//inputs/climate/PLEV_201009.nc (4.5M)\n",
      "2024-03-23 15:34:45,134 INFO Download rate 1.5M/s                               \n",
      "2024-03-23 15:34:45,308 INFO Welcome to the CDS\n",
      "2024-03-23 15:34:45,311 INFO Sending request to https://cds.climate.copernicus.eu/api/v2/resources/reanalysis-era5-pressure-levels\n"
     ]
    },
    {
     "name": "stdout",
     "output_type": "stream",
     "text": [
      ".//inputs/climate/PLEV_201009.nc complete\n"
     ]
    },
    {
     "name": "stderr",
     "output_type": "stream",
     "text": [
      "2024-03-23 15:34:45,446 INFO Request is queued\n",
      "2024-03-23 16:22:13,551 INFO Request is completed\n",
      "2024-03-23 16:22:13,554 INFO Downloading https://download-0008-clone.copernicus-climate.eu/cache-compute-0008/cache/data5/adaptor.mars.internal-1711207120.9413939-7992-8-a9a1f0d2-f0eb-4305-bd34-7867d6fcec23.nc to .//inputs/climate/PLEV_201405.nc (4.6M)\n",
      "2024-03-23 16:22:16,543 INFO Download rate 1.6M/s                               \n",
      "2024-03-23 16:22:16,690 INFO Welcome to the CDS\n",
      "2024-03-23 16:22:16,693 INFO Sending request to https://cds.climate.copernicus.eu/api/v2/resources/reanalysis-era5-pressure-levels\n",
      "2024-03-23 16:22:16,781 INFO Request is queued\n"
     ]
    },
    {
     "name": "stdout",
     "output_type": "stream",
     "text": [
      ".//inputs/climate/PLEV_201405.nc complete\n"
     ]
    },
    {
     "name": "stderr",
     "output_type": "stream",
     "text": [
      "2024-03-23 16:22:44,287 INFO Request is running\n",
      "2024-03-23 17:18:47,122 INFO Request is completed\n",
      "2024-03-23 17:18:47,124 INFO Downloading https://download-0011-clone.copernicus-climate.eu/cache-compute-0011/cache/data4/adaptor.mars.internal-1711210463.3367965-32074-7-fbf70f79-9c4d-4b87-9bb9-40ebe5fbe97e.nc to .//inputs/climate/PLEV_201408.nc (4.6M)\n",
      " 24%|████████▉                             | 1.10M/4.64M [00:00<00:02, 1.83MB/s]2024-03-23 17:18:48,293 INFO Request is running\n",
      "2024-03-23 17:18:50,093 INFO Download rate 1.6M/s                               \n",
      "2024-03-23 17:18:50,243 INFO Welcome to the CDS\n",
      "2024-03-23 17:18:50,245 INFO Sending request to https://cds.climate.copernicus.eu/api/v2/resources/reanalysis-era5-pressure-levels\n",
      "2024-03-23 17:18:50,366 INFO Request is queued\n"
     ]
    },
    {
     "name": "stdout",
     "output_type": "stream",
     "text": [
      ".//inputs/climate/PLEV_201408.nc complete\n"
     ]
    },
    {
     "name": "stderr",
     "output_type": "stream",
     "text": [
      "2024-03-23 17:48:18,359 INFO Request is running\n",
      "2024-03-23 17:48:49,686 INFO Request is completed\n",
      "2024-03-23 17:48:49,689 INFO Downloading https://download-0019.copernicus-climate.eu/cache-compute-0019/cache/data0/adaptor.mars.internal-1711212292.3842232-32708-14-e98bb279-acf5-43d6-b9dd-3894cc266a8b.nc to .//inputs/climate/PLEV_201304.nc (4.5M)\n",
      "2024-03-23 17:48:52,704 INFO Download rate 1.5M/s                               \n",
      "2024-03-23 17:48:52,850 INFO Welcome to the CDS\n",
      "2024-03-23 17:48:52,853 INFO Sending request to https://cds.climate.copernicus.eu/api/v2/resources/reanalysis-era5-pressure-levels\n"
     ]
    },
    {
     "name": "stdout",
     "output_type": "stream",
     "text": [
      ".//inputs/climate/PLEV_201304.nc complete\n"
     ]
    },
    {
     "name": "stderr",
     "output_type": "stream",
     "text": [
      "2024-03-23 17:48:52,990 INFO Request is queued\n",
      "2024-03-23 18:12:16,026 WARNING Connection error: [('Connection aborted.', RemoteDisconnected('Remote end closed connection without response'))]. Attempt 1 of 500.\n",
      "2024-03-23 18:12:16,028 WARNING Retrying in 120 seconds\n",
      "2024-03-23 18:14:16,040 INFO Retrying now...\n",
      "2024-03-23 18:22:18,885 INFO Request is running\n",
      "2024-03-23 18:22:19,898 INFO Request is completed\n",
      "2024-03-23 18:22:19,901 INFO Downloading https://download-0007-clone.copernicus-climate.eu/cache-compute-0007/cache/data4/adaptor.mars.internal-1711214290.3696682-27403-10-bdfee641-2599-4a02-868a-b0f745ae0824.nc to .//inputs/climate/PLEV_201708.nc (4.6M)\n",
      "2024-03-23 18:22:22,989 INFO Download rate 1.5M/s                               \n",
      "2024-03-23 18:22:23,163 INFO Welcome to the CDS\n",
      "2024-03-23 18:22:23,165 INFO Sending request to https://cds.climate.copernicus.eu/api/v2/resources/reanalysis-era5-pressure-levels\n",
      "2024-03-23 18:22:23,277 INFO Request is queued\n"
     ]
    },
    {
     "name": "stdout",
     "output_type": "stream",
     "text": [
      ".//inputs/climate/PLEV_201708.nc complete\n"
     ]
    },
    {
     "name": "stderr",
     "output_type": "stream",
     "text": [
      "2024-03-23 20:02:43,815 INFO Request is completed\n",
      "2024-03-23 20:02:43,818 INFO Downloading https://download-0003-clone.copernicus-climate.eu/cache-compute-0003/cache/data8/adaptor.mars.internal-1711220361.0273206-22665-13-053bb2d6-628e-4dec-bbca-f18a34a5f00e.nc to .//inputs/climate/PLEV_201707.nc (4.6M)\n",
      "2024-03-23 20:02:46,847 INFO Download rate 1.5M/s                               \n",
      "2024-03-23 20:02:47,001 INFO Welcome to the CDS\n",
      "2024-03-23 20:02:47,003 INFO Sending request to https://cds.climate.copernicus.eu/api/v2/resources/reanalysis-era5-pressure-levels\n"
     ]
    },
    {
     "name": "stdout",
     "output_type": "stream",
     "text": [
      ".//inputs/climate/PLEV_201707.nc complete\n"
     ]
    },
    {
     "name": "stderr",
     "output_type": "stream",
     "text": [
      "2024-03-23 20:02:47,175 INFO Request is queued\n",
      "2024-03-23 20:02:52,453 INFO Request is running\n",
      "2024-03-23 21:06:01,425 WARNING Connection error: [('Connection aborted.', ConnectionResetError(54, 'Connection reset by peer'))]. Attempt 1 of 500.\n",
      "2024-03-23 21:06:01,430 WARNING Retrying in 120 seconds\n",
      "2024-03-23 21:06:57,620 WARNING Connection error: [('Connection aborted.', TimeoutError(60, 'Operation timed out'))]. Attempt 1 of 500.\n",
      "2024-03-23 21:06:57,623 WARNING Retrying in 120 seconds\n",
      "2024-03-23 21:11:17,217 WARNING Connection error: [('Connection aborted.', TimeoutError(60, 'Operation timed out'))]. Attempt 1 of 500.\n",
      "2024-03-23 21:11:17,219 WARNING Retrying in 120 seconds\n",
      "2024-03-23 21:35:54,986 INFO Request is running\n",
      "2024-03-23 21:36:01,235 WARNING Connection error: [HTTPSConnectionPool(host='cds.climate.copernicus.eu', port=443): Read timed out. (read timeout=60)]. Attempt 1 of 500.\n",
      "2024-03-23 21:36:01,239 WARNING Retrying in 120 seconds\n",
      "2024-03-23 21:36:05,861 INFO Request is completed\n",
      "2024-03-23 21:36:05,863 INFO Downloading https://download-0020.copernicus-climate.eu/cache-compute-0020/cache/data9/adaptor.mars.internal-1711223840.9703736-30758-17-65269d4c-ebcb-40c7-bf5f-c35f32157bb8.nc to .//inputs/climate/PLEV_201612.nc (4.6M)\n",
      "2024-03-23 21:36:08,869 INFO Download rate 1.5M/s                               \n",
      "2024-03-23 21:36:09,018 INFO Welcome to the CDS\n",
      "2024-03-23 21:36:09,019 INFO Sending request to https://cds.climate.copernicus.eu/api/v2/resources/reanalysis-era5-pressure-levels\n"
     ]
    },
    {
     "name": "stdout",
     "output_type": "stream",
     "text": [
      ".//inputs/climate/PLEV_201612.nc complete\n"
     ]
    },
    {
     "name": "stderr",
     "output_type": "stream",
     "text": [
      "2024-03-23 21:36:09,178 INFO Request is queued\n",
      "2024-03-23 21:36:09,787 WARNING Connection error: [('Connection aborted.', TimeoutError(60, 'Operation timed out'))]. Attempt 1 of 500.\n",
      "2024-03-23 21:36:09,788 WARNING Retrying in 120 seconds\n",
      "2024-03-23 21:36:14,878 WARNING Connection error: [('Connection aborted.', TimeoutError(60, 'Operation timed out'))]. Attempt 1 of 500.\n",
      "2024-03-23 21:36:14,880 WARNING Retrying in 120 seconds\n",
      "2024-03-23 21:36:14,922 WARNING Connection error: [('Connection aborted.', TimeoutError(60, 'Operation timed out'))]. Attempt 1 of 500.\n",
      "2024-03-23 21:36:14,924 WARNING Retrying in 120 seconds\n",
      "2024-03-23 21:36:21,540 WARNING Connection error: [('Connection aborted.', TimeoutError(60, 'Operation timed out'))]. Attempt 1 of 500.\n",
      "2024-03-23 21:36:21,541 WARNING Retrying in 120 seconds\n",
      "2024-03-23 21:36:42,968 INFO Retrying now...\n",
      "2024-03-23 21:36:49,132 WARNING HTTP error: [502 Bad Gateway]. Attempt 1 of 500.\n",
      "2024-03-23 21:36:49,133 WARNING Retrying in 120 seconds\n",
      "2024-03-23 21:36:53,109 INFO Retrying now...\n",
      "2024-03-23 21:36:57,302 INFO Retrying now...\n",
      "2024-03-23 21:38:01,245 INFO Retrying now...\n",
      "2024-03-23 21:38:09,791 INFO Retrying now...\n",
      "2024-03-23 21:38:14,887 INFO Retrying now...\n",
      "2024-03-23 21:38:14,931 INFO Retrying now...\n",
      "2024-03-23 21:38:21,543 INFO Retrying now...\n",
      "2024-03-23 21:38:49,138 INFO Retrying now...\n",
      "2024-03-23 21:55:56,608 INFO Request is completed\n",
      "2024-03-23 21:55:56,611 INFO Downloading https://download-0016.copernicus-climate.eu/cache-compute-0016/cache/data9/adaptor.mars.internal-1711227204.4971073-1206-12-62d1752f-f57a-4d35-86b2-e7a77773a7fe.nc to .//inputs/climate/PLEV_201609.nc (4.5M)\n",
      "2024-03-23 21:56:00,302 INFO Download rate 1.2M/s                               \n",
      "2024-03-23 21:56:01,190 INFO Welcome to the CDS\n",
      "2024-03-23 21:56:01,191 INFO Sending request to https://cds.climate.copernicus.eu/api/v2/resources/reanalysis-era5-pressure-levels\n"
     ]
    },
    {
     "name": "stdout",
     "output_type": "stream",
     "text": [
      ".//inputs/climate/PLEV_201609.nc complete\n"
     ]
    },
    {
     "name": "stderr",
     "output_type": "stream",
     "text": [
      "2024-03-23 21:56:01,335 INFO Request is queued\n",
      "2024-03-23 21:56:14,115 INFO Request is running\n",
      "2024-03-23 22:50:22,251 INFO Request is running\n",
      "2024-03-23 22:52:18,424 INFO Request is completed\n",
      "2024-03-23 22:52:18,427 INFO Downloading https://download-0015-clone.copernicus-climate.eu/cache-compute-0015/cache/data0/adaptor.mars.internal-1711230483.390329-5157-8-859431e0-f6ba-49f7-a513-01053bbdd40e.nc to .//inputs/climate/PLEV_201402.nc (4.2M)\n",
      "2024-03-23 22:52:21,156 INFO Download rate 1.5M/s                               \n",
      "2024-03-23 22:52:21,313 INFO Welcome to the CDS\n",
      "2024-03-23 22:52:21,316 INFO Sending request to https://cds.climate.copernicus.eu/api/v2/resources/reanalysis-era5-pressure-levels\n",
      "2024-03-23 22:52:21,403 INFO Request is queued\n"
     ]
    },
    {
     "name": "stdout",
     "output_type": "stream",
     "text": [
      ".//inputs/climate/PLEV_201402.nc complete\n"
     ]
    },
    {
     "name": "stderr",
     "output_type": "stream",
     "text": [
      "2024-03-23 23:37:32,063 WARNING Connection error: [('Connection aborted.', TimeoutError(60, 'Operation timed out'))]. Attempt 1 of 500.\n",
      "2024-03-23 23:37:32,069 WARNING Retrying in 120 seconds\n",
      "2024-03-23 23:39:32,079 INFO Retrying now...\n",
      "2024-03-24 00:46:43,646 WARNING Connection error: [('Connection aborted.', TimeoutError(60, 'Operation timed out'))]. Attempt 1 of 500.\n",
      "2024-03-24 00:46:43,650 WARNING Retrying in 120 seconds\n",
      "2024-03-24 01:18:37,077 WARNING Connection error: [('Connection aborted.', TimeoutError(60, 'Operation timed out'))]. Attempt 1 of 500.\n",
      "2024-03-24 01:18:37,079 WARNING Retrying in 120 seconds\n",
      "2024-03-24 01:18:39,476 INFO Request is completed\n",
      "2024-03-24 01:18:39,478 INFO Downloading https://download-0004-clone.copernicus-climate.eu/cache-compute-0004/cache/data3/adaptor.mars.internal-1711236968.8321805-17610-1-5406b869-6f4b-4e80-affc-d69d61f017e2.nc to .//inputs/climate/PLEV_201703.nc (4.6M)\n",
      "2024-03-24 01:34:43,868 WARNING Connection error: [('Connection aborted.', TimeoutError(60, 'Operation timed out'))]. Attempt 1 of 500.\n",
      "2024-03-24 01:34:43,870 WARNING Retrying in 120 seconds\n",
      "2024-03-24 02:10:04,580 WARNING Connection error: [('Connection aborted.', TimeoutError(60, 'Operation timed out'))]. Attempt 1 of 500.\n",
      "2024-03-24 02:10:04,583 WARNING Retrying in 120 seconds\n",
      "2024-03-24 02:43:36,886 WARNING Connection error: [('Connection aborted.', TimeoutError(60, 'Operation timed out'))]. Attempt 1 of 500.\n",
      "2024-03-24 02:43:36,887 WARNING Retrying in 120 seconds\n",
      "2024-03-24 02:43:37,729 WARNING Connection error: [('Connection aborted.', TimeoutError(60, 'Operation timed out'))]. Attempt 1 of 500.\n",
      "2024-03-24 02:43:37,730 WARNING Connection error: [('Connection aborted.', TimeoutError(60, 'Operation timed out'))]. Attempt 1 of 500.\n",
      "2024-03-24 02:43:37,731 WARNING Retrying in 120 seconds\n",
      "2024-03-24 02:43:37,733 WARNING Retrying in 120 seconds\n",
      "2024-03-24 02:47:34,433 INFO Sending request to https://cds.climate.copernicus.eu/api/v2/resources/reanalysis-era5-pressure-levels\n",
      "2024-03-24 02:47:34,842 INFO Request is queued\n",
      "2024-03-24 03:20:28,715 WARNING Connection error: [('Connection aborted.', TimeoutError(60, 'Operation timed out'))]. Attempt 1 of 500.\n",
      "2024-03-24 03:20:28,716 WARNING Retrying in 120 seconds\n",
      "2024-03-24 03:20:31,005 WARNING Connection error: [('Connection aborted.', TimeoutError(60, 'Operation timed out'))]. Attempt 1 of 500.\n",
      "2024-03-24 03:20:31,007 WARNING Retrying in 120 seconds\n",
      "2024-03-24 03:52:00,480 WARNING Connection error: [('Connection aborted.', TimeoutError(60, 'Operation timed out'))]. Attempt 1 of 500.\n",
      "2024-03-24 03:52:00,483 WARNING Retrying in 120 seconds\n",
      "2024-03-24 04:07:08,606 WARNING Connection error: [('Connection aborted.', TimeoutError(60, 'Operation timed out'))]. Attempt 1 of 500.\n",
      "2024-03-24 04:07:08,608 WARNING Retrying in 120 seconds\n",
      "2024-03-24 05:27:36,327 INFO Request is completed\n",
      "2024-03-24 05:27:36,330 INFO Downloading https://download-0006-clone.copernicus-climate.eu/cache-compute-0006/cache/data5/adaptor.mars.internal-1711240394.5938537-10545-3-59cc65a9-7b7e-4fc7-a2af-e2a1dfa4c436.nc to .//inputs/climate/PLEV_201512.nc (4.6M)\n",
      "2024-03-24 05:44:21,015 INFO Welcome to the CDS                                 \n",
      "2024-03-24 05:44:21,017 INFO Sending request to https://cds.climate.copernicus.eu/api/v2/resources/reanalysis-era5-pressure-levels\n",
      "2024-03-24 05:44:21,030 INFO Request is running\n",
      "2024-03-24 05:44:21,153 INFO Request is queued\n",
      "2024-03-24 05:44:21,829 INFO Retrying now...\n",
      "2024-03-24 05:44:21,906 INFO Request is completed\n",
      "2024-03-24 05:44:21,908 INFO Downloading https://download-0012-clone.copernicus-climate.eu/cache-compute-0012/cache/data1/adaptor.mars.internal-1711245309.5970309-31350-2-309b9f9d-de22-4d27-b338-64e2e6cfbcce.nc to .//inputs/climate/PLEV_201706.nc (4.5M)\n",
      " 97%|████████████████████████████████████▋ | 4.34M/4.49M [00:02<00:00, 1.74MB/s]2024-03-24 05:54:43,944 INFO Request is completed\n",
      "2024-03-24 05:54:43,947 INFO Downloading https://download-0008-clone.copernicus-climate.eu/cache-compute-0008/cache/data0/adaptor.mars.internal-1711253060.2408056-30464-1-8c23fa49-3625-4dce-b7aa-919dd853d498.nc to .//inputs/climate/PLEV_200903.nc (4.6M)\n",
      "\n",
      "  0%|                                               | 0.00/4.64M [00:00<?, ?B/s]\u001b[A\n",
      "  1%|▎                                      | 34.0k/4.64M [00:00<00:14, 338kB/s]\u001b[A\n",
      "  4%|█▌                                     | 188k/4.64M [00:00<00:04, 1.05MB/s]\u001b[A\n",
      "  6%|██▌                                     | 300k/4.64M [00:00<00:04, 979kB/s]\u001b[A\n",
      " 98%|█████████████████████████████████████▎| 4.41M/4.49M [10:22<00:00, 1.74MB/s]\u001b[A\n",
      " 16%|██████▏                                | 751k/4.64M [00:00<00:02, 1.53MB/s]\u001b[A\n",
      " 19%|███████▍                               | 908k/4.64M [00:00<00:02, 1.54MB/s]\u001b[A\n",
      " 23%|████████▊                             | 1.07M/4.64M [00:00<00:02, 1.63MB/s]\u001b[A\n",
      " 27%|██████████▎                           | 1.26M/4.64M [00:00<00:02, 1.74MB/s]\u001b[A\n",
      " 31%|███████████▊                          | 1.44M/4.64M [00:00<00:01, 1.77MB/s]\u001b[A\n",
      " 35%|█████████████▎                        | 1.62M/4.64M [00:01<00:01, 1.81MB/s]\u001b[A\n",
      " 39%|██████████████▉                       | 1.82M/4.64M [00:01<00:01, 1.86MB/s]\u001b[A\n",
      " 43%|████████████████▎                     | 2.00M/4.64M [00:01<00:01, 1.83MB/s]\u001b[A\n",
      " 47%|█████████████████▊                    | 2.18M/4.64M [00:01<00:01, 1.85MB/s]\u001b[A\n",
      " 51%|███████████████████▍                  | 2.38M/4.64M [00:01<00:01, 1.90MB/s]\u001b[A\n",
      " 55%|█████████████████████                 | 2.57M/4.64M [00:01<00:01, 1.93MB/s]\u001b[A\n",
      " 60%|██████████████████████▋               | 2.77M/4.64M [00:01<00:00, 1.96MB/s]\u001b[A\n",
      " 64%|████████████████████████▎             | 2.96M/4.64M [00:01<00:00, 1.99MB/s]\u001b[A2024-03-24 06:09:53,328 INFO Retrying now...\n",
      "\n",
      "                                                                                \u001b[A2024-03-24 06:25:38,968 INFO Retrying now...\n",
      "2024-03-24 06:25:40,756 WARNING Connection error: [('Connection aborted.', TimeoutError(60, 'Operation timed out'))]. Attempt 1 of 500.\n",
      "2024-03-24 06:25:40,758 WARNING Retrying in 120 seconds\n"
     ]
    },
    {
     "name": "stdout",
     "output_type": "stream",
     "text": [
      "('Connection aborted.', TimeoutError(60, 'Operation timed out'))\n"
     ]
    },
    {
     "name": "stderr",
     "output_type": "stream",
     "text": [
      "2024-03-24 07:16:11,104 WARNING Connection error: [('Connection aborted.', TimeoutError(60, 'Operation timed out'))]. Attempt 1 of 500.\n",
      "2024-03-24 07:16:11,105 WARNING Retrying in 120 seconds\n",
      "2024-03-24 07:16:11,955 INFO Retrying now...\n",
      "2024-03-24 07:16:14,682 WARNING Connection error: [('Connection aborted.', TimeoutError(60, 'Operation timed out'))]. Attempt 2 of 500.\n",
      "2024-03-24 07:16:14,684 WARNING Retrying in 120 seconds\n",
      "2024-03-24 07:16:14,928 INFO Sending request to https://cds.climate.copernicus.eu/api/v2/resources/reanalysis-era5-pressure-levels\n",
      "2024-03-24 07:36:59,744 WARNING Connection error: [('Connection aborted.', TimeoutError(60, 'Operation timed out'))]. Attempt 1 of 500.\n",
      "2024-03-24 07:36:59,746 WARNING Retrying in 120 seconds\n",
      "2024-03-24 07:37:06,524 INFO Retrying now...\n",
      "2024-03-24 07:54:55,446 INFO Retrying now...\n",
      "2024-03-24 07:54:55,446 INFO Retrying now...\n",
      "2024-03-24 08:28:47,662 ERROR Download interupted: HTTPSConnectionPool(host='download-0012-clone.copernicus-climate.eu', port=443): Read timed out.\n",
      "2024-03-24 08:28:47,666 ERROR Download incomplete, downloaded 4627456 byte(s) out of 4705860\n",
      "2024-03-24 08:28:47,667 WARNING Sleeping 10 seconds\n",
      "2024-03-24 08:28:50,165 WARNING Connection error: [('Connection aborted.', TimeoutError(60, 'Operation timed out'))]. Attempt 1 of 500.\n",
      "2024-03-24 08:28:50,167 WARNING Retrying in 120 seconds\n",
      "2024-03-24 08:44:16,299 INFO Retrying now...\n",
      "2024-03-24 08:44:18,580 INFO Retrying now...\n",
      "2024-03-24 08:55:56,931 WARNING Resuming download at byte 4627456\n",
      "2024-03-24 08:55:57,473 INFO Download rate 409.4/s                              \n",
      "2024-03-24 08:55:59,143 WARNING Connection error: [('Connection aborted.', TimeoutError(60, 'Operation timed out'))]. Attempt 2 of 500.\n",
      "2024-03-24 08:55:59,145 WARNING Retrying in 120 seconds\n",
      "2024-03-24 08:55:59,354 WARNING Connection error: [('Connection aborted.', TimeoutError(60, 'Operation timed out'))]. Attempt 2 of 500.\n",
      "2024-03-24 08:55:59,355 WARNING Retrying in 120 seconds\n",
      "2024-03-24 08:55:59,853 WARNING Connection error: [('Connection aborted.', TimeoutError(60, 'Operation timed out'))]. Attempt 1 of 500.\n",
      "2024-03-24 08:55:59,854 WARNING Retrying in 120 seconds\n",
      "2024-03-24 08:56:03,596 WARNING Connection error: [('Connection aborted.', TimeoutError(60, 'Operation timed out'))]. Attempt 1 of 500.\n",
      "2024-03-24 08:56:03,598 WARNING Retrying in 120 seconds\n",
      "2024-03-24 08:56:06,396 INFO Retrying now...\n",
      "2024-03-24 09:13:08,994 INFO Retrying now...\n",
      "2024-03-24 09:13:12,865 WARNING Connection error: [('Connection aborted.', TimeoutError(60, 'Operation timed out'))]. Attempt 1 of 500.\n",
      "2024-03-24 09:13:12,867 WARNING Retrying in 120 seconds\n",
      "2024-03-24 09:31:35,911 WARNING Connection error: [HTTPSConnectionPool(host='cds.climate.copernicus.eu', port=443): Read timed out. (read timeout=60)]. Attempt 1 of 500.\n",
      "2024-03-24 09:31:35,912 WARNING Retrying in 120 seconds\n"
     ]
    },
    {
     "name": "stdout",
     "output_type": "stream",
     "text": [
      "('Connection aborted.', TimeoutError(60, 'Operation timed out'))\n",
      ".//inputs/climate/PLEV_201706.nc complete\n"
     ]
    },
    {
     "name": "stderr",
     "output_type": "stream",
     "text": [
      "2024-03-24 09:31:36,426 INFO Welcome to the CDS\n",
      "2024-03-24 09:31:36,428 INFO Sending request to https://cds.climate.copernicus.eu/api/v2/resources/reanalysis-era5-pressure-levels\n",
      "2024-03-24 09:31:36,577 INFO Request is queued\n",
      "2024-03-24 09:48:16,921 WARNING Connection error: [('Connection aborted.', TimeoutError(60, 'Operation timed out'))]. Attempt 2 of 500.\n",
      "2024-03-24 09:48:16,924 WARNING Retrying in 120 seconds\n",
      "2024-03-24 09:48:22,833 INFO Request is completed\n",
      "2024-03-24 09:48:22,835 INFO Downloading https://download-0000-clone.copernicus-climate.eu/cache-compute-0000/cache/data2/adaptor.mars.internal-1711259417.7931852-30364-3-64efa5bb-08f9-447c-8762-f326142ee255.nc to .//inputs/climate/PLEV_201608.nc (4.6M)\n",
      "2024-03-24 10:13:02,281 INFO Sending request to https://cds.climate.copernicus.eu/api/v2/resources/reanalysis-era5-pressure-levels\n",
      "2024-03-24 10:28:17,089 INFO Request is completed\n",
      "2024-03-24 10:28:17,092 INFO Downloading https://download-0017.copernicus-climate.eu/cache-compute-0017/cache/data2/adaptor.mars.internal-1711263961.266506-16065-10-b5b3c726-63ed-4fcb-8764-14b5d4fb205d.nc to .//inputs/climate/PLEV_201606.nc (4.5M)\n",
      "  4%|█▌                                      | 182k/4.49M [00:00<00:04, 989kB/s]2024-03-24 10:28:17,776 INFO Retrying now...\n",
      " 60%|██████████████████████▊               | 2.69M/4.49M [00:01<00:00, 2.15MB/s]"
     ]
    },
    {
     "name": "stdout",
     "output_type": "stream",
     "text": [
      "('Connection aborted.', TimeoutError(60, 'Operation timed out'))\n"
     ]
    },
    {
     "name": "stderr",
     "output_type": "stream",
     "text": [
      "2024-03-24 10:58:00,461 INFO Retrying now...                                    \n",
      "2024-03-24 10:58:02,697 WARNING Connection error: [('Connection aborted.', TimeoutError(60, 'Operation timed out'))]. Attempt 1 of 500.\n",
      "2024-03-24 10:58:02,699 WARNING Retrying in 120 seconds\n",
      "2024-03-24 10:58:04,037 INFO Retrying now...\n",
      "2024-03-24 11:15:32,888 INFO Retrying now...\n",
      "2024-03-24 11:15:33,869 WARNING Connection error: [('Connection aborted.', TimeoutError(60, 'Operation timed out'))]. Attempt 1 of 500.\n",
      "2024-03-24 11:15:33,871 WARNING Retrying in 120 seconds\n",
      "2024-03-24 11:15:34,831 WARNING Connection error: [('Connection aborted.', TimeoutError(60, 'Operation timed out'))]. Attempt 1 of 500.\n",
      "2024-03-24 11:15:34,833 WARNING Retrying in 120 seconds\n",
      "2024-03-24 11:15:35,433 INFO Sending request to https://cds.climate.copernicus.eu/api/v2/resources/reanalysis-era5-pressure-levels\n",
      "2024-03-24 11:15:35,804 INFO Request is queued\n",
      "2024-03-24 11:48:27,907 WARNING Connection error: [('Connection aborted.', TimeoutError(60, 'Operation timed out'))]. Attempt 1 of 500.\n",
      "2024-03-24 11:48:27,909 WARNING Retrying in 120 seconds\n",
      "2024-03-24 11:55:40,054 INFO Retrying now...\n",
      "2024-03-24 11:55:49,770 INFO Retrying now...\n",
      "2024-03-24 11:55:49,974 INFO Retrying now...\n",
      "2024-03-24 11:55:50,480 INFO Retrying now...\n",
      "2024-03-24 11:55:54,219 INFO Retrying now...\n",
      "2024-03-24 11:56:05,371 INFO Retrying now...\n",
      "2024-03-24 11:56:12,146 INFO Retrying now...\n",
      "2024-03-24 11:56:12,280 INFO Request is queued\n",
      "2024-03-24 11:56:16,097 WARNING Connection error: [HTTPSConnectionPool(host='cds.climate.copernicus.eu', port=443): Read timed out. (read timeout=60)]. Attempt 1 of 500.\n",
      "2024-03-24 11:56:16,100 WARNING Retrying in 120 seconds\n",
      "2024-03-24 11:56:17,004 WARNING Connection error: [HTTPSConnectionPool(host='cds.climate.copernicus.eu', port=443): Read timed out. (read timeout=60)]. Attempt 2 of 500.\n",
      "2024-03-24 11:56:17,007 WARNING Retrying in 120 seconds\n",
      "2024-03-24 11:56:21,955 WARNING Connection error: [HTTPSConnectionPool(host='cds.climate.copernicus.eu', port=443): Read timed out. (read timeout=60)]. Attempt 1 of 500.\n",
      "2024-03-24 11:56:21,958 WARNING Retrying in 120 seconds\n",
      "2024-03-24 11:56:27,076 INFO Retrying now...\n",
      "2024-03-24 11:56:30,524 INFO Request is running\n",
      "2024-03-24 11:56:40,065 WARNING Connection error: [HTTPSConnectionPool(host='cds.climate.copernicus.eu', port=443): Read timed out. (read timeout=60)]. Attempt 2 of 500.\n",
      "2024-03-24 11:56:40,067 WARNING Retrying in 120 seconds\n",
      "2024-03-24 11:56:43,747 WARNING Connection error: [HTTPSConnectionPool(host='cds.climate.copernicus.eu', port=443): Read timed out. (read timeout=60)]. Attempt 1 of 500.\n",
      "2024-03-24 11:56:43,750 WARNING Retrying in 120 seconds\n",
      "2024-03-24 11:57:10,317 INFO Retrying now...\n",
      "2024-03-24 11:57:10,400 INFO Request is completed\n",
      "2024-03-24 11:57:10,402 INFO Downloading https://download-0003-clone.copernicus-climate.eu/cache-compute-0003/cache/data7/adaptor.mars.internal-1711274560.2278593-963-6-f27ad471-d4ff-49fe-a720-e733a929d0db.nc to .//inputs/climate/PLEV_201311.nc (4.5M)\n",
      "2024-03-24 11:57:17,920 INFO Download rate 611.3K/s                             \n",
      "2024-03-24 11:57:17,978 INFO Retrying now...\n",
      "2024-03-24 11:57:18,066 INFO Welcome to the CDS\n",
      "2024-03-24 11:57:18,068 INFO Sending request to https://cds.climate.copernicus.eu/api/v2/resources/reanalysis-era5-pressure-levels\n",
      "2024-03-24 11:57:18,169 INFO Request is queued\n"
     ]
    },
    {
     "name": "stdout",
     "output_type": "stream",
     "text": [
      ".//inputs/climate/PLEV_201311.nc complete\n"
     ]
    },
    {
     "name": "stderr",
     "output_type": "stream",
     "text": [
      "2024-03-24 11:57:18,937 INFO Retrying now...\n",
      "2024-03-24 11:57:19,063 INFO Request is queued\n",
      "2024-03-24 11:57:30,651 INFO Retrying now...\n",
      "2024-03-24 11:58:16,108 INFO Retrying now...\n",
      "2024-03-24 11:58:17,015 INFO Retrying now...\n",
      "2024-03-24 11:58:21,966 INFO Retrying now...\n",
      "2024-03-24 11:58:40,075 INFO Retrying now...\n",
      "2024-03-24 11:58:43,758 INFO Retrying now...\n",
      "2024-03-24 12:08:45,685 INFO Request is completed\n",
      "2024-03-24 12:08:45,691 INFO Downloading https://download-0008-clone.copernicus-climate.eu/cache-compute-0008/cache/data5/adaptor.mars.internal-1711278311.0628507-19953-11-2206330b-0fbf-4b2a-ae1f-2d3d7b6bb81e.nc to .//inputs/climate/PLEV_201509.nc (4.5M)\n",
      "2024-03-24 12:08:55,961 INFO Download rate 447.5K/s                             \n",
      "2024-03-24 12:08:56,113 INFO Welcome to the CDS\n",
      "2024-03-24 12:08:56,120 INFO Sending request to https://cds.climate.copernicus.eu/api/v2/resources/reanalysis-era5-pressure-levels\n"
     ]
    },
    {
     "name": "stdout",
     "output_type": "stream",
     "text": [
      ".//inputs/climate/PLEV_201509.nc complete\n"
     ]
    },
    {
     "name": "stderr",
     "output_type": "stream",
     "text": [
      "2024-03-24 12:08:56,291 INFO Request is queued\n",
      "2024-03-24 12:09:27,278 INFO Request is running\n",
      "2024-03-24 12:52:43,738 WARNING Connection error: [('Connection aborted.', TimeoutError(60, 'Operation timed out'))]. Attempt 1 of 500.\n",
      "2024-03-24 12:52:43,743 WARNING Retrying in 120 seconds\n",
      "2024-03-24 12:53:48,204 INFO Request is running\n",
      "2024-03-24 12:54:43,753 INFO Retrying now...\n",
      "2024-03-24 12:55:09,162 INFO Request is completed\n",
      "2024-03-24 12:55:09,165 INFO Downloading https://download-0011-clone.copernicus-climate.eu/cache-compute-0011/cache/data8/adaptor.mars.internal-1711281072.1847808-14711-14-9cb92d5c-e783-4c2f-91cf-8c28573d1312.nc to .//inputs/climate/PLEV_201709.nc (4.5M)\n",
      "2024-03-24 12:55:13,198 INFO Download rate 1.1M/s                               \n",
      "2024-03-24 12:55:13,359 INFO Welcome to the CDS\n",
      "2024-03-24 12:55:13,362 INFO Sending request to https://cds.climate.copernicus.eu/api/v2/resources/reanalysis-era5-pressure-levels\n"
     ]
    },
    {
     "name": "stdout",
     "output_type": "stream",
     "text": [
      ".//inputs/climate/PLEV_201709.nc complete\n"
     ]
    },
    {
     "name": "stderr",
     "output_type": "stream",
     "text": [
      "2024-03-24 12:55:13,505 INFO Request is queued\n",
      "2024-03-24 13:37:56,299 INFO Request is running\n",
      "2024-03-24 13:38:00,126 WARNING Connection error: [('Connection aborted.', TimeoutError(60, 'Operation timed out'))]. Attempt 1 of 500.\n",
      "2024-03-24 13:38:00,128 WARNING Retrying in 120 seconds\n",
      "2024-03-24 13:38:22,807 WARNING Connection error: [('Connection aborted.', TimeoutError(60, 'Operation timed out'))]. Attempt 1 of 500.\n",
      "2024-03-24 13:38:22,810 WARNING Retrying in 120 seconds\n",
      "2024-03-24 13:38:46,243 INFO Request is completed\n",
      "2024-03-24 13:38:46,244 INFO Downloading https://download-0010-clone.copernicus-climate.eu/cache-compute-0010/cache/data2/adaptor.mars.internal-1711283500.5322955-15541-3-479d9a12-81c3-4507-a1bd-eb0e0ecb93df.nc to .//inputs/climate/PLEV_201710.nc (4.6M)\n",
      "2024-03-24 13:38:59,562 INFO Download rate 356.6K/s                             \n",
      "2024-03-24 13:39:00,162 INFO Welcome to the CDS\n",
      "2024-03-24 13:39:00,163 INFO Sending request to https://cds.climate.copernicus.eu/api/v2/resources/reanalysis-era5-pressure-levels\n",
      "2024-03-24 13:39:00,245 INFO Request is queued\n"
     ]
    },
    {
     "name": "stdout",
     "output_type": "stream",
     "text": [
      ".//inputs/climate/PLEV_201710.nc complete\n"
     ]
    },
    {
     "name": "stderr",
     "output_type": "stream",
     "text": [
      "2024-03-24 13:40:00,133 INFO Retrying now...\n",
      "2024-03-24 13:40:22,814 INFO Retrying now...\n",
      "2024-03-24 14:34:13,388 WARNING Connection error: [('Connection aborted.', TimeoutError(60, 'Operation timed out'))]. Attempt 1 of 500.\n",
      "2024-03-24 14:34:13,390 WARNING Retrying in 120 seconds\n",
      "2024-03-24 15:03:12,654 WARNING Connection error: [('Connection aborted.', TimeoutError(60, 'Operation timed out'))]. Attempt 1 of 500.\n",
      "2024-03-24 15:03:12,655 WARNING Retrying in 120 seconds\n",
      "2024-03-24 15:22:16,940 WARNING Connection error: [('Connection aborted.', ConnectionResetError(54, 'Connection reset by peer'))]. Attempt 1 of 500.\n",
      "2024-03-24 15:22:16,941 WARNING Retrying in 120 seconds\n",
      "2024-03-24 15:22:40,145 INFO Request is completed\n",
      "2024-03-24 15:22:40,149 INFO Downloading https://download-0003-clone.copernicus-climate.eu/cache-compute-0003/cache/data9/adaptor.mars.internal-1711285964.707352-25474-11-522073c0-5b08-4581-9f84-b32a7887a629.nc to .//inputs/climate/PLEV_201711.nc (4.5M)\n",
      "2024-03-24 15:22:43,048 INFO Download rate 1.5M/s                               \n",
      "2024-03-24 15:22:43,225 INFO Welcome to the CDS\n",
      "2024-03-24 15:22:43,228 INFO Sending request to https://cds.climate.copernicus.eu/api/v2/resources/reanalysis-era5-pressure-levels\n"
     ]
    },
    {
     "name": "stdout",
     "output_type": "stream",
     "text": [
      ".//inputs/climate/PLEV_201711.nc complete\n"
     ]
    },
    {
     "name": "stderr",
     "output_type": "stream",
     "text": [
      "2024-03-24 15:22:43,364 INFO Request is queued\n",
      "2024-03-24 15:22:47,543 WARNING Connection error: [('Connection aborted.', TimeoutError(60, 'Operation timed out'))]. Attempt 1 of 500.\n",
      "2024-03-24 15:22:47,546 WARNING Retrying in 120 seconds\n",
      "2024-03-24 15:23:02,919 WARNING Connection error: [HTTPSConnectionPool(host='cds.climate.copernicus.eu', port=443): Read timed out. (read timeout=60)]. Attempt 1 of 500.\n",
      "2024-03-24 15:23:02,922 WARNING Retrying in 120 seconds\n",
      "2024-03-24 15:23:43,434 INFO Request is running\n",
      "2024-03-24 15:23:52,065 INFO Retrying now...\n",
      "2024-03-24 15:24:03,136 INFO Retrying now...\n",
      "2024-03-24 15:24:16,967 INFO Retrying now...\n",
      "2024-03-24 15:24:47,557 INFO Retrying now...\n",
      "2024-03-24 15:25:02,931 INFO Retrying now...\n",
      "2024-03-24 15:51:15,544 WARNING Connection error: [('Connection aborted.', TimeoutError(60, 'Operation timed out'))]. Attempt 1 of 500.\n",
      "2024-03-24 15:51:15,550 WARNING Retrying in 120 seconds\n",
      "2024-03-24 15:57:29,387 INFO Retrying now...\n",
      "2024-03-24 15:58:01,111 WARNING Connection error: [('Connection aborted.', TimeoutError(60, 'Operation timed out'))]. Attempt 2 of 500.\n",
      "2024-03-24 15:58:01,114 WARNING Retrying in 120 seconds\n",
      "2024-03-24 16:00:01,120 INFO Retrying now...\n",
      "2024-03-24 16:23:35,454 WARNING Connection error: [('Connection aborted.', TimeoutError(60, 'Operation timed out'))]. Attempt 1 of 500.\n",
      "2024-03-24 16:23:35,456 WARNING Retrying in 120 seconds\n",
      "2024-03-24 16:25:35,462 INFO Retrying now...\n",
      "2024-03-24 16:43:21,964 WARNING Connection error: [('Connection aborted.', ConnectionResetError(54, 'Connection reset by peer'))]. Attempt 1 of 500.\n",
      "2024-03-24 16:43:21,966 WARNING Retrying in 120 seconds\n",
      "2024-03-24 16:45:21,969 INFO Retrying now...\n",
      "2024-03-24 17:33:27,732 WARNING Connection error: [('Connection aborted.', TimeoutError(60, 'Operation timed out'))]. Attempt 1 of 500.\n",
      "2024-03-24 17:33:27,735 WARNING Retrying in 120 seconds\n",
      "2024-03-24 18:14:18,282 WARNING Connection error: [('Connection aborted.', TimeoutError(60, 'Operation timed out'))]. Attempt 1 of 500.\n",
      "2024-03-24 18:14:18,284 WARNING Retrying in 120 seconds\n",
      "2024-03-24 18:15:34,678 INFO Request is running\n",
      "2024-03-24 18:15:56,465 WARNING Connection error: [('Connection aborted.', TimeoutError(60, 'Operation timed out'))]. Attempt 1 of 500.\n",
      "2024-03-24 18:15:56,467 WARNING Retrying in 120 seconds\n",
      "2024-03-24 18:16:45,355 INFO Retrying now...\n",
      "2024-03-24 18:17:07,256 INFO Retrying now...\n",
      "2024-03-24 18:17:07,332 INFO Request is completed\n",
      "2024-03-24 18:17:07,335 INFO Downloading https://download-0019.copernicus-climate.eu/cache-compute-0019/cache/data1/adaptor.mars.internal-1711297497.5947974-10197-16-cc856c32-b6cc-49a5-b180-e048f71c5f36.nc to .//inputs/climate/PLEV_201712.nc (4.6M)\n",
      "2024-03-24 18:17:10,634 INFO Download rate 1.4M/s                               \n",
      "2024-03-24 18:17:10,783 INFO Welcome to the CDS\n",
      "2024-03-24 18:17:10,785 INFO Sending request to https://cds.climate.copernicus.eu/api/v2/resources/reanalysis-era5-pressure-levels\n"
     ]
    },
    {
     "name": "stdout",
     "output_type": "stream",
     "text": [
      ".//inputs/climate/PLEV_201712.nc complete\n"
     ]
    },
    {
     "name": "stderr",
     "output_type": "stream",
     "text": [
      "2024-03-24 18:17:11,002 INFO Request is queued\n",
      "2024-03-24 18:17:56,472 INFO Retrying now...\n",
      "2024-03-24 19:07:37,378 INFO Request is completed\n",
      "2024-03-24 19:07:37,384 INFO Downloading https://download-0018.copernicus-climate.eu/cache-compute-0018/cache/data7/adaptor.mars.internal-1711303472.7690356-31204-1-fe9323e2-bd9d-43c2-83cd-820dc127ae8d.nc to .//inputs/climate/PLEV_201801.nc (4.6M)\n",
      "2024-03-24 19:07:40,716 INFO Download rate 1.4M/s                               \n"
     ]
    },
    {
     "name": "stdout",
     "output_type": "stream",
     "text": [
      ".//inputs/climate/PLEV_201801.nc complete\n"
     ]
    },
    {
     "name": "stderr",
     "output_type": "stream",
     "text": [
      "2024-03-24 19:07:42,091 INFO Welcome to the CDS\n",
      "2024-03-24 19:07:42,092 INFO Sending request to https://cds.climate.copernicus.eu/api/v2/resources/reanalysis-era5-pressure-levels\n",
      "2024-03-24 19:07:42,287 INFO Request is queued\n",
      "2024-03-24 19:08:21,449 INFO Request is running\n",
      "2024-03-24 19:41:06,453 WARNING Connection error: [HTTPSConnectionPool(host='cds.climate.copernicus.eu', port=443): Read timed out. (read timeout=60)]. Attempt 1 of 500.\n",
      "2024-03-24 19:41:06,459 WARNING Retrying in 120 seconds\n",
      "2024-03-24 19:42:48,814 INFO Request is running\n",
      "2024-03-24 19:43:06,465 INFO Retrying now...\n",
      "2024-03-24 19:43:16,537 INFO Request is completed\n",
      "2024-03-24 19:43:16,540 INFO Downloading https://download-0007-clone.copernicus-climate.eu/cache-compute-0007/cache/data9/adaptor.mars.internal-1711305605.2691083-21179-14-443c8b5a-b0ac-4035-b5e6-92992b8c843a.nc to .//inputs/climate/PLEV_201802.nc (4.2M)\n",
      "2024-03-24 19:43:19,300 INFO Download rate 1.5M/s                               \n",
      "2024-03-24 19:43:19,449 INFO Welcome to the CDS\n",
      "2024-03-24 19:43:19,451 INFO Sending request to https://cds.climate.copernicus.eu/api/v2/resources/reanalysis-era5-pressure-levels\n"
     ]
    },
    {
     "name": "stdout",
     "output_type": "stream",
     "text": [
      ".//inputs/climate/PLEV_201802.nc complete\n"
     ]
    },
    {
     "name": "stderr",
     "output_type": "stream",
     "text": [
      "2024-03-24 19:43:19,655 INFO Request is queued\n",
      "2024-03-24 20:19:45,660 WARNING Connection error: [('Connection aborted.', TimeoutError(60, 'Operation timed out'))]. Attempt 1 of 500.\n",
      "2024-03-24 20:19:45,662 WARNING Retrying in 120 seconds\n",
      "2024-03-24 20:22:16,909 WARNING Connection error: [('Connection aborted.', ConnectionResetError(54, 'Connection reset by peer'))]. Attempt 1 of 500.\n",
      "2024-03-24 20:22:16,911 WARNING Retrying in 120 seconds\n",
      "2024-03-24 20:24:15,322 INFO Retrying now...\n",
      "2024-03-24 20:24:24,783 INFO Retrying now...\n",
      "2024-03-24 20:24:55,301 WARNING Connection error: [('Connection aborted.', TimeoutError(60, 'Operation timed out'))]. Attempt 1 of 500.\n",
      "2024-03-24 20:24:55,303 WARNING Retrying in 120 seconds\n",
      "2024-03-24 20:25:09,654 WARNING Connection error: [('Connection aborted.', TimeoutError(60, 'Operation timed out'))]. Attempt 1 of 500.\n",
      "2024-03-24 20:25:09,656 WARNING Retrying in 120 seconds\n",
      "2024-03-24 20:26:55,308 INFO Retrying now...\n",
      "2024-03-24 20:27:09,664 INFO Retrying now...\n",
      "2024-03-24 21:38:04,103 INFO Request is completed\n",
      "2024-03-24 21:38:04,107 INFO Downloading https://download-0018.copernicus-climate.eu/cache-compute-0018/cache/data0/adaptor.mars.internal-1711312459.8216171-20833-14-243d30fe-3a45-4581-8814-18485a72bcd1.nc to .//inputs/climate/PLEV_201803.nc (4.6M)\n",
      "2024-03-24 21:38:09,156 INFO Download rate 940.9K/s                             \n",
      "2024-03-24 21:38:09,307 INFO Welcome to the CDS\n",
      "2024-03-24 21:38:09,310 INFO Sending request to https://cds.climate.copernicus.eu/api/v2/resources/reanalysis-era5-pressure-levels\n"
     ]
    },
    {
     "name": "stdout",
     "output_type": "stream",
     "text": [
      ".//inputs/climate/PLEV_201803.nc complete\n"
     ]
    },
    {
     "name": "stderr",
     "output_type": "stream",
     "text": [
      "2024-03-24 21:38:09,469 INFO Request is queued\n",
      "2024-03-24 21:38:19,053 INFO Request is running\n",
      "2024-03-24 23:14:20,355 INFO Request is running\n",
      "2024-03-24 23:14:23,760 INFO Request is completed\n",
      "2024-03-24 23:14:23,767 INFO Downloading https://download-0010-clone.copernicus-climate.eu/cache-compute-0010/cache/data4/adaptor.mars.internal-1711318204.3266337-26516-10-7f621ae4-ec58-4190-8a87-046dac830453.nc to .//inputs/climate/PLEV_201804.nc (4.5M)\n",
      "2024-03-24 23:14:31,704 INFO Download rate 579.2K/s                             \n"
     ]
    },
    {
     "name": "stdout",
     "output_type": "stream",
     "text": [
      ".//inputs/climate/PLEV_201804.nc complete\n"
     ]
    },
    {
     "name": "stderr",
     "output_type": "stream",
     "text": [
      "2024-03-24 23:14:32,547 INFO Welcome to the CDS\n",
      "2024-03-24 23:14:32,549 INFO Sending request to https://cds.climate.copernicus.eu/api/v2/resources/reanalysis-era5-pressure-levels\n",
      "2024-03-24 23:14:32,700 INFO Request is queued\n",
      "2024-03-25 00:43:17,810 INFO Request is running\n",
      "2024-03-25 00:44:24,415 INFO Request is completed\n",
      "2024-03-25 00:44:24,419 INFO Downloading https://download-0020.copernicus-climate.eu/cache-compute-0020/cache/data3/adaptor.mars.internal-1711323605.7415993-11556-19-86d3cd51-69ed-4a1e-8656-f142a7cf39e9.nc to .//inputs/climate/PLEV_201805.nc (4.6M)\n",
      "2024-03-25 00:44:27,729 INFO Download rate 1.4M/s                               \n",
      "2024-03-25 00:44:28,148 INFO Welcome to the CDS\n",
      "2024-03-25 00:44:28,150 INFO Sending request to https://cds.climate.copernicus.eu/api/v2/resources/reanalysis-era5-pressure-levels\n"
     ]
    },
    {
     "name": "stdout",
     "output_type": "stream",
     "text": [
      ".//inputs/climate/PLEV_201805.nc complete\n"
     ]
    },
    {
     "name": "stderr",
     "output_type": "stream",
     "text": [
      "2024-03-25 00:44:28,295 INFO Request is queued\n",
      "2024-03-25 01:24:37,999 INFO Request is running\n",
      "2024-03-25 01:25:20,357 INFO Request is completed\n",
      "2024-03-25 01:25:20,359 INFO Downloading https://download-0005-clone.copernicus-climate.eu/cache-compute-0005/cache/data8/adaptor.mars.internal-1711326064.0189302-11301-5-3f9b8ae5-22eb-4901-b2db-23c5eb8f5a06.nc to .//inputs/climate/PLEV_201806.nc (4.5M)\n",
      "2024-03-25 01:25:24,154 INFO Download rate 1.2M/s                               \n",
      "2024-03-25 01:25:24,332 INFO Welcome to the CDS\n",
      "2024-03-25 01:25:24,334 INFO Sending request to https://cds.climate.copernicus.eu/api/v2/resources/reanalysis-era5-pressure-levels\n"
     ]
    },
    {
     "name": "stdout",
     "output_type": "stream",
     "text": [
      ".//inputs/climate/PLEV_201806.nc complete\n"
     ]
    },
    {
     "name": "stderr",
     "output_type": "stream",
     "text": [
      "2024-03-25 01:25:24,469 INFO Request is queued\n",
      "2024-03-25 02:40:41,694 INFO Request is completed\n",
      "2024-03-25 02:40:41,697 INFO Downloading https://download-0008-clone.copernicus-climate.eu/cache-compute-0008/cache/data3/adaptor.mars.internal-1711330686.946031-21317-15-39403389-c667-4ae5-9842-82f011459007.nc to .//inputs/climate/PLEV_201807.nc (4.6M)\n",
      "2024-03-25 02:40:44,766 INFO Download rate 1.5M/s                               \n",
      "2024-03-25 02:40:44,917 INFO Welcome to the CDS\n",
      "2024-03-25 02:40:44,919 INFO Sending request to https://cds.climate.copernicus.eu/api/v2/resources/reanalysis-era5-pressure-levels\n",
      "2024-03-25 02:40:45,032 INFO Request is queued\n"
     ]
    },
    {
     "name": "stdout",
     "output_type": "stream",
     "text": [
      ".//inputs/climate/PLEV_201807.nc complete\n"
     ]
    },
    {
     "name": "stderr",
     "output_type": "stream",
     "text": [
      "2024-03-25 02:41:27,118 INFO Request is running\n",
      "2024-03-25 03:19:29,052 INFO Request is completed\n",
      "2024-03-25 03:19:29,055 INFO Downloading https://download-0017.copernicus-climate.eu/cache-compute-0017/cache/data5/adaptor.mars.internal-1711333008.1685407-26095-15-775fe9c9-b7d4-40d4-9e00-ea12a4d1958c.nc to .//inputs/climate/PLEV_201808.nc (4.6M)\n",
      "2024-03-25 03:19:31,970 INFO Download rate 1.6M/s                               \n",
      "2024-03-25 03:19:32,136 INFO Welcome to the CDS\n",
      "2024-03-25 03:19:32,138 INFO Sending request to https://cds.climate.copernicus.eu/api/v2/resources/reanalysis-era5-pressure-levels\n"
     ]
    },
    {
     "name": "stdout",
     "output_type": "stream",
     "text": [
      ".//inputs/climate/PLEV_201808.nc complete\n"
     ]
    },
    {
     "name": "stderr",
     "output_type": "stream",
     "text": [
      "2024-03-25 03:19:32,303 INFO Request is queued\n",
      "2024-03-25 03:21:19,165 INFO Request is running\n",
      "2024-03-25 04:19:21,739 INFO Request is completed\n",
      "2024-03-25 04:19:21,742 INFO Downloading https://download-0007-clone.copernicus-climate.eu/cache-compute-0007/cache/data5/adaptor.mars.internal-1711336602.360626-7346-4-dd5270a7-1298-4de6-a055-b8473bb08ab0.nc to .//inputs/climate/PLEV_201809.nc (4.5M)\n",
      "2024-03-25 04:19:24,810 INFO Download rate 1.5M/s                               \n",
      "2024-03-25 04:19:24,965 INFO Welcome to the CDS\n",
      "2024-03-25 04:19:24,967 INFO Sending request to https://cds.climate.copernicus.eu/api/v2/resources/reanalysis-era5-pressure-levels\n",
      "2024-03-25 04:19:25,066 INFO Request is queued\n"
     ]
    },
    {
     "name": "stdout",
     "output_type": "stream",
     "text": [
      ".//inputs/climate/PLEV_201809.nc complete\n"
     ]
    },
    {
     "name": "stderr",
     "output_type": "stream",
     "text": [
      "2024-03-25 04:20:17,015 INFO Request is running\n",
      "2024-03-25 05:36:20,496 INFO Request is completed\n",
      "2024-03-25 05:36:20,498 INFO Downloading https://download-0013-clone.copernicus-climate.eu/cache-compute-0013/cache/data2/adaptor.mars.internal-1711341143.4709094-22424-11-ea8e74df-3302-4340-b49f-72d348c340af.nc to .//inputs/climate/PLEV_201810.nc (4.6M)\n",
      "2024-03-25 05:36:23,546 INFO Download rate 1.5M/s                               \n",
      "2024-03-25 05:36:23,702 INFO Welcome to the CDS\n",
      "2024-03-25 05:36:23,704 INFO Sending request to https://cds.climate.copernicus.eu/api/v2/resources/reanalysis-era5-pressure-levels\n"
     ]
    },
    {
     "name": "stdout",
     "output_type": "stream",
     "text": [
      ".//inputs/climate/PLEV_201810.nc complete\n"
     ]
    },
    {
     "name": "stderr",
     "output_type": "stream",
     "text": [
      "2024-03-25 05:36:23,863 INFO Request is queued\n",
      "2024-03-25 05:36:44,041 INFO Request is running\n",
      "2024-03-25 10:44:00,832 WARNING Connection error: [HTTPSConnectionPool(host='cds.climate.copernicus.eu', port=443): Max retries exceeded with url: /api/v2/tasks/67535452-0809-488f-a357-413d0909e45d (Caused by NameResolutionError(\"<urllib3.connection.HTTPSConnection object at 0x19a216d30>: Failed to resolve 'cds.climate.copernicus.eu' ([Errno 8] nodename nor servname provided, or not known)\"))]. Attempt 1 of 500.\n",
      "2024-03-25 10:44:00,835 WARNING Retrying in 120 seconds\n",
      "2024-03-25 10:44:02,221 WARNING Connection error: [HTTPSConnectionPool(host='cds.climate.copernicus.eu', port=443): Max retries exceeded with url: /api/v2/tasks/1b84635e-235c-4ca2-a3b0-395581fd471c (Caused by NameResolutionError(\"<urllib3.connection.HTTPSConnection object at 0x19a24d2e0>: Failed to resolve 'cds.climate.copernicus.eu' ([Errno 8] nodename nor servname provided, or not known)\"))]. Attempt 1 of 500.\n",
      "2024-03-25 10:44:02,235 WARNING Retrying in 120 seconds\n",
      "2024-03-25 10:44:03,017 WARNING Connection error: [HTTPSConnectionPool(host='cds.climate.copernicus.eu', port=443): Max retries exceeded with url: /api/v2/tasks/62f3832c-7537-4577-937e-51b1c4067b57 (Caused by NameResolutionError(\"<urllib3.connection.HTTPSConnection object at 0x19a24db80>: Failed to resolve 'cds.climate.copernicus.eu' ([Errno 8] nodename nor servname provided, or not known)\"))]. Attempt 1 of 500.\n",
      "2024-03-25 10:44:03,020 WARNING Retrying in 120 seconds\n",
      "2024-03-25 10:46:34,714 WARNING Connection error: [HTTPSConnectionPool(host='cds.climate.copernicus.eu', port=443): Max retries exceeded with url: /api/v2/tasks/53ae6c8f-b9b9-42b8-a1bd-c57955ba335e (Caused by NameResolutionError(\"<urllib3.connection.HTTPSConnection object at 0x19a1c4430>: Failed to resolve 'cds.climate.copernicus.eu' ([Errno 8] nodename nor servname provided, or not known)\"))]. Attempt 1 of 500.\n",
      "2024-03-25 10:46:34,716 WARNING Retrying in 120 seconds\n",
      "2024-03-25 10:46:36,891 WARNING Connection error: [HTTPSConnectionPool(host='cds.climate.copernicus.eu', port=443): Max retries exceeded with url: /api/v2/tasks/6dac29c1-f41c-44b4-93dc-fa05d5df5a61 (Caused by NameResolutionError(\"<urllib3.connection.HTTPSConnection object at 0x19a1c46a0>: Failed to resolve 'cds.climate.copernicus.eu' ([Errno 8] nodename nor servname provided, or not known)\"))]. Attempt 1 of 500.\n",
      "2024-03-25 10:46:36,894 WARNING Retrying in 120 seconds\n",
      "2024-03-25 10:46:52,151 WARNING Connection error: [HTTPSConnectionPool(host='cds.climate.copernicus.eu', port=443): Max retries exceeded with url: /api/v2/tasks/b6f43985-0d53-412a-a367-c73e1f15fd27 (Caused by NameResolutionError(\"<urllib3.connection.HTTPSConnection object at 0x19a15d550>: Failed to resolve 'cds.climate.copernicus.eu' ([Errno 8] nodename nor servname provided, or not known)\"))]. Attempt 1 of 500.\n",
      "2024-03-25 10:46:52,153 WARNING Retrying in 120 seconds\n",
      "2024-03-25 10:46:54,387 WARNING Connection error: [HTTPSConnectionPool(host='cds.climate.copernicus.eu', port=443): Max retries exceeded with url: /api/v2/tasks/9cd2284f-0ee0-4b28-bbcc-c92565e716d0 (Caused by NameResolutionError(\"<urllib3.connection.HTTPSConnection object at 0x19a15dbe0>: Failed to resolve 'cds.climate.copernicus.eu' ([Errno 8] nodename nor servname provided, or not known)\"))]. Attempt 1 of 500.\n",
      "2024-03-25 10:46:54,391 WARNING Retrying in 120 seconds\n",
      "2024-03-25 10:46:55,208 WARNING Connection error: [HTTPSConnectionPool(host='cds.climate.copernicus.eu', port=443): Max retries exceeded with url: /api/v2/tasks/de0aae2a-268f-4c1c-9d30-41d55d0d0f85 (Caused by NameResolutionError(\"<urllib3.connection.HTTPSConnection object at 0x19a15dcd0>: Failed to resolve 'cds.climate.copernicus.eu' ([Errno 8] nodename nor servname provided, or not known)\"))]. Attempt 1 of 500.\n",
      "2024-03-25 10:46:55,209 WARNING Retrying in 120 seconds\n",
      "2024-03-25 10:46:56,581 WARNING Connection error: [HTTPSConnectionPool(host='cds.climate.copernicus.eu', port=443): Max retries exceeded with url: /api/v2/tasks/58f03fc6-687c-4bac-89c2-822eb8d7c389 (Caused by NameResolutionError(\"<urllib3.connection.HTTPSConnection object at 0x19a1f50d0>: Failed to resolve 'cds.climate.copernicus.eu' ([Errno 8] nodename nor servname provided, or not known)\"))]. Attempt 1 of 500.\n",
      "2024-03-25 10:46:56,583 WARNING Retrying in 120 seconds\n",
      "2024-03-25 10:46:59,714 WARNING Connection error: [('Connection aborted.', TimeoutError(60, 'Operation timed out'))]. Attempt 1 of 500.\n",
      "2024-03-25 10:46:59,716 WARNING Retrying in 120 seconds\n",
      "2024-03-25 11:04:42,254 INFO Retrying now...\n",
      "2024-03-25 11:04:43,658 INFO Retrying now...\n",
      "2024-03-25 11:04:44,439 INFO Retrying now...\n",
      "2024-03-25 11:04:49,247 INFO Retrying now...\n",
      "2024-03-25 11:04:51,430 INFO Retrying now...\n",
      "2024-03-25 11:04:58,685 INFO Retrying now...\n",
      "2024-03-25 11:05:00,927 INFO Retrying now...\n",
      "2024-03-25 11:05:01,740 INFO Retrying now...\n",
      "2024-03-25 11:05:03,116 INFO Retrying now...\n",
      "2024-03-25 11:05:06,249 INFO Retrying now...\n",
      "2024-03-25 11:15:21,297 WARNING Connection error: [('Connection aborted.', TimeoutError(60, 'Operation timed out'))]. Attempt 1 of 500.\n",
      "2024-03-25 11:15:21,323 WARNING Retrying in 120 seconds\n",
      "2024-03-25 11:17:21,334 INFO Retrying now...\n",
      "2024-03-25 11:55:18,359 INFO Request is running\n",
      "2024-03-25 11:55:49,339 INFO Request is completed\n",
      "2024-03-25 11:55:49,341 INFO Downloading https://download-0015-clone.copernicus-climate.eu/cache-compute-0015/cache/data7/adaptor.mars.internal-1711363951.7738287-32118-13-3fc8d022-5b31-4d83-9c64-27a2bcf12cc6.nc to .//inputs/climate/PLEV_201811.nc (4.5M)\n",
      "2024-03-25 11:55:53,515 INFO Download rate 1.1M/s                               \n",
      "2024-03-25 11:55:53,647 INFO Welcome to the CDS\n",
      "2024-03-25 11:55:53,648 INFO Sending request to https://cds.climate.copernicus.eu/api/v2/resources/reanalysis-era5-pressure-levels\n",
      "2024-03-25 11:55:53,761 INFO Request is queued\n"
     ]
    },
    {
     "name": "stdout",
     "output_type": "stream",
     "text": [
      ".//inputs/climate/PLEV_201811.nc complete\n"
     ]
    },
    {
     "name": "stderr",
     "output_type": "stream",
     "text": [
      "2024-03-25 12:57:13,809 INFO Request is running\n",
      "2024-03-25 12:57:27,295 WARNING Connection error: [('Connection aborted.', TimeoutError(60, 'Operation timed out'))]. Attempt 1 of 500.\n",
      "2024-03-25 12:57:27,297 WARNING Retrying in 120 seconds\n",
      "2024-03-25 12:58:00,771 INFO Request is completed\n",
      "2024-03-25 12:58:00,774 INFO Downloading https://download-0020.copernicus-climate.eu/cache-compute-0020/cache/data5/adaptor.mars.internal-1711367472.5416665-15187-13-b8c14061-8fc1-48b3-95ae-57b15f137fa6.nc to .//inputs/climate/PLEV_201812.nc (4.6M)\n",
      "2024-03-25 12:58:01,628 INFO Download rate 5.4M/s                               \n",
      "2024-03-25 12:58:01,733 INFO Welcome to the CDS\n",
      "2024-03-25 12:58:01,735 INFO Sending request to https://cds.climate.copernicus.eu/api/v2/resources/reanalysis-era5-pressure-levels\n"
     ]
    },
    {
     "name": "stdout",
     "output_type": "stream",
     "text": [
      ".//inputs/climate/PLEV_201812.nc complete\n"
     ]
    },
    {
     "name": "stderr",
     "output_type": "stream",
     "text": [
      "2024-03-25 12:58:01,904 INFO Request is queued\n",
      "2024-03-25 12:58:08,370 WARNING Connection error: [HTTPSConnectionPool(host='cds.climate.copernicus.eu', port=443): Read timed out. (read timeout=60)]. Attempt 1 of 500.\n",
      "2024-03-25 12:58:08,372 WARNING Retrying in 120 seconds\n",
      "2024-03-25 12:59:27,310 INFO Retrying now...\n",
      "2024-03-25 13:00:08,380 INFO Retrying now...\n",
      "2024-03-25 13:51:15,275 INFO Request is completed\n",
      "2024-03-25 13:51:15,290 INFO Downloading https://download-0007-clone.copernicus-climate.eu/cache-compute-0007/cache/data5/adaptor.mars.internal-1711370916.7109873-29179-12-5d254e61-2e2f-427b-bcc9-c8c5f355405b.nc to .//inputs/climate/PLEV_201901.nc (4.6M)\n",
      "2024-03-25 13:51:15,956 INFO Download rate 7M/s                                 \n",
      "2024-03-25 13:51:16,040 INFO Welcome to the CDS\n",
      "2024-03-25 13:51:16,040 INFO Sending request to https://cds.climate.copernicus.eu/api/v2/resources/reanalysis-era5-pressure-levels\n"
     ]
    },
    {
     "name": "stdout",
     "output_type": "stream",
     "text": [
      ".//inputs/climate/PLEV_201901.nc complete\n"
     ]
    },
    {
     "name": "stderr",
     "output_type": "stream",
     "text": [
      "2024-03-25 13:51:16,210 INFO Request is queued\n",
      "2024-03-25 13:52:43,417 INFO Request is running\n",
      "2024-03-25 14:48:44,839 INFO Request is completed\n",
      "2024-03-25 14:48:44,859 INFO Downloading https://download-0004-clone.copernicus-climate.eu/cache-compute-0004/cache/data3/adaptor.mars.internal-1711374281.5456197-22981-1-6ad7fea3-47f3-4603-9e1e-a25a519090a6.nc to .//inputs/climate/PLEV_201902.nc (4.2M)\n",
      "2024-03-25 14:48:45,436 INFO Download rate 7.3M/s                               \n",
      "2024-03-25 14:48:45,543 INFO Welcome to the CDS\n",
      "2024-03-25 14:48:45,543 INFO Sending request to https://cds.climate.copernicus.eu/api/v2/resources/reanalysis-era5-pressure-levels\n",
      "2024-03-25 14:48:45,590 INFO Request is queued\n"
     ]
    },
    {
     "name": "stdout",
     "output_type": "stream",
     "text": [
      ".//inputs/climate/PLEV_201902.nc complete\n"
     ]
    },
    {
     "name": "stderr",
     "output_type": "stream",
     "text": [
      "2024-03-25 14:48:57,785 INFO Request is running\n",
      "2024-03-25 15:50:59,687 INFO Request is completed\n",
      "2024-03-25 15:50:59,710 INFO Downloading https://download-0000-clone.copernicus-climate.eu/cache-compute-0000/cache/data8/adaptor.mars.internal-1711378072.9337533-6090-7-bcbdb281-d82c-4318-a9dd-e0492f49f3e2.nc to .//inputs/climate/PLEV_201903.nc (4.6M)\n",
      "2024-03-25 15:51:00,345 INFO Download rate 7.3M/s                               \n",
      "2024-03-25 15:51:00,509 INFO Welcome to the CDS\n",
      "2024-03-25 15:51:00,510 INFO Sending request to https://cds.climate.copernicus.eu/api/v2/resources/reanalysis-era5-pressure-levels\n"
     ]
    },
    {
     "name": "stdout",
     "output_type": "stream",
     "text": [
      ".//inputs/climate/PLEV_201903.nc complete\n"
     ]
    },
    {
     "name": "stderr",
     "output_type": "stream",
     "text": [
      "2024-03-25 15:51:00,633 INFO Request is queued\n",
      "2024-03-25 15:52:27,604 INFO Request is running\n",
      "2024-03-25 16:51:45,858 INFO Request is running\n",
      "2024-03-25 16:52:29,330 INFO Request is completed\n",
      "2024-03-25 16:52:29,332 INFO Downloading https://download-0017.copernicus-climate.eu/cache-compute-0017/cache/data6/adaptor.mars.internal-1711381734.9138203-18552-2-488e0fb6-12bb-4b1a-8432-8ebdd7786be3.nc to .//inputs/climate/PLEV_201904.nc (4.5M)\n",
      "2024-03-25 16:52:30,171 INFO Download rate 5.4M/s                               \n",
      "2024-03-25 16:52:30,262 INFO Welcome to the CDS\n",
      "2024-03-25 16:52:30,264 INFO Sending request to https://cds.climate.copernicus.eu/api/v2/resources/reanalysis-era5-pressure-levels\n",
      "2024-03-25 16:52:30,362 INFO Request is queued\n"
     ]
    },
    {
     "name": "stdout",
     "output_type": "stream",
     "text": [
      ".//inputs/climate/PLEV_201904.nc complete\n"
     ]
    },
    {
     "name": "stderr",
     "output_type": "stream",
     "text": [
      "2024-03-25 17:53:46,474 INFO Request is running\n",
      "2024-03-25 17:53:47,556 INFO Request is completed\n",
      "2024-03-25 17:53:47,557 INFO Downloading https://download-0009-clone.copernicus-climate.eu/cache-compute-0009/cache/data8/adaptor.mars.internal-1711385349.0074916-24680-10-62f3832c-7537-4577-937e-51b1c4067b57.nc to .//inputs/climate/PLEV_201905.nc (4.6M)\n",
      "2024-03-25 17:53:48,236 INFO Download rate 6.8M/s                               \n",
      "2024-03-25 17:53:48,323 INFO Welcome to the CDS\n",
      "2024-03-25 17:53:48,324 INFO Sending request to https://cds.climate.copernicus.eu/api/v2/resources/reanalysis-era5-pressure-levels\n",
      "2024-03-25 17:53:48,469 INFO Request is queued\n"
     ]
    },
    {
     "name": "stdout",
     "output_type": "stream",
     "text": [
      ".//inputs/climate/PLEV_201905.nc complete\n"
     ]
    }
   ],
   "source": [
    "## ========= STEP 1 ==========\n",
    "# Load Configuration\n",
    "config_file = './config_spatial.yml'\n",
    "mp = tc.Topoclass(config_file)\n"
   ]
  },
  {
   "cell_type": "code",
   "execution_count": null,
   "id": "6faf395e-789d-4338-8970-2ab9872b5512",
   "metadata": {},
   "outputs": [],
   "source": []
  },
  {
   "cell_type": "code",
   "execution_count": null,
   "id": "3145cf44-9fec-4f0b-91a7-fcfbcd924f4c",
   "metadata": {},
   "outputs": [],
   "source": []
  },
  {
   "cell_type": "code",
   "execution_count": null,
   "id": "e00392d4-f8fc-4ab5-bb3b-da11bcaabdfb",
   "metadata": {},
   "outputs": [],
   "source": []
  },
  {
   "cell_type": "code",
   "execution_count": null,
   "id": "65e5c43a-8f4d-4a1f-9241-849fe7724ae2",
   "metadata": {},
   "outputs": [],
   "source": []
  },
  {
   "cell_type": "code",
   "execution_count": null,
   "id": "0c5a94bc-5641-44ea-9ba5-51a702308338",
   "metadata": {},
   "outputs": [],
   "source": []
  }
 ],
 "metadata": {
  "kernelspec": {
   "display_name": "Python [conda env:downscaling] *",
   "language": "python",
   "name": "conda-env-downscaling-py"
  },
  "language_info": {
   "codemirror_mode": {
    "name": "ipython",
    "version": 3
   },
   "file_extension": ".py",
   "mimetype": "text/x-python",
   "name": "python",
   "nbconvert_exporter": "python",
   "pygments_lexer": "ipython3",
   "version": "3.9.16"
  }
 },
 "nbformat": 4,
 "nbformat_minor": 5
}
