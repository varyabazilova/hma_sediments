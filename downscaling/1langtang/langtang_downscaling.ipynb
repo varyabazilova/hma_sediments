{
 "cells": [
  {
   "cell_type": "code",
   "execution_count": 1,
   "id": "221b8a8a-2c83-4630-81e5-61c6d412df80",
   "metadata": {},
   "outputs": [],
   "source": [
    "# Load libraries\n",
    "\n",
    "from TopoPyScale import topoclass as tc\n",
    "from TopoPyScale import topo_plot as plot\n",
    "import matplotlib.pyplot as plt\n",
    "\n",
    "import pprint\n",
    "\n",
    "import xarray as xr"
   ]
  },
  {
   "cell_type": "code",
   "execution_count": 2,
   "id": "f8bc999d-8eb7-4d2f-b087-6afcf8d696b2",
   "metadata": {},
   "outputs": [],
   "source": [
    "# make config file\n",
    "# load dem\n",
    "# do dem things\n",
    "# cluster\n",
    "# then use that clusters to downscale\n",
    "# map back\n"
   ]
  },
  {
   "cell_type": "code",
   "execution_count": null,
   "id": "e0173c51-59f9-4963-becf-0a633ead923d",
   "metadata": {},
   "outputs": [],
   "source": [
    "\n"
   ]
  },
  {
   "cell_type": "code",
   "execution_count": null,
   "id": "646f287a-1d61-4c31-9210-12067b27d49c",
   "metadata": {
    "jp-MarkdownHeadingCollapsed": true
   },
   "outputs": [
    {
     "name": "stdout",
     "output_type": "stream",
     "text": [
      "---> Output directory cleaned\n",
      "---> no FSM directory to clean\n",
      "---> no ensemble directory to clean\n",
      "\n",
      "---> DEM file found\n",
      "{'latN': 28, 'latS': 28, 'lonW': 85, 'lonE': 86}\n",
      "Project lat/lon extent:\n",
      "\n",
      "\t------------------------------\n",
      "\t|        North:28          |\n",
      "\t|West:85          East:86|\n",
      "\t|        South:28          |\n",
      "\t------------------------------\n",
      "\n",
      "\n",
      "---> Loading ERA5 surf climate forcing\n",
      "Start =  1997-Dec\n",
      "End =  2023-Dec\n",
      "ECWMF SURF data found:\n",
      "4     SURF_199804.nc\n",
      "5     SURF_199805.nc\n",
      "6     SURF_199806.nc\n",
      "11    SURF_199811.nc\n",
      "12    SURF_199812.nc\n",
      "13    SURF_199901.nc\n",
      "18    SURF_199906.nc\n",
      "19    SURF_199907.nc\n",
      "20    SURF_199908.nc\n",
      "25    SURF_200001.nc\n",
      "26    SURF_200002.nc\n",
      "32    SURF_200008.nc\n",
      "33    SURF_200009.nc\n",
      "39    SURF_200103.nc\n",
      "46    SURF_200110.nc\n",
      "53    SURF_200205.nc\n",
      "54    SURF_200206.nc\n",
      "60    SURF_200212.nc\n",
      "61    SURF_200301.nc\n",
      "66    SURF_200306.nc\n",
      "67    SURF_200307.nc\n",
      "68    SURF_200308.nc\n",
      "72    SURF_200312.nc\n",
      "74    SURF_200402.nc\n",
      "75    SURF_200403.nc\n",
      "81    SURF_200409.nc\n",
      "88    SURF_200504.nc\n",
      "Name: target_file, dtype: object\n",
      "Downloading SURF from ECWMF:\n",
      "0      SURF_199712.nc\n",
      "1      SURF_199801.nc\n",
      "2      SURF_199802.nc\n",
      "3      SURF_199803.nc\n",
      "7      SURF_199807.nc\n",
      "            ...      \n",
      "308    SURF_202308.nc\n",
      "309    SURF_202309.nc\n",
      "310    SURF_202310.nc\n",
      "311    SURF_202311.nc\n",
      "312    SURF_202312.nc\n",
      "Name: target_file, Length: 286, dtype: object\n"
     ]
    },
    {
     "name": "stderr",
     "output_type": "stream",
     "text": [
      "2024-03-08 13:07:09,077 INFO Welcome to the CDS\n",
      "2024-03-08 13:07:09,081 INFO Sending request to https://cds.climate.copernicus.eu/api/v2/resources/reanalysis-era5-single-levels\n",
      "2024-03-08 13:07:09,084 INFO Welcome to the CDS\n",
      "2024-03-08 13:07:09,086 INFO Welcome to the CDS\n",
      "2024-03-08 13:07:09,088 INFO Sending request to https://cds.climate.copernicus.eu/api/v2/resources/reanalysis-era5-single-levels\n",
      "2024-03-08 13:07:09,091 INFO Welcome to the CDS\n",
      "2024-03-08 13:07:09,092 INFO Sending request to https://cds.climate.copernicus.eu/api/v2/resources/reanalysis-era5-single-levels\n",
      "2024-03-08 13:07:09,093 INFO Welcome to the CDS\n",
      "2024-03-08 13:07:09,095 INFO Welcome to the CDS\n",
      "2024-03-08 13:07:09,098 INFO Sending request to https://cds.climate.copernicus.eu/api/v2/resources/reanalysis-era5-single-levels\n",
      "2024-03-08 13:07:09,102 INFO Welcome to the CDS\n",
      "2024-03-08 13:07:09,104 INFO Welcome to the CDS\n",
      "2024-03-08 13:07:09,107 INFO Welcome to the CDS\n",
      "2024-03-08 13:07:09,107 INFO Sending request to https://cds.climate.copernicus.eu/api/v2/resources/reanalysis-era5-single-levels\n",
      "2024-03-08 13:07:09,109 INFO Sending request to https://cds.climate.copernicus.eu/api/v2/resources/reanalysis-era5-single-levels\n",
      "2024-03-08 13:07:09,112 INFO Welcome to the CDS\n",
      "2024-03-08 13:07:09,112 INFO Sending request to https://cds.climate.copernicus.eu/api/v2/resources/reanalysis-era5-single-levels\n",
      "2024-03-08 13:07:09,115 INFO Sending request to https://cds.climate.copernicus.eu/api/v2/resources/reanalysis-era5-single-levels\n",
      "2024-03-08 13:07:09,116 INFO Welcome to the CDS\n",
      "2024-03-08 13:07:09,117 INFO Sending request to https://cds.climate.copernicus.eu/api/v2/resources/reanalysis-era5-single-levels\n",
      "2024-03-08 13:07:09,121 INFO Sending request to https://cds.climate.copernicus.eu/api/v2/resources/reanalysis-era5-single-levels\n",
      "2024-03-08 13:07:09,122 INFO Welcome to the CDS\n",
      "2024-03-08 13:07:09,124 INFO Welcome to the CDS\n",
      "2024-03-08 13:07:09,125 INFO Welcome to the CDS\n",
      "2024-03-08 13:07:09,128 INFO Sending request to https://cds.climate.copernicus.eu/api/v2/resources/reanalysis-era5-single-levels\n",
      "2024-03-08 13:07:09,129 INFO Welcome to the CDS\n",
      "2024-03-08 13:07:09,133 INFO Welcome to the CDS\n",
      "2024-03-08 13:07:09,134 INFO Sending request to https://cds.climate.copernicus.eu/api/v2/resources/reanalysis-era5-single-levels\n",
      "2024-03-08 13:07:09,136 INFO Sending request to https://cds.climate.copernicus.eu/api/v2/resources/reanalysis-era5-single-levels\n",
      "2024-03-08 13:07:09,136 INFO Sending request to https://cds.climate.copernicus.eu/api/v2/resources/reanalysis-era5-single-levels\n",
      "2024-03-08 13:07:09,138 INFO Sending request to https://cds.climate.copernicus.eu/api/v2/resources/reanalysis-era5-single-levels\n",
      "2024-03-08 13:07:09,140 INFO Sending request to https://cds.climate.copernicus.eu/api/v2/resources/reanalysis-era5-single-levels\n",
      "2024-03-08 13:07:09,141 INFO Welcome to the CDS\n",
      "2024-03-08 13:07:09,150 INFO Sending request to https://cds.climate.copernicus.eu/api/v2/resources/reanalysis-era5-single-levels\n",
      "2024-03-08 13:07:09,192 INFO Request is queued\n",
      "2024-03-08 13:07:09,210 INFO Request is queued\n",
      "2024-03-08 13:07:09,240 INFO Request is queued\n",
      "2024-03-08 13:07:09,247 INFO Request is queued\n",
      "2024-03-08 13:07:09,283 INFO Request is queued\n",
      "2024-03-08 13:07:09,294 INFO Request is queued\n",
      "2024-03-08 13:07:09,310 INFO Request is queued\n",
      "2024-03-08 13:07:09,323 INFO Request is queued\n",
      "2024-03-08 13:07:09,325 INFO Request is queued\n",
      "2024-03-08 13:07:09,358 INFO Request is queued\n",
      "2024-03-08 13:07:09,364 INFO Request is queued\n",
      "2024-03-08 13:07:09,399 INFO Request is queued\n",
      "2024-03-08 13:07:09,422 INFO Request is queued\n",
      "2024-03-08 13:07:09,427 INFO Request is queued\n",
      "2024-03-08 13:07:09,431 INFO Request is queued\n",
      "2024-03-08 13:07:09,475 INFO Request is queued\n",
      "2024-03-08 13:07:09,573 INFO Request is completed\n",
      "2024-03-08 13:07:09,575 INFO Downloading https://download-0014-clone.copernicus-climate.eu/cache-compute-0014/cache/data5/adaptor.mars.internal-1709829233.6505513-25146-2-1d5a836a-a48d-4375-86c0-108e9e2d6e4c.nc to .//inputs/climate/SURF_200007.nc (518.1K)\n",
      "2024-03-08 13:07:10,323 INFO Download rate 692.8K/s                             \n",
      "2024-03-08 13:07:10,549 INFO Welcome to the CDS\n",
      "2024-03-08 13:07:10,549 INFO Sending request to https://cds.climate.copernicus.eu/api/v2/resources/reanalysis-era5-single-levels\n"
     ]
    },
    {
     "name": "stdout",
     "output_type": "stream",
     "text": [
      ".//inputs/climate/SURF_200007.nc complete\n"
     ]
    },
    {
     "name": "stderr",
     "output_type": "stream",
     "text": [
      "2024-03-08 13:07:10,738 INFO Request is queued\n"
     ]
    }
   ],
   "source": [
    "## ========= STEP 1 ==========\n",
    "# Load Configuration\n",
    "config_file = './config_spatial.yml'\n",
    "mp = tc.Topoclass(config_file)\n"
   ]
  },
  {
   "cell_type": "code",
   "execution_count": null,
   "id": "6faf395e-789d-4338-8970-2ab9872b5512",
   "metadata": {},
   "outputs": [],
   "source": []
  },
  {
   "cell_type": "code",
   "execution_count": null,
   "id": "3145cf44-9fec-4f0b-91a7-fcfbcd924f4c",
   "metadata": {},
   "outputs": [],
   "source": []
  }
 ],
 "metadata": {
  "kernelspec": {
   "display_name": "Python [conda env:downscaling] *",
   "language": "python",
   "name": "conda-env-downscaling-py"
  },
  "language_info": {
   "codemirror_mode": {
    "name": "ipython",
    "version": 3
   },
   "file_extension": ".py",
   "mimetype": "text/x-python",
   "name": "python",
   "nbconvert_exporter": "python",
   "pygments_lexer": "ipython3",
   "version": "3.9.16"
  }
 },
 "nbformat": 4,
 "nbformat_minor": 5
}
