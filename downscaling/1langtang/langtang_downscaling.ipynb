{
 "cells": [
  {
   "cell_type": "code",
   "execution_count": 1,
   "id": "221b8a8a-2c83-4630-81e5-61c6d412df80",
   "metadata": {},
   "outputs": [],
   "source": [
    "# Load libraries\n",
    "\n",
    "from TopoPyScale import topoclass as tc\n",
    "from TopoPyScale import topo_plot as plot\n",
    "import matplotlib.pyplot as plt\n",
    "\n",
    "import pprint\n",
    "\n",
    "import xarray as xr"
   ]
  },
  {
   "cell_type": "code",
   "execution_count": 2,
   "id": "f8bc999d-8eb7-4d2f-b087-6afcf8d696b2",
   "metadata": {},
   "outputs": [],
   "source": [
    "# make config file\n",
    "# load dem\n",
    "# do dem things\n",
    "# cluster\n",
    "# then use that clusters to downscale\n",
    "# map back\n"
   ]
  },
  {
   "cell_type": "code",
   "execution_count": null,
   "id": "e0173c51-59f9-4963-becf-0a633ead923d",
   "metadata": {},
   "outputs": [],
   "source": [
    "\n"
   ]
  },
  {
   "cell_type": "code",
   "execution_count": null,
   "id": "646f287a-1d61-4c31-9210-12067b27d49c",
   "metadata": {
    "jp-MarkdownHeadingCollapsed": true
   },
   "outputs": [
    {
     "name": "stdout",
     "output_type": "stream",
     "text": [
      "---> Output directory cleaned\n",
      "---> no FSM directory to clean\n",
      "---> no ensemble directory to clean\n",
      "\n",
      "---> DEM file found\n",
      "{'latN': 28, 'latS': 28, 'lonW': 85, 'lonE': 86}\n",
      "Project lat/lon extent:\n",
      "\n",
      "\t------------------------------\n",
      "\t|        North:28          |\n",
      "\t|West:85          East:86|\n",
      "\t|        South:28          |\n",
      "\t------------------------------\n",
      "\n",
      "\n",
      "---> Loading ERA5 surf climate forcing\n",
      "Start =  1997-Dec\n",
      "End =  2023-Dec\n",
      "ECWMF SURF data found:\n",
      "0      SURF_199712.nc\n",
      "1      SURF_199801.nc\n",
      "2      SURF_199802.nc\n",
      "3      SURF_199803.nc\n",
      "4      SURF_199804.nc\n",
      "            ...      \n",
      "308    SURF_202308.nc\n",
      "309    SURF_202309.nc\n",
      "310    SURF_202310.nc\n",
      "311    SURF_202311.nc\n",
      "312    SURF_202312.nc\n",
      "Name: target_file, Length: 313, dtype: object\n",
      "\n",
      "\n",
      "---> Loading ERA5 plev climate forcing\n",
      "Start =  1997-Dec\n",
      "End =  2023-Dec\n",
      "ECWMF PLEV data found:\n",
      "0      PLEV_199712.nc\n",
      "1      PLEV_199801.nc\n",
      "2      PLEV_199802.nc\n",
      "3      PLEV_199803.nc\n",
      "5      PLEV_199805.nc\n",
      "            ...      \n",
      "108    PLEV_200612.nc\n",
      "109    PLEV_200701.nc\n",
      "110    PLEV_200702.nc\n",
      "112    PLEV_200704.nc\n",
      "113    PLEV_200705.nc\n",
      "Name: target_file, Length: 81, dtype: object\n",
      "Downloading PLEV from ECWMF:\n",
      "4      PLEV_199804.nc\n",
      "6      PLEV_199806.nc\n",
      "8      PLEV_199808.nc\n",
      "9      PLEV_199809.nc\n",
      "14     PLEV_199902.nc\n",
      "            ...      \n",
      "308    PLEV_202308.nc\n",
      "309    PLEV_202309.nc\n",
      "310    PLEV_202310.nc\n",
      "311    PLEV_202311.nc\n",
      "312    PLEV_202312.nc\n",
      "Name: target_file, Length: 232, dtype: object\n"
     ]
    },
    {
     "name": "stderr",
     "output_type": "stream",
     "text": [
      "2024-03-15 11:13:51,243 INFO Welcome to the CDS\n",
      "2024-03-15 11:13:51,245 INFO Sending request to https://cds.climate.copernicus.eu/api/v2/resources/reanalysis-era5-pressure-levels\n",
      "2024-03-15 11:13:51,247 INFO Welcome to the CDS\n",
      "2024-03-15 11:13:51,248 INFO Sending request to https://cds.climate.copernicus.eu/api/v2/resources/reanalysis-era5-pressure-levels\n",
      "2024-03-15 11:13:51,250 INFO Welcome to the CDS\n",
      "2024-03-15 11:13:51,250 INFO Welcome to the CDS\n",
      "2024-03-15 11:13:51,251 INFO Sending request to https://cds.climate.copernicus.eu/api/v2/resources/reanalysis-era5-pressure-levels\n",
      "2024-03-15 11:13:51,252 INFO Sending request to https://cds.climate.copernicus.eu/api/v2/resources/reanalysis-era5-pressure-levels\n",
      "2024-03-15 11:13:51,252 INFO Welcome to the CDS\n",
      "2024-03-15 11:13:51,253 INFO Welcome to the CDS\n",
      "2024-03-15 11:13:51,253 INFO Welcome to the CDS\n",
      "2024-03-15 11:13:51,254 INFO Welcome to the CDS\n",
      "2024-03-15 11:13:51,255 INFO Welcome to the CDS\n",
      "2024-03-15 11:13:51,262 INFO Sending request to https://cds.climate.copernicus.eu/api/v2/resources/reanalysis-era5-pressure-levels\n",
      "2024-03-15 11:13:51,257 INFO Sending request to https://cds.climate.copernicus.eu/api/v2/resources/reanalysis-era5-pressure-levels\n",
      "2024-03-15 11:13:51,258 INFO Sending request to https://cds.climate.copernicus.eu/api/v2/resources/reanalysis-era5-pressure-levels\n",
      "2024-03-15 11:13:51,259 INFO Sending request to https://cds.climate.copernicus.eu/api/v2/resources/reanalysis-era5-pressure-levels\n",
      "2024-03-15 11:13:51,260 INFO Sending request to https://cds.climate.copernicus.eu/api/v2/resources/reanalysis-era5-pressure-levels\n",
      "2024-03-15 11:13:51,261 INFO Welcome to the CDS\n",
      "2024-03-15 11:13:51,262 INFO Welcome to the CDS\n",
      "2024-03-15 11:13:51,257 INFO Welcome to the CDS\n",
      "2024-03-15 11:13:51,263 INFO Welcome to the CDS\n",
      "2024-03-15 11:13:51,264 INFO Welcome to the CDS\n",
      "2024-03-15 11:13:51,271 INFO Sending request to https://cds.climate.copernicus.eu/api/v2/resources/reanalysis-era5-pressure-levels\n",
      "2024-03-15 11:13:51,272 INFO Sending request to https://cds.climate.copernicus.eu/api/v2/resources/reanalysis-era5-pressure-levels\n",
      "2024-03-15 11:13:51,272 INFO Sending request to https://cds.climate.copernicus.eu/api/v2/resources/reanalysis-era5-pressure-levels\n",
      "2024-03-15 11:13:51,273 INFO Sending request to https://cds.climate.copernicus.eu/api/v2/resources/reanalysis-era5-pressure-levels\n",
      "2024-03-15 11:13:51,274 INFO Welcome to the CDS\n",
      "2024-03-15 11:13:51,274 INFO Sending request to https://cds.climate.copernicus.eu/api/v2/resources/reanalysis-era5-pressure-levels\n",
      "2024-03-15 11:13:51,275 INFO Welcome to the CDS\n",
      "2024-03-15 11:13:51,277 INFO Welcome to the CDS\n",
      "2024-03-15 11:13:51,282 INFO Sending request to https://cds.climate.copernicus.eu/api/v2/resources/reanalysis-era5-pressure-levels\n",
      "2024-03-15 11:13:51,285 INFO Sending request to https://cds.climate.copernicus.eu/api/v2/resources/reanalysis-era5-pressure-levels\n",
      "2024-03-15 11:13:51,286 INFO Sending request to https://cds.climate.copernicus.eu/api/v2/resources/reanalysis-era5-pressure-levels\n",
      "2024-03-15 11:13:51,323 INFO Request is queued\n",
      "2024-03-15 11:13:51,330 INFO Request is queued\n",
      "2024-03-15 11:13:51,334 INFO Request is queued\n",
      "2024-03-15 11:13:51,348 INFO Request is queued\n",
      "2024-03-15 11:13:51,350 INFO Request is queued\n",
      "2024-03-15 11:13:51,354 INFO Request is queued\n",
      "2024-03-15 11:13:51,354 INFO Request is queued\n",
      "2024-03-15 11:13:51,357 INFO Request is queued\n",
      "2024-03-15 11:13:51,358 INFO Request is queued\n",
      "2024-03-15 11:13:51,362 INFO Request is queued\n",
      "2024-03-15 11:13:51,366 INFO Request is queued\n",
      "2024-03-15 11:13:51,374 INFO Request is queued\n",
      "2024-03-15 11:13:51,437 INFO Request is completed\n",
      "2024-03-15 11:13:51,438 INFO Downloading https://download-0007-clone.copernicus-climate.eu/cache-compute-0007/cache/data8/adaptor.mars.internal-1710460171.2784927-13721-11-9134fd1a-10c5-470d-90b6-f0a545c4b4fe.nc to .//inputs/climate/PLEV_200008.nc (4.6M)\n",
      "2024-03-15 11:13:51,467 INFO Request is completed\n",
      "2024-03-15 11:13:51,470 INFO Request is completed\n",
      "2024-03-15 11:13:51,470 INFO Downloading https://download-0007-clone.copernicus-climate.eu/cache-compute-0007/cache/data9/adaptor.mars.internal-1710449631.8595-10421-13-10f81ae2-22d8-43b4-9672-c4373ab72812.nc to .//inputs/climate/PLEV_200211.nc (4.5M)\n",
      "2024-03-15 11:13:51,471 INFO Downloading https://download-0011-clone.copernicus-climate.eu/cache-compute-0011/cache/data8/adaptor.mars.internal-1710430978.6694877-24090-15-64864042-56dc-4625-97b6-f7ba9527ceb3.nc to .//inputs/climate/PLEV_200607.nc (4.6M)\n",
      "2024-03-15 11:13:51,517 INFO Request is completed\n",
      "2024-03-15 11:13:51,518 INFO Downloading https://download-0020.copernicus-climate.eu/cache-compute-0020/cache/data0/adaptor.mars.internal-1710456767.617478-551-10-e96b5572-f475-4510-a00a-a9820dba90b4.nc to .//inputs/climate/PLEV_200709.nc (4.5M)\n",
      "2024-03-15 11:13:51,520 INFO Request is completed\n",
      "2024-03-15 11:13:51,521 INFO Downloading https://download-0002-clone.copernicus-climate.eu/cache-compute-0002/cache/data3/adaptor.mars.internal-1710427843.9287632-26195-11-31571517-3d73-4491-85ab-d0e4b393ffcf.nc to .//inputs/climate/PLEV_200602.nc (4.2M)\n",
      "\n",
      "  0%|                                               | 0.00/4.64M [00:00<?, ?B/s]\u001b[A\n",
      "\n",
      "  0%|                                               | 0.00/4.64M [00:00<?, ?B/s]\u001b[A\u001b[A\n",
      "\n",
      "\n",
      "\n",
      "  0%|                                               | 0.00/4.19M [00:00<?, ?B/s]\u001b[A\u001b[A\u001b[A\u001b[A\n",
      "\n",
      "\n",
      "  4%|█▋                                     | 198k/4.64M [00:00<00:02, 1.77MB/s]\u001b[A\u001b[A\u001b[A\n",
      "  5%|█▊                                     | 207k/4.49M [00:00<00:02, 1.79MB/s]\u001b[A\n",
      "\n",
      "  4%|█▍                                     | 172k/4.64M [00:00<00:02, 1.74MB/s]\u001b[A\u001b[A\n",
      "\n",
      "\n",
      "\n",
      "  5%|█▊                                     | 204k/4.19M [00:00<00:02, 1.78MB/s]\u001b[A\u001b[A\u001b[A\u001b[A\n",
      "\n",
      "\n",
      " 38%|██████████████▍                       | 1.76M/4.64M [00:00<00:00, 9.89MB/s]\u001b[A\u001b[A\u001b[A\n",
      " 30%|███████████▏                          | 1.33M/4.49M [00:00<00:00, 7.25MB/s]\u001b[A\n",
      "\n",
      " 27%|██████████▍                           | 1.27M/4.64M [00:00<00:00, 7.46MB/s]\u001b[A\u001b[A\n",
      "\n",
      "\n",
      " 22%|████████▍                             | 0.99M/4.49M [00:00<00:00, 5.38MB/s]\u001b[A\u001b[A\u001b[A\n",
      "\n",
      "\n",
      "\n",
      " 19%|███████▏                               | 796k/4.19M [00:00<00:00, 3.61MB/s]\u001b[A\u001b[A\u001b[A\u001b[A\n",
      " 46%|█████████████████▍                    | 2.06M/4.49M [00:00<00:00, 7.20MB/s]\u001b[A\n",
      "\n",
      " 59%|██████████████████████▌               | 2.75M/4.64M [00:00<00:00, 8.50MB/s]\u001b[A\u001b[A\n",
      "\n",
      "\n",
      " 40%|███████████████▎                      | 1.80M/4.49M [00:00<00:00, 6.75MB/s]\u001b[A\u001b[A\u001b[A\n",
      "\n",
      "\n",
      "\n",
      " 39%|██████████████▋                       | 1.62M/4.19M [00:00<00:00, 5.74MB/s]\u001b[A\u001b[A\u001b[A\u001b[A\n",
      " 65%|████████████████████████▌             | 2.90M/4.49M [00:00<00:00, 7.70MB/s]\u001b[A\n",
      "\n",
      " 81%|██████████████████████████████▋       | 3.75M/4.64M [00:00<00:00, 9.17MB/s]\u001b[A\u001b[A\n",
      "\n",
      "\n",
      " 63%|███████████████████████▊              | 2.81M/4.49M [00:00<00:00, 8.21MB/s]\u001b[A\u001b[A\u001b[A\n",
      "\n",
      "\n",
      "\n",
      " 68%|█████████████████████████▋            | 2.83M/4.19M [00:00<00:00, 8.28MB/s]\u001b[A\u001b[A\u001b[A\u001b[A\n",
      "\n",
      "                                                                                \u001b[A\u001b[A2024-03-15 11:13:52,181 INFO Download rate 6.5M/s\n",
      "\n",
      " 81%|██████████████████████████████▊       | 3.65M/4.49M [00:00<00:00, 6.68MB/s]\u001b[A\n",
      "\n",
      "\n",
      "                                                                                \u001b[A\u001b[A\u001b[A2024-03-15 11:13:52,237 INFO Download rate 6.2M/s\n",
      "\n",
      "\n",
      "\n",
      "\n",
      "                                                                                \u001b[A\u001b[A\u001b[A\u001b[A2024-03-15 11:13:52,243 INFO Download rate 5.8M/s\n",
      "2024-03-15 11:13:52,259 INFO Welcome to the CDS\n",
      "2024-03-15 11:13:52,259 INFO Sending request to https://cds.climate.copernicus.eu/api/v2/resources/reanalysis-era5-pressure-levels\n",
      "2024-03-15 11:13:52,301 INFO Request is queued\n",
      "2024-03-15 11:13:52,307 INFO Download rate 5.3M/s                               \n",
      "2024-03-15 11:13:52,316 INFO Welcome to the CDS\n",
      "2024-03-15 11:13:52,317 INFO Sending request to https://cds.climate.copernicus.eu/api/v2/resources/reanalysis-era5-pressure-levels\n",
      "2024-03-15 11:13:52,322 INFO Welcome to the CDS\n",
      "2024-03-15 11:13:52,322 INFO Sending request to https://cds.climate.copernicus.eu/api/v2/resources/reanalysis-era5-pressure-levels\n",
      "\n",
      " 96%|████████████████████████████████████▍ | 4.31M/4.49M [00:00<00:00, 6.03MB/s]\u001b[A2024-03-15 11:13:52,381 INFO Welcome to the CDS\n",
      "2024-03-15 11:13:52,381 INFO Sending request to https://cds.climate.copernicus.eu/api/v2/resources/reanalysis-era5-pressure-levels\n",
      "\n",
      "                                                                                \u001b[A2024-03-15 11:13:52,411 INFO Download rate 4.8M/s\n",
      "2024-03-15 11:13:52,421 INFO Request is queued\n"
     ]
    },
    {
     "name": "stdout",
     "output_type": "stream",
     "text": [
      ".//inputs/climate/PLEV_200607.nc complete\n",
      ".//inputs/climate/PLEV_200602.nc complete\n",
      ".//inputs/climate/PLEV_200709.nc complete\n",
      ".//inputs/climate/PLEV_200008.nc complete\n"
     ]
    },
    {
     "name": "stderr",
     "output_type": "stream",
     "text": [
      "2024-03-15 11:13:52,462 INFO Request is queued\n",
      "2024-03-15 11:13:52,492 INFO Welcome to the CDS\n",
      "2024-03-15 11:13:52,493 INFO Sending request to https://cds.climate.copernicus.eu/api/v2/resources/reanalysis-era5-pressure-levels\n",
      "2024-03-15 11:13:52,587 INFO Request is queued\n",
      "2024-03-15 11:13:52,592 INFO Request is completed\n",
      "2024-03-15 11:13:52,593 INFO Downloading https://download-0006-clone.copernicus-climate.eu/cache-compute-0006/cache/data5/adaptor.mars.internal-1710383119.2082715-27484-16-ece83462-1353-4fd6-a001-09b88d37d189.nc to .//inputs/climate/PLEV_200603.nc (4.6M)\n"
     ]
    },
    {
     "name": "stdout",
     "output_type": "stream",
     "text": [
      ".//inputs/climate/PLEV_200211.nc complete\n"
     ]
    },
    {
     "name": "stderr",
     "output_type": "stream",
     "text": [
      "2024-03-15 11:13:53,081 INFO Download rate 9.5M/s                               \n",
      "2024-03-15 11:13:53,159 INFO Welcome to the CDS\n",
      "2024-03-15 11:13:53,161 INFO Sending request to https://cds.climate.copernicus.eu/api/v2/resources/reanalysis-era5-pressure-levels\n",
      "2024-03-15 11:13:53,272 INFO Request is queued\n"
     ]
    },
    {
     "name": "stdout",
     "output_type": "stream",
     "text": [
      ".//inputs/climate/PLEV_200603.nc complete\n"
     ]
    },
    {
     "name": "stderr",
     "output_type": "stream",
     "text": [
      "2024-03-15 11:20:10,436 INFO Request is completed\n",
      "2024-03-15 11:20:10,443 INFO Downloading https://download-0011-clone.copernicus-climate.eu/cache-compute-0011/cache/data2/adaptor.mars.internal-1710497856.07501-20038-7-9810973e-42aa-40d4-bc04-baaf3f8cc569.nc to .//inputs/climate/PLEV_200609.nc (4.5M)\n",
      "2024-03-15 11:20:10,912 INFO Download rate 9.6M/s                               \n",
      "2024-03-15 11:20:11,015 INFO Welcome to the CDS\n",
      "2024-03-15 11:20:11,017 INFO Sending request to https://cds.climate.copernicus.eu/api/v2/resources/reanalysis-era5-pressure-levels\n",
      "2024-03-15 11:20:11,110 INFO Request is queued\n"
     ]
    },
    {
     "name": "stdout",
     "output_type": "stream",
     "text": [
      ".//inputs/climate/PLEV_200609.nc complete\n"
     ]
    },
    {
     "name": "stderr",
     "output_type": "stream",
     "text": [
      "2024-03-15 13:38:23,816 INFO Request is completed\n",
      "2024-03-15 13:38:23,830 INFO Downloading https://download-0015-clone.copernicus-climate.eu/cache-compute-0015/cache/data8/adaptor.mars.internal-1710506095.0884516-2431-4-fec9274d-cd71-400a-8a7c-a80ae27d6216.nc to .//inputs/climate/PLEV_200505.nc (4.6M)\n",
      "2024-03-15 13:38:24,411 INFO Download rate 8M/s                                 \n",
      "2024-03-15 13:38:24,491 INFO Welcome to the CDS\n",
      "2024-03-15 13:38:24,492 INFO Sending request to https://cds.climate.copernicus.eu/api/v2/resources/reanalysis-era5-pressure-levels\n"
     ]
    },
    {
     "name": "stdout",
     "output_type": "stream",
     "text": [
      ".//inputs/climate/PLEV_200505.nc complete\n"
     ]
    },
    {
     "name": "stderr",
     "output_type": "stream",
     "text": [
      "2024-03-15 13:38:24,697 INFO Request is completed\n",
      "2024-03-15 13:38:24,699 INFO Downloading https://download-0018.copernicus-climate.eu/cache-compute-0018/cache/data3/adaptor.mars.internal-1710329946.6027017-24357-10-fce90794-2973-4a09-9ef4-5e9a49eb6e15.nc to .//inputs/climate/PLEV_200507.nc (4.6M)\n",
      "2024-03-15 13:38:25,608 INFO Download rate 5.1M/s                               \n",
      "2024-03-15 13:38:25,699 INFO Welcome to the CDS\n",
      "2024-03-15 13:38:25,702 INFO Sending request to https://cds.climate.copernicus.eu/api/v2/resources/reanalysis-era5-pressure-levels\n",
      "2024-03-15 13:38:25,810 INFO Request is queued\n"
     ]
    },
    {
     "name": "stdout",
     "output_type": "stream",
     "text": [
      ".//inputs/climate/PLEV_200507.nc complete\n"
     ]
    }
   ],
   "source": [
    "## ========= STEP 1 ==========\n",
    "# Load Configuration\n",
    "config_file = './config_spatial.yml'\n",
    "mp = tc.Topoclass(config_file)\n"
   ]
  },
  {
   "cell_type": "code",
   "execution_count": null,
   "id": "6faf395e-789d-4338-8970-2ab9872b5512",
   "metadata": {},
   "outputs": [],
   "source": []
  },
  {
   "cell_type": "code",
   "execution_count": null,
   "id": "3145cf44-9fec-4f0b-91a7-fcfbcd924f4c",
   "metadata": {},
   "outputs": [],
   "source": []
  },
  {
   "cell_type": "code",
   "execution_count": null,
   "id": "e00392d4-f8fc-4ab5-bb3b-da11bcaabdfb",
   "metadata": {},
   "outputs": [],
   "source": []
  },
  {
   "cell_type": "code",
   "execution_count": null,
   "id": "65e5c43a-8f4d-4a1f-9241-849fe7724ae2",
   "metadata": {},
   "outputs": [],
   "source": []
  },
  {
   "cell_type": "code",
   "execution_count": null,
   "id": "0c5a94bc-5641-44ea-9ba5-51a702308338",
   "metadata": {},
   "outputs": [],
   "source": []
  }
 ],
 "metadata": {
  "kernelspec": {
   "display_name": "Python [conda env:downscaling] *",
   "language": "python",
   "name": "conda-env-downscaling-py"
  },
  "language_info": {
   "codemirror_mode": {
    "name": "ipython",
    "version": 3
   },
   "file_extension": ".py",
   "mimetype": "text/x-python",
   "name": "python",
   "nbconvert_exporter": "python",
   "pygments_lexer": "ipython3",
   "version": "3.9.16"
  }
 },
 "nbformat": 4,
 "nbformat_minor": 5
}
