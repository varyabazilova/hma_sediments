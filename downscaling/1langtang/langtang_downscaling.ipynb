{
 "cells": [
  {
   "cell_type": "code",
   "execution_count": 1,
   "id": "221b8a8a-2c83-4630-81e5-61c6d412df80",
   "metadata": {},
   "outputs": [],
   "source": [
    "# Load libraries\n",
    "\n",
    "from TopoPyScale import topoclass as tc\n",
    "from TopoPyScale import topo_plot as plot\n",
    "import matplotlib.pyplot as plt\n",
    "\n",
    "import pprint\n",
    "\n",
    "import xarray as xr"
   ]
  },
  {
   "cell_type": "code",
   "execution_count": 2,
   "id": "f8bc999d-8eb7-4d2f-b087-6afcf8d696b2",
   "metadata": {},
   "outputs": [],
   "source": [
    "# make config file\n",
    "# load dem\n",
    "# do dem things\n",
    "# cluster\n",
    "# then use that clusters to downscale\n",
    "# map back\n"
   ]
  },
  {
   "cell_type": "code",
   "execution_count": null,
   "id": "e0173c51-59f9-4963-becf-0a633ead923d",
   "metadata": {},
   "outputs": [],
   "source": [
    "\n"
   ]
  },
  {
   "cell_type": "code",
   "execution_count": null,
   "id": "646f287a-1d61-4c31-9210-12067b27d49c",
   "metadata": {
    "jp-MarkdownHeadingCollapsed": true
   },
   "outputs": [
    {
     "name": "stdout",
     "output_type": "stream",
     "text": [
      "---> Output directory cleaned\n",
      "---> no FSM directory to clean\n",
      "---> no ensemble directory to clean\n",
      "\n",
      "---> DEM file found\n",
      "{'latN': 28, 'latS': 28, 'lonW': 85, 'lonE': 86}\n",
      "Project lat/lon extent:\n",
      "\n",
      "\t------------------------------\n",
      "\t|        North:28          |\n",
      "\t|West:85          East:86|\n",
      "\t|        South:28          |\n",
      "\t------------------------------\n",
      "\n",
      "\n",
      "---> Loading ERA5 surf climate forcing\n",
      "Start =  1997-Dec\n",
      "End =  2023-Dec\n",
      "ECWMF SURF data found:\n",
      "0      SURF_199712.nc\n",
      "1      SURF_199801.nc\n",
      "2      SURF_199802.nc\n",
      "3      SURF_199803.nc\n",
      "4      SURF_199804.nc\n",
      "            ...      \n",
      "308    SURF_202308.nc\n",
      "309    SURF_202309.nc\n",
      "310    SURF_202310.nc\n",
      "311    SURF_202311.nc\n",
      "312    SURF_202312.nc\n",
      "Name: target_file, Length: 313, dtype: object\n",
      "\n",
      "\n",
      "---> Loading ERA5 plev climate forcing\n",
      "Start =  1997-Dec\n",
      "End =  2023-Dec\n",
      "ECWMF PLEV data found:\n",
      "0     PLEV_199712.nc\n",
      "1     PLEV_199801.nc\n",
      "2     PLEV_199802.nc\n",
      "3     PLEV_199803.nc\n",
      "5     PLEV_199805.nc\n",
      "7     PLEV_199807.nc\n",
      "10    PLEV_199810.nc\n",
      "12    PLEV_199812.nc\n",
      "15    PLEV_199903.nc\n",
      "17    PLEV_199905.nc\n",
      "22    PLEV_199910.nc\n",
      "25    PLEV_200001.nc\n",
      "26    PLEV_200002.nc\n",
      "28    PLEV_200004.nc\n",
      "33    PLEV_200009.nc\n",
      "34    PLEV_200010.nc\n",
      "35    PLEV_200011.nc\n",
      "36    PLEV_200012.nc\n",
      "38    PLEV_200102.nc\n",
      "40    PLEV_200104.nc\n",
      "43    PLEV_200107.nc\n",
      "45    PLEV_200109.nc\n",
      "46    PLEV_200110.nc\n",
      "49    PLEV_200201.nc\n",
      "50    PLEV_200202.nc\n",
      "54    PLEV_200206.nc\n",
      "55    PLEV_200207.nc\n",
      "56    PLEV_200208.nc\n",
      "60    PLEV_200212.nc\n",
      "61    PLEV_200301.nc\n",
      "62    PLEV_200302.nc\n",
      "65    PLEV_200305.nc\n",
      "67    PLEV_200307.nc\n",
      "68    PLEV_200308.nc\n",
      "70    PLEV_200310.nc\n",
      "71    PLEV_200311.nc\n",
      "72    PLEV_200312.nc\n",
      "73    PLEV_200401.nc\n",
      "74    PLEV_200402.nc\n",
      "75    PLEV_200403.nc\n",
      "76    PLEV_200404.nc\n",
      "79    PLEV_200407.nc\n",
      "80    PLEV_200408.nc\n",
      "81    PLEV_200409.nc\n",
      "82    PLEV_200410.nc\n",
      "85    PLEV_200501.nc\n",
      "86    PLEV_200502.nc\n",
      "90    PLEV_200506.nc\n",
      "Name: target_file, dtype: object\n",
      "Downloading PLEV from ECWMF:\n",
      "4      PLEV_199804.nc\n",
      "6      PLEV_199806.nc\n",
      "8      PLEV_199808.nc\n",
      "9      PLEV_199809.nc\n",
      "11     PLEV_199811.nc\n",
      "            ...      \n",
      "308    PLEV_202308.nc\n",
      "309    PLEV_202309.nc\n",
      "310    PLEV_202310.nc\n",
      "311    PLEV_202311.nc\n",
      "312    PLEV_202312.nc\n",
      "Name: target_file, Length: 265, dtype: object\n"
     ]
    },
    {
     "name": "stderr",
     "output_type": "stream",
     "text": [
      "2024-03-14 12:01:43,284 INFO Welcome to the CDS\n",
      "2024-03-14 12:01:43,285 INFO Welcome to the CDS\n",
      "2024-03-14 12:01:43,285 INFO Sending request to https://cds.climate.copernicus.eu/api/v2/resources/reanalysis-era5-pressure-levels\n",
      "2024-03-14 12:01:43,285 INFO Sending request to https://cds.climate.copernicus.eu/api/v2/resources/reanalysis-era5-pressure-levels\n",
      "2024-03-14 12:01:43,286 INFO Welcome to the CDS\n",
      "2024-03-14 12:01:43,288 INFO Sending request to https://cds.climate.copernicus.eu/api/v2/resources/reanalysis-era5-pressure-levels\n",
      "2024-03-14 12:01:43,292 INFO Welcome to the CDS\n",
      "2024-03-14 12:01:43,293 INFO Sending request to https://cds.climate.copernicus.eu/api/v2/resources/reanalysis-era5-pressure-levels\n",
      "2024-03-14 12:01:43,295 INFO Welcome to the CDS\n",
      "2024-03-14 12:01:43,296 INFO Welcome to the CDS\n",
      "2024-03-14 12:01:43,296 INFO Sending request to https://cds.climate.copernicus.eu/api/v2/resources/reanalysis-era5-pressure-levels\n",
      "2024-03-14 12:01:43,296 INFO Welcome to the CDS\n",
      "2024-03-14 12:01:43,297 INFO Sending request to https://cds.climate.copernicus.eu/api/v2/resources/reanalysis-era5-pressure-levels\n",
      "2024-03-14 12:01:43,299 INFO Welcome to the CDS\n",
      "2024-03-14 12:01:43,299 INFO Welcome to the CDS\n",
      "2024-03-14 12:01:43,300 INFO Sending request to https://cds.climate.copernicus.eu/api/v2/resources/reanalysis-era5-pressure-levels\n",
      "2024-03-14 12:01:43,302 INFO Welcome to the CDS\n",
      "2024-03-14 12:01:43,302 INFO Sending request to https://cds.climate.copernicus.eu/api/v2/resources/reanalysis-era5-pressure-levels\n",
      "2024-03-14 12:01:43,303 INFO Sending request to https://cds.climate.copernicus.eu/api/v2/resources/reanalysis-era5-pressure-levels\n",
      "2024-03-14 12:01:43,304 INFO Sending request to https://cds.climate.copernicus.eu/api/v2/resources/reanalysis-era5-pressure-levels\n",
      "2024-03-14 12:01:43,310 INFO Welcome to the CDS\n",
      "2024-03-14 12:01:43,311 INFO Welcome to the CDS\n",
      "2024-03-14 12:01:43,311 INFO Sending request to https://cds.climate.copernicus.eu/api/v2/resources/reanalysis-era5-pressure-levels\n",
      "2024-03-14 12:01:43,312 INFO Welcome to the CDS\n",
      "2024-03-14 12:01:43,314 INFO Welcome to the CDS\n",
      "2024-03-14 12:01:43,314 INFO Sending request to https://cds.climate.copernicus.eu/api/v2/resources/reanalysis-era5-pressure-levels\n",
      "2024-03-14 12:01:43,318 INFO Welcome to the CDS\n",
      "2024-03-14 12:01:43,325 INFO Welcome to the CDS\n",
      "2024-03-14 12:01:43,331 INFO Welcome to the CDS\n",
      "2024-03-14 12:01:43,351 INFO Sending request to https://cds.climate.copernicus.eu/api/v2/resources/reanalysis-era5-pressure-levels\n",
      "2024-03-14 12:01:43,359 INFO Sending request to https://cds.climate.copernicus.eu/api/v2/resources/reanalysis-era5-pressure-levels\n",
      "2024-03-14 12:01:43,365 INFO Sending request to https://cds.climate.copernicus.eu/api/v2/resources/reanalysis-era5-pressure-levels\n",
      "2024-03-14 12:01:43,370 INFO Request is queued\n",
      "2024-03-14 12:01:43,370 INFO Sending request to https://cds.climate.copernicus.eu/api/v2/resources/reanalysis-era5-pressure-levels\n",
      "2024-03-14 12:01:43,372 INFO Request is queued\n",
      "2024-03-14 12:01:43,374 INFO Sending request to https://cds.climate.copernicus.eu/api/v2/resources/reanalysis-era5-pressure-levels\n",
      "2024-03-14 12:01:43,403 INFO Request is queued\n",
      "2024-03-14 12:01:43,420 INFO Request is queued\n",
      "2024-03-14 12:01:43,425 INFO Request is queued\n",
      "2024-03-14 12:01:43,427 INFO Request is queued\n",
      "2024-03-14 12:01:43,431 INFO Request is queued\n",
      "2024-03-14 12:01:43,434 INFO Request is queued\n",
      "2024-03-14 12:01:43,455 INFO Request is queued\n",
      "2024-03-14 12:01:43,464 INFO Request is completed\n",
      "2024-03-14 12:01:43,464 INFO Downloading https://download-0008-clone.copernicus-climate.eu/cache-compute-0008/cache/data9/adaptor.mars.internal-1710385982.9895601-16612-7-2fc5c1f8-f3b3-48da-a28e-9358a78d6bcc.nc to .//inputs/climate/PLEV_200111.nc (4.5M)\n",
      "2024-03-14 12:01:43,467 INFO Request is completed\n",
      "2024-03-14 12:01:43,468 INFO Downloading https://download-0012-clone.copernicus-climate.eu/cache-compute-0012/cache/data5/adaptor.mars.internal-1710380278.8056612-16330-6-2eb96e8f-f901-4ad6-b2d9-a9f87cd2793f.nc to .//inputs/climate/PLEV_200608.nc (4.6M)\n",
      "2024-03-14 12:01:43,487 INFO Request is queued\n",
      "2024-03-14 12:01:43,489 INFO Request is completed\n",
      "2024-03-14 12:01:43,490 INFO Downloading https://download-0013-clone.copernicus-climate.eu/cache-compute-0013/cache/data0/adaptor.mars.internal-1710364592.993106-22543-15-59967225-2c96-4d4b-9388-f1ec20df8b51.nc to .//inputs/climate/PLEV_199911.nc (4.5M)\n",
      "2024-03-14 12:01:43,493 INFO Request is queued\n",
      "2024-03-14 12:01:43,577 INFO Request is completed\n",
      "2024-03-14 12:01:43,578 INFO Downloading https://download-0014-clone.copernicus-climate.eu/cache-compute-0014/cache/data6/adaptor.mars.internal-1710366792.2106447-18962-15-fb09fdfe-d40f-4398-8e8e-79db41ac3e10.nc to .//inputs/climate/PLEV_199906.nc (4.5M)\n",
      "2024-03-14 12:01:43,580 INFO Request is queued\n",
      "2024-03-14 12:01:43,582 INFO Request is queued\n",
      "  0%|                                               | 0.00/4.64M [00:00<?, ?B/s]\n",
      "  0%|                                               | 0.00/4.49M [00:00<?, ?B/s]\u001b[A\n",
      "\n",
      "  0%|                                               | 0.00/4.49M [00:00<?, ?B/s]\u001b[A\u001b[A\n",
      "\n",
      "\n",
      "  4%|█▋                                     | 206k/4.64M [00:00<00:02, 1.79MB/s]\u001b[A\u001b[A\u001b[A\n",
      "  4%|█▌                                     | 188k/4.49M [00:00<00:02, 1.93MB/s]\u001b[A\n",
      "\n",
      " 42%|███████████████▊                      | 1.93M/4.64M [00:00<00:00, 10.8MB/s]\u001b[A\u001b[A\n",
      " 22%|████████▍                              | 996k/4.49M [00:00<00:00, 5.66MB/s]\u001b[A\n",
      "\n",
      "\n",
      "  4%|█▋                                     | 199k/4.49M [00:00<00:03, 1.27MB/s]\u001b[A\u001b[A\u001b[A\n",
      "\n",
      " 65%|████████████████████████▊             | 3.02M/4.64M [00:00<00:00, 10.2MB/s]\u001b[A\u001b[A\n",
      " 50%|███████████████████▏                  | 2.27M/4.49M [00:00<00:00, 8.71MB/s]\u001b[A\n",
      "\n",
      "\n",
      " 18%|███████▏                               | 842k/4.49M [00:00<00:01, 3.37MB/s]\u001b[A\u001b[A\u001b[A\n",
      "\n",
      "2024-03-14 12:01:44,100 INFO Download rate 7.3M/s                               \u001b[A\u001b[A\n",
      "\n",
      "                                                                                \u001b[A2024-03-14 12:01:44,115 INFO Download rate 7.2M/s\n",
      "2024-03-14 12:01:44,182 INFO Welcome to the CDS\n",
      "2024-03-14 12:01:44,183 INFO Sending request to https://cds.climate.copernicus.eu/api/v2/resources/reanalysis-era5-pressure-levels\n",
      "\n",
      "\n",
      "\n",
      " 27%|██████████▍                           | 1.23M/4.49M [00:00<00:00, 3.44MB/s]\u001b[A\u001b[A\u001b[A2024-03-14 12:01:44,190 INFO Welcome to the CDS\n",
      "2024-03-14 12:01:44,191 INFO Sending request to https://cds.climate.copernicus.eu/api/v2/resources/reanalysis-era5-pressure-levels\n",
      "\n",
      "\n",
      " 38%|██████████████▌                       | 1.72M/4.49M [00:00<00:00, 4.29MB/s]\u001b[A\u001b[A2024-03-14 12:01:44,248 INFO Request is queued\n",
      "2024-03-14 12:01:44,265 INFO Request is queued\n",
      "\n",
      "\n",
      " 48%|██████████████████▏                   | 2.14M/4.49M [00:00<00:00, 4.20MB/s]\u001b[A\u001b[A\n",
      "\n",
      "\n",
      " 37%|██████████████                        | 1.66M/4.49M [00:00<00:00, 3.48MB/s]\u001b[A\u001b[A\u001b[A"
     ]
    },
    {
     "name": "stdout",
     "output_type": "stream",
     "text": [
      ".//inputs/climate/PLEV_200608.nc complete\n",
      ".//inputs/climate/PLEV_199911.nc complete\n"
     ]
    },
    {
     "name": "stderr",
     "output_type": "stream",
     "text": [
      "\n",
      "\n",
      " 57%|█████████████████████▊                | 2.57M/4.49M [00:00<00:00, 4.21MB/s]\u001b[A\u001b[A\n",
      "\n",
      "\n",
      " 47%|█████████████████▊                    | 2.10M/4.49M [00:00<00:00, 3.60MB/s]\u001b[A\u001b[A\u001b[A\n",
      "\n",
      " 67%|█████████████████████████▌            | 3.02M/4.49M [00:00<00:00, 4.28MB/s]\u001b[A\u001b[A\n",
      "\n",
      "\n",
      " 57%|█████████████████████▌                | 2.55M/4.49M [00:00<00:00, 3.68MB/s]\u001b[A\u001b[A\u001b[A\n",
      "\n",
      " 77%|█████████████████████████████▎        | 3.46M/4.49M [00:00<00:00, 4.36MB/s]\u001b[A\u001b[A\n",
      "\n",
      "\n",
      " 66%|█████████████████████████▏            | 2.98M/4.49M [00:00<00:00, 3.85MB/s]\u001b[A\u001b[A\u001b[A\n",
      "\n",
      " 87%|█████████████████████████████████▏    | 3.92M/4.49M [00:00<00:00, 4.37MB/s]\u001b[A\u001b[A\n",
      "\n",
      "\n",
      " 75%|████████████████████████████▎         | 3.35M/4.49M [00:00<00:00, 3.87MB/s]\u001b[A\u001b[A\u001b[A\n",
      "\n",
      " 97%|█████████████████████████████████████ | 4.38M/4.49M [00:01<00:00, 4.43MB/s]\u001b[A\u001b[A\n",
      "\n",
      "                                                                                \u001b[A\u001b[A2024-03-14 12:01:44,849 INFO Download rate 3.2M/s\n",
      "\n",
      "\n",
      "\n",
      " 83%|███████████████████████████████▌      | 3.73M/4.49M [00:01<00:00, 3.91MB/s]\u001b[A\u001b[A\u001b[A2024-03-14 12:01:44,928 INFO Welcome to the CDS\n",
      "2024-03-14 12:01:44,929 INFO Sending request to https://cds.climate.copernicus.eu/api/v2/resources/reanalysis-era5-pressure-levels\n",
      "\n",
      "\n",
      "\n",
      " 93%|███████████████████████████████████▎  | 4.16M/4.49M [00:01<00:00, 4.07MB/s]\u001b[A\u001b[A\u001b[A2024-03-14 12:01:45,024 INFO Request is queued\n",
      "\n",
      "\n",
      "\n",
      "                                                                                \u001b[A\u001b[A\u001b[A2024-03-14 12:01:45,053 INFO Download rate 3M/s\n"
     ]
    },
    {
     "name": "stdout",
     "output_type": "stream",
     "text": [
      ".//inputs/climate/PLEV_200111.nc complete\n"
     ]
    },
    {
     "name": "stderr",
     "output_type": "stream",
     "text": [
      "2024-03-14 12:01:45,138 INFO Welcome to the CDS\n",
      "2024-03-14 12:01:45,139 INFO Sending request to https://cds.climate.copernicus.eu/api/v2/resources/reanalysis-era5-pressure-levels\n",
      "2024-03-14 12:01:45,206 INFO Request is queued\n"
     ]
    },
    {
     "name": "stdout",
     "output_type": "stream",
     "text": [
      ".//inputs/climate/PLEV_199906.nc complete\n"
     ]
    },
    {
     "name": "stderr",
     "output_type": "stream",
     "text": [
      "2024-03-14 12:54:06,552 INFO Request is completed\n",
      "2024-03-14 12:54:06,553 INFO Downloading https://download-0020.copernicus-climate.eu/cache-compute-0020/cache/data7/adaptor.mars.internal-1710417017.5017588-22771-1-8b2d8265-6ac2-4458-834b-5d86b36819f8.nc to .//inputs/climate/PLEV_200205.nc (4.6M)\n",
      "2024-03-14 12:54:07,250 INFO Download rate 6.7M/s                               \n",
      "2024-03-14 12:54:07,335 INFO Welcome to the CDS\n",
      "2024-03-14 12:54:07,336 INFO Sending request to https://cds.climate.copernicus.eu/api/v2/resources/reanalysis-era5-pressure-levels\n",
      "2024-03-14 12:54:07,491 INFO Request is completed\n",
      "2024-03-14 12:54:07,493 INFO Downloading https://download-0014-clone.copernicus-climate.eu/cache-compute-0014/cache/data0/adaptor.mars.internal-1710346305.6340017-26761-5-b8a5be33-0541-4e91-97b5-79f996229f2a.nc to .//inputs/climate/PLEV_200209.nc (4.5M)\n"
     ]
    },
    {
     "name": "stdout",
     "output_type": "stream",
     "text": [
      ".//inputs/climate/PLEV_200205.nc complete\n"
     ]
    },
    {
     "name": "stderr",
     "output_type": "stream",
     "text": [
      "2024-03-14 12:54:08,015 INFO Download rate 8.6M/s                               \n",
      "2024-03-14 12:54:08,091 INFO Welcome to the CDS\n",
      "2024-03-14 12:54:08,092 INFO Sending request to https://cds.climate.copernicus.eu/api/v2/resources/reanalysis-era5-pressure-levels\n",
      "2024-03-14 12:54:08,201 INFO Request is queued\n"
     ]
    },
    {
     "name": "stdout",
     "output_type": "stream",
     "text": [
      ".//inputs/climate/PLEV_200209.nc complete\n"
     ]
    },
    {
     "name": "stderr",
     "output_type": "stream",
     "text": [
      "2024-03-14 13:40:11,220 INFO Request is completed\n",
      "2024-03-14 13:40:11,227 INFO Downloading https://download-0014-clone.copernicus-climate.eu/cache-compute-0014/cache/data7/adaptor.mars.internal-1710419770.08793-22549-15-d8f10e87-762d-4823-bc0b-edeba33ef58d.nc to .//inputs/climate/PLEV_200303.nc (4.6M)\n",
      "2024-03-14 13:40:11,706 INFO Download rate 9.7M/s                               \n",
      "2024-03-14 13:40:11,782 INFO Welcome to the CDS\n",
      "2024-03-14 13:40:11,783 INFO Sending request to https://cds.climate.copernicus.eu/api/v2/resources/reanalysis-era5-pressure-levels\n"
     ]
    },
    {
     "name": "stdout",
     "output_type": "stream",
     "text": [
      ".//inputs/climate/PLEV_200303.nc complete\n"
     ]
    },
    {
     "name": "stderr",
     "output_type": "stream",
     "text": [
      "2024-03-14 13:40:11,968 INFO Request is completed\n",
      "2024-03-14 13:40:11,970 INFO Downloading https://download-0013-clone.copernicus-climate.eu/cache-compute-0013/cache/data4/adaptor.mars.internal-1710391587.3798707-2709-10-b289c431-719e-41b2-9e43-3574ef5bb6a4.nc to .//inputs/climate/PLEV_200304.nc (4.5M)\n",
      "2024-03-14 13:40:12,598 INFO Download rate 7.2M/s                               \n",
      "2024-03-14 13:40:12,673 INFO Welcome to the CDS\n",
      "2024-03-14 13:40:12,674 INFO Sending request to https://cds.climate.copernicus.eu/api/v2/resources/reanalysis-era5-pressure-levels\n"
     ]
    },
    {
     "name": "stdout",
     "output_type": "stream",
     "text": [
      ".//inputs/climate/PLEV_200304.nc complete\n"
     ]
    },
    {
     "name": "stderr",
     "output_type": "stream",
     "text": [
      "2024-03-14 13:40:12,898 INFO Request is completed\n",
      "2024-03-14 13:40:12,900 INFO Downloading https://download-0019.copernicus-climate.eu/cache-compute-0019/cache/data7/adaptor.mars.internal-1710258213.2670603-2259-7-4303394e-5736-4be3-a255-9bb4f5ba30ac.nc to .//inputs/climate/PLEV_200306.nc (4.5M)\n",
      "2024-03-14 13:40:13,526 INFO Download rate 7.2M/s                               \n",
      "2024-03-14 13:40:13,602 INFO Welcome to the CDS\n",
      "2024-03-14 13:40:13,603 INFO Sending request to https://cds.climate.copernicus.eu/api/v2/resources/reanalysis-era5-pressure-levels\n",
      "2024-03-14 13:40:13,678 INFO Request is queued\n"
     ]
    },
    {
     "name": "stdout",
     "output_type": "stream",
     "text": [
      ".//inputs/climate/PLEV_200306.nc complete\n"
     ]
    }
   ],
   "source": [
    "## ========= STEP 1 ==========\n",
    "# Load Configuration\n",
    "config_file = './config_spatial.yml'\n",
    "mp = tc.Topoclass(config_file)\n"
   ]
  },
  {
   "cell_type": "code",
   "execution_count": null,
   "id": "6faf395e-789d-4338-8970-2ab9872b5512",
   "metadata": {},
   "outputs": [],
   "source": []
  },
  {
   "cell_type": "code",
   "execution_count": null,
   "id": "3145cf44-9fec-4f0b-91a7-fcfbcd924f4c",
   "metadata": {},
   "outputs": [],
   "source": []
  },
  {
   "cell_type": "code",
   "execution_count": null,
   "id": "e00392d4-f8fc-4ab5-bb3b-da11bcaabdfb",
   "metadata": {},
   "outputs": [],
   "source": []
  },
  {
   "cell_type": "code",
   "execution_count": null,
   "id": "65e5c43a-8f4d-4a1f-9241-849fe7724ae2",
   "metadata": {},
   "outputs": [],
   "source": []
  },
  {
   "cell_type": "code",
   "execution_count": null,
   "id": "0c5a94bc-5641-44ea-9ba5-51a702308338",
   "metadata": {},
   "outputs": [],
   "source": []
  }
 ],
 "metadata": {
  "kernelspec": {
   "display_name": "Python [conda env:downscaling] *",
   "language": "python",
   "name": "conda-env-downscaling-py"
  },
  "language_info": {
   "codemirror_mode": {
    "name": "ipython",
    "version": 3
   },
   "file_extension": ".py",
   "mimetype": "text/x-python",
   "name": "python",
   "nbconvert_exporter": "python",
   "pygments_lexer": "ipython3",
   "version": "3.9.16"
  }
 },
 "nbformat": 4,
 "nbformat_minor": 5
}
