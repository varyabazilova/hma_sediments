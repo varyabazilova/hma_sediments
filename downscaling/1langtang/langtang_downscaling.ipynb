{
 "cells": [
  {
   "cell_type": "code",
   "execution_count": 1,
   "id": "221b8a8a-2c83-4630-81e5-61c6d412df80",
   "metadata": {},
   "outputs": [],
   "source": [
    "# Load libraries\n",
    "\n",
    "from TopoPyScale import topoclass as tc\n",
    "from TopoPyScale import topo_plot as plot\n",
    "import matplotlib.pyplot as plt\n",
    "\n",
    "import pprint\n",
    "\n",
    "import xarray as xr"
   ]
  },
  {
   "cell_type": "code",
   "execution_count": 2,
   "id": "f8bc999d-8eb7-4d2f-b087-6afcf8d696b2",
   "metadata": {},
   "outputs": [],
   "source": [
    "# make config file\n",
    "# load dem\n",
    "# do dem things\n",
    "# cluster\n",
    "# then use that clusters to downscale\n",
    "# map back\n",
    "\n"
   ]
  },
  {
   "cell_type": "code",
   "execution_count": null,
   "id": "e0173c51-59f9-4963-becf-0a633ead923d",
   "metadata": {},
   "outputs": [],
   "source": [
    "\n"
   ]
  },
  {
   "cell_type": "code",
   "execution_count": null,
   "id": "646f287a-1d61-4c31-9210-12067b27d49c",
   "metadata": {
    "jp-MarkdownHeadingCollapsed": true
   },
   "outputs": [
    {
     "name": "stdout",
     "output_type": "stream",
     "text": [
      "---> Output directory cleaned\n",
      "---> no FSM directory to clean\n",
      "---> no ensemble directory to clean\n",
      "\n",
      "---> DEM file found\n",
      "{'latN': 28, 'latS': 28, 'lonW': 85, 'lonE': 86}\n",
      "Project lat/lon extent:\n",
      "\n",
      "\t------------------------------\n",
      "\t|        North:28          |\n",
      "\t|West:85          East:86|\n",
      "\t|        South:28          |\n",
      "\t------------------------------\n",
      "\n",
      "\n",
      "---> Loading ERA5 surf climate forcing\n",
      "Start =  1986-Jan\n",
      "End =  2023-Dec\n",
      "ECWMF SURF data found:\n",
      "0      SURF_198601.nc\n",
      "1      SURF_198602.nc\n",
      "2      SURF_198603.nc\n",
      "3      SURF_198604.nc\n",
      "4      SURF_198605.nc\n",
      "            ...      \n",
      "203    SURF_200212.nc\n",
      "210    SURF_200307.nc\n",
      "217    SURF_200402.nc\n",
      "224    SURF_200409.nc\n",
      "231    SURF_200504.nc\n",
      "Name: target_file, Length: 143, dtype: object\n",
      "Downloading SURF from ECWMF:\n",
      "121    SURF_199602.nc\n",
      "122    SURF_199603.nc\n",
      "123    SURF_199604.nc\n",
      "124    SURF_199605.nc\n",
      "125    SURF_199606.nc\n",
      "            ...      \n",
      "451    SURF_202308.nc\n",
      "452    SURF_202309.nc\n",
      "453    SURF_202310.nc\n",
      "454    SURF_202311.nc\n",
      "455    SURF_202312.nc\n",
      "Name: target_file, Length: 313, dtype: object\n"
     ]
    },
    {
     "name": "stderr",
     "output_type": "stream",
     "text": [
      "2024-03-07 10:25:48,177 INFO Welcome to the CDS\n",
      "2024-03-07 10:25:48,178 INFO Welcome to the CDS\n",
      "2024-03-07 10:25:48,178 INFO Welcome to the CDS\n",
      "2024-03-07 10:25:48,178 INFO Sending request to https://cds.climate.copernicus.eu/api/v2/resources/reanalysis-era5-single-levels\n",
      "2024-03-07 10:25:48,179 INFO Welcome to the CDS\n",
      "2024-03-07 10:25:48,179 INFO Sending request to https://cds.climate.copernicus.eu/api/v2/resources/reanalysis-era5-single-levels\n",
      "2024-03-07 10:25:48,180 INFO Sending request to https://cds.climate.copernicus.eu/api/v2/resources/reanalysis-era5-single-levels\n",
      "2024-03-07 10:25:48,182 INFO Sending request to https://cds.climate.copernicus.eu/api/v2/resources/reanalysis-era5-single-levels\n",
      "2024-03-07 10:25:48,186 INFO Welcome to the CDS\n",
      "2024-03-07 10:25:48,187 INFO Sending request to https://cds.climate.copernicus.eu/api/v2/resources/reanalysis-era5-single-levels\n",
      "2024-03-07 10:25:48,198 INFO Welcome to the CDS\n",
      "2024-03-07 10:25:48,200 INFO Welcome to the CDS\n",
      "2024-03-07 10:25:48,200 INFO Sending request to https://cds.climate.copernicus.eu/api/v2/resources/reanalysis-era5-single-levels\n",
      "2024-03-07 10:25:48,201 INFO Sending request to https://cds.climate.copernicus.eu/api/v2/resources/reanalysis-era5-single-levels\n",
      "2024-03-07 10:25:48,201 INFO Welcome to the CDS\n",
      "2024-03-07 10:25:48,203 INFO Welcome to the CDS\n",
      "2024-03-07 10:25:48,203 INFO Welcome to the CDS\n",
      "2024-03-07 10:25:48,204 INFO Welcome to the CDS\n",
      "2024-03-07 10:25:48,205 INFO Welcome to the CDS\n",
      "2024-03-07 10:25:48,208 INFO Sending request to https://cds.climate.copernicus.eu/api/v2/resources/reanalysis-era5-single-levels\n",
      "2024-03-07 10:25:48,209 INFO Welcome to the CDS\n",
      "2024-03-07 10:25:48,210 INFO Sending request to https://cds.climate.copernicus.eu/api/v2/resources/reanalysis-era5-single-levels\n",
      "2024-03-07 10:25:48,210 INFO Sending request to https://cds.climate.copernicus.eu/api/v2/resources/reanalysis-era5-single-levels\n",
      "2024-03-07 10:25:48,211 INFO Sending request to https://cds.climate.copernicus.eu/api/v2/resources/reanalysis-era5-single-levels\n",
      "2024-03-07 10:25:48,212 INFO Sending request to https://cds.climate.copernicus.eu/api/v2/resources/reanalysis-era5-single-levels\n",
      "2024-03-07 10:25:48,214 INFO Welcome to the CDS\n",
      "2024-03-07 10:25:48,216 INFO Welcome to the CDS\n",
      "2024-03-07 10:25:48,216 INFO Sending request to https://cds.climate.copernicus.eu/api/v2/resources/reanalysis-era5-single-levels\n",
      "2024-03-07 10:25:48,219 INFO Welcome to the CDS\n",
      "2024-03-07 10:25:48,219 INFO Welcome to the CDS\n",
      "2024-03-07 10:25:48,225 INFO Sending request to https://cds.climate.copernicus.eu/api/v2/resources/reanalysis-era5-single-levels\n",
      "2024-03-07 10:25:48,226 INFO Sending request to https://cds.climate.copernicus.eu/api/v2/resources/reanalysis-era5-single-levels\n",
      "2024-03-07 10:25:48,229 INFO Sending request to https://cds.climate.copernicus.eu/api/v2/resources/reanalysis-era5-single-levels\n",
      "2024-03-07 10:25:48,231 INFO Sending request to https://cds.climate.copernicus.eu/api/v2/resources/reanalysis-era5-single-levels\n",
      "2024-03-07 10:25:48,243 INFO Request is queued\n",
      "2024-03-07 10:25:48,249 INFO Request is queued\n",
      "2024-03-07 10:25:48,254 INFO Request is queued\n",
      "2024-03-07 10:25:48,256 INFO Request is queued\n",
      "2024-03-07 10:25:48,262 INFO Request is queued\n",
      "2024-03-07 10:25:48,262 INFO Request is queued\n",
      "2024-03-07 10:25:48,270 INFO Request is queued\n",
      "2024-03-07 10:25:48,273 INFO Request is queued\n",
      "2024-03-07 10:25:48,279 INFO Request is queued\n",
      "2024-03-07 10:25:48,284 INFO Request is queued\n",
      "2024-03-07 10:25:48,286 INFO Request is queued\n",
      "2024-03-07 10:25:48,293 INFO Request is queued\n",
      "2024-03-07 10:25:48,299 INFO Request is queued\n",
      "2024-03-07 10:25:48,309 INFO Request is queued\n",
      "2024-03-07 10:25:48,312 INFO Request is queued\n",
      "2024-03-07 10:25:48,338 INFO Request is queued\n",
      "2024-03-07 10:25:48,340 INFO Request is queued\n",
      "2024-03-07 10:36:07,385 INFO Request is completed\n",
      "2024-03-07 10:36:07,388 INFO Downloading https://download-0016.copernicus-climate.eu/cache-compute-0016/cache/data7/adaptor.mars.internal-1709804053.037202-20617-12-e91d7bf1-77fb-46da-b413-6d33ef88c741.nc to .//inputs/climate/SURF_200002.nc (484.9K)\n",
      "2024-03-07 10:36:07,748 INFO Download rate 1.3M/s                               \n",
      "2024-03-07 10:36:07,829 INFO Welcome to the CDS\n",
      "2024-03-07 10:36:07,830 INFO Sending request to https://cds.climate.copernicus.eu/api/v2/resources/reanalysis-era5-single-levels\n",
      "2024-03-07 10:36:07,911 INFO Request is queued\n"
     ]
    },
    {
     "name": "stdout",
     "output_type": "stream",
     "text": [
      ".//inputs/climate/SURF_200002.nc complete\n"
     ]
    },
    {
     "name": "stderr",
     "output_type": "stream",
     "text": [
      "2024-03-07 11:46:14,054 INFO Request is completed\n",
      "2024-03-07 11:46:14,061 INFO Downloading https://download-0009-clone.copernicus-climate.eu/cache-compute-0009/cache/data4/adaptor.mars.internal-1709808351.8949945-3174-7-20a00a81-d6ff-4874-80e9-f1d0bead8091.nc to .//inputs/climate/SURF_200301.nc (518.1K)\n",
      "2024-03-07 11:46:14,424 INFO Download rate 1.4M/s                               \n",
      "2024-03-07 11:46:14,523 INFO Welcome to the CDS\n",
      "2024-03-07 11:46:14,526 INFO Sending request to https://cds.climate.copernicus.eu/api/v2/resources/reanalysis-era5-single-levels\n",
      "2024-03-07 11:46:14,605 INFO Request is queued\n"
     ]
    },
    {
     "name": "stdout",
     "output_type": "stream",
     "text": [
      ".//inputs/climate/SURF_200301.nc complete\n"
     ]
    }
   ],
   "source": [
    "## ========= STEP 1 ==========\n",
    "# Load Configuration\n",
    "config_file = './config_spatial.yml'\n",
    "mp = tc.Topoclass(config_file)\n"
   ]
  },
  {
   "cell_type": "code",
   "execution_count": null,
   "id": "6faf395e-789d-4338-8970-2ab9872b5512",
   "metadata": {},
   "outputs": [],
   "source": []
  },
  {
   "cell_type": "code",
   "execution_count": null,
   "id": "3145cf44-9fec-4f0b-91a7-fcfbcd924f4c",
   "metadata": {},
   "outputs": [],
   "source": []
  }
 ],
 "metadata": {
  "kernelspec": {
   "display_name": "Python [conda env:downscaling] *",
   "language": "python",
   "name": "conda-env-downscaling-py"
  },
  "language_info": {
   "codemirror_mode": {
    "name": "ipython",
    "version": 3
   },
   "file_extension": ".py",
   "mimetype": "text/x-python",
   "name": "python",
   "nbconvert_exporter": "python",
   "pygments_lexer": "ipython3",
   "version": "3.9.16"
  }
 },
 "nbformat": 4,
 "nbformat_minor": 5
}
